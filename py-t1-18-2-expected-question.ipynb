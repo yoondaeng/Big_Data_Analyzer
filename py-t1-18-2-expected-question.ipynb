{
 "cells": [
  {
   "cell_type": "markdown",
   "id": "6bce0a65",
   "metadata": {
    "papermill": {
     "duration": 0.01063,
     "end_time": "2025-06-20T05:47:37.822370",
     "exception": false,
     "start_time": "2025-06-20T05:47:37.811740",
     "status": "completed"
    },
    "tags": []
   },
   "source": [
    "## 주어진 데이터에서 2022년 5월 주말과 평일의 sales컬럼 평균값 차이를 절대값으로 구하시오 (소수점 둘째자리까지 출력, 반올림)\n",
    "- 데이터셋 : basic2.csv\n",
    "- 오른쪽 상단 copy&edit 클릭 -> 예상문제 풀이 시작"
   ]
  },
  {
   "cell_type": "code",
   "execution_count": 1,
   "id": "49694f77",
   "metadata": {
    "_cell_guid": "b1076dfc-b9ad-4769-8c92-a6c4dae69d19",
    "_uuid": "8f2839f25d086af736a60e9eeb907d3b93b6e0e5",
    "execution": {
     "iopub.execute_input": "2025-06-20T05:47:37.853915Z",
     "iopub.status.busy": "2025-06-20T05:47:37.853242Z",
     "iopub.status.idle": "2025-06-20T05:47:37.856976Z",
     "shell.execute_reply": "2025-06-20T05:47:37.857693Z",
     "shell.execute_reply.started": "2025-06-20T05:30:45.515954Z"
    },
    "papermill": {
     "duration": 0.02597,
     "end_time": "2025-06-20T05:47:37.858032",
     "exception": false,
     "start_time": "2025-06-20T05:47:37.832062",
     "status": "completed"
    },
    "tags": []
   },
   "outputs": [],
   "source": [
    "# 라이브러리 불러오기\n",
    "import pandas as pd"
   ]
  },
  {
   "cell_type": "code",
   "execution_count": 2,
   "id": "2b9e30da",
   "metadata": {
    "execution": {
     "iopub.execute_input": "2025-06-20T05:47:37.891164Z",
     "iopub.status.busy": "2025-06-20T05:47:37.890025Z",
     "iopub.status.idle": "2025-06-20T05:47:37.911399Z",
     "shell.execute_reply": "2025-06-20T05:47:37.910789Z",
     "shell.execute_reply.started": "2025-06-20T05:30:45.549342Z"
    },
    "papermill": {
     "duration": 0.042045,
     "end_time": "2025-06-20T05:47:37.911546",
     "exception": false,
     "start_time": "2025-06-20T05:47:37.869501",
     "status": "completed"
    },
    "tags": []
   },
   "outputs": [],
   "source": [
    "# 데이터 불러오기 (datatime컬럼 지정)\n",
    "df = pd.read_csv(\"../input/bigdatacertificationkr/basic2.csv\", parse_dates=['Date'])"
   ]
  },
  {
   "cell_type": "code",
   "execution_count": 3,
   "id": "69f65e4d",
   "metadata": {
    "execution": {
     "iopub.execute_input": "2025-06-20T05:47:37.940070Z",
     "iopub.status.busy": "2025-06-20T05:47:37.939172Z",
     "iopub.status.idle": "2025-06-20T05:47:37.953416Z",
     "shell.execute_reply": "2025-06-20T05:47:37.952641Z",
     "shell.execute_reply.started": "2025-06-20T05:31:01.912459Z"
    },
    "papermill": {
     "duration": 0.032916,
     "end_time": "2025-06-20T05:47:37.953599",
     "exception": false,
     "start_time": "2025-06-20T05:47:37.920683",
     "status": "completed"
    },
    "tags": []
   },
   "outputs": [
    {
     "data": {
      "text/html": [
       "<div>\n",
       "<style scoped>\n",
       "    .dataframe tbody tr th:only-of-type {\n",
       "        vertical-align: middle;\n",
       "    }\n",
       "\n",
       "    .dataframe tbody tr th {\n",
       "        vertical-align: top;\n",
       "    }\n",
       "\n",
       "    .dataframe thead th {\n",
       "        text-align: right;\n",
       "    }\n",
       "</style>\n",
       "<table border=\"1\" class=\"dataframe\">\n",
       "  <thead>\n",
       "    <tr style=\"text-align: right;\">\n",
       "      <th></th>\n",
       "      <th>Date</th>\n",
       "      <th>Sales</th>\n",
       "      <th>PV</th>\n",
       "      <th>UV</th>\n",
       "      <th>Events</th>\n",
       "    </tr>\n",
       "  </thead>\n",
       "  <tbody>\n",
       "    <tr>\n",
       "      <th>0</th>\n",
       "      <td>2022-01-01</td>\n",
       "      <td>22711525</td>\n",
       "      <td>397349</td>\n",
       "      <td>4421.0</td>\n",
       "      <td>1</td>\n",
       "    </tr>\n",
       "    <tr>\n",
       "      <th>1</th>\n",
       "      <td>2022-01-02</td>\n",
       "      <td>36779</td>\n",
       "      <td>3969</td>\n",
       "      <td>2289.0</td>\n",
       "      <td>0</td>\n",
       "    </tr>\n",
       "    <tr>\n",
       "      <th>2</th>\n",
       "      <td>2022-01-03</td>\n",
       "      <td>13943875</td>\n",
       "      <td>373890</td>\n",
       "      <td>NaN</td>\n",
       "      <td>1</td>\n",
       "    </tr>\n",
       "    <tr>\n",
       "      <th>3</th>\n",
       "      <td>2022-01-04</td>\n",
       "      <td>8088593</td>\n",
       "      <td>142054</td>\n",
       "      <td>2157.0</td>\n",
       "      <td>0</td>\n",
       "    </tr>\n",
       "    <tr>\n",
       "      <th>4</th>\n",
       "      <td>2022-01-05</td>\n",
       "      <td>2395374</td>\n",
       "      <td>190684</td>\n",
       "      <td>NaN</td>\n",
       "      <td>0</td>\n",
       "    </tr>\n",
       "  </tbody>\n",
       "</table>\n",
       "</div>"
      ],
      "text/plain": [
       "        Date     Sales      PV      UV  Events\n",
       "0 2022-01-01  22711525  397349  4421.0       1\n",
       "1 2022-01-02     36779    3969  2289.0       0\n",
       "2 2022-01-03  13943875  373890     NaN       1\n",
       "3 2022-01-04   8088593  142054  2157.0       0\n",
       "4 2022-01-05   2395374  190684     NaN       0"
      ]
     },
     "execution_count": 3,
     "metadata": {},
     "output_type": "execute_result"
    }
   ],
   "source": [
    "df.head()"
   ]
  },
  {
   "cell_type": "code",
   "execution_count": 4,
   "id": "a877a3f3",
   "metadata": {
    "execution": {
     "iopub.execute_input": "2025-06-20T05:47:37.998867Z",
     "iopub.status.busy": "2025-06-20T05:47:37.985114Z",
     "iopub.status.idle": "2025-06-20T05:47:38.005377Z",
     "shell.execute_reply": "2025-06-20T05:47:38.004690Z",
     "shell.execute_reply.started": "2025-06-20T05:31:06.339098Z"
    },
    "papermill": {
     "duration": 0.036662,
     "end_time": "2025-06-20T05:47:38.005520",
     "exception": false,
     "start_time": "2025-06-20T05:47:37.968858",
     "status": "completed"
    },
    "tags": []
   },
   "outputs": [
    {
     "name": "stdout",
     "output_type": "stream",
     "text": [
      "<class 'pandas.core.frame.DataFrame'>\n",
      "RangeIndex: 730 entries, 0 to 729\n",
      "Data columns (total 5 columns):\n",
      " #   Column  Non-Null Count  Dtype         \n",
      "---  ------  --------------  -----         \n",
      " 0   Date    730 non-null    datetime64[ns]\n",
      " 1   Sales   730 non-null    int64         \n",
      " 2   PV      730 non-null    int64         \n",
      " 3   UV      684 non-null    float64       \n",
      " 4   Events  730 non-null    int64         \n",
      "dtypes: datetime64[ns](1), float64(1), int64(3)\n",
      "memory usage: 28.6 KB\n"
     ]
    }
   ],
   "source": [
    "df.info()"
   ]
  },
  {
   "cell_type": "code",
   "execution_count": 5,
   "id": "e1cd9cf6",
   "metadata": {
    "execution": {
     "iopub.execute_input": "2025-06-20T05:47:38.033462Z",
     "iopub.status.busy": "2025-06-20T05:47:38.031320Z",
     "iopub.status.idle": "2025-06-20T05:47:38.038634Z",
     "shell.execute_reply": "2025-06-20T05:47:38.038004Z",
     "shell.execute_reply.started": "2022-11-15T16:18:00.407131Z"
    },
    "papermill": {
     "duration": 0.023354,
     "end_time": "2025-06-20T05:47:38.038780",
     "exception": false,
     "start_time": "2025-06-20T05:47:38.015426",
     "status": "completed"
    },
    "tags": []
   },
   "outputs": [],
   "source": [
    "df['year'] = df['Date'].dt.year\n",
    "df['month'] = df['Date'].dt.month\n",
    "df['day'] = df['Date'].dt.day\n",
    "df['dayofweek'] = df['Date'].dt.dayofweek"
   ]
  },
  {
   "cell_type": "code",
   "execution_count": 6,
   "id": "9bc013f5",
   "metadata": {
    "execution": {
     "iopub.execute_input": "2025-06-20T05:47:38.074151Z",
     "iopub.status.busy": "2025-06-20T05:47:38.073209Z",
     "iopub.status.idle": "2025-06-20T05:47:38.077362Z",
     "shell.execute_reply": "2025-06-20T05:47:38.076737Z",
     "shell.execute_reply.started": "2025-06-20T05:33:49.111222Z"
    },
    "papermill": {
     "duration": 0.02908,
     "end_time": "2025-06-20T05:47:38.077500",
     "exception": false,
     "start_time": "2025-06-20T05:47:38.048420",
     "status": "completed"
    },
    "tags": []
   },
   "outputs": [
    {
     "data": {
      "text/html": [
       "<div>\n",
       "<style scoped>\n",
       "    .dataframe tbody tr th:only-of-type {\n",
       "        vertical-align: middle;\n",
       "    }\n",
       "\n",
       "    .dataframe tbody tr th {\n",
       "        vertical-align: top;\n",
       "    }\n",
       "\n",
       "    .dataframe thead th {\n",
       "        text-align: right;\n",
       "    }\n",
       "</style>\n",
       "<table border=\"1\" class=\"dataframe\">\n",
       "  <thead>\n",
       "    <tr style=\"text-align: right;\">\n",
       "      <th></th>\n",
       "      <th>Date</th>\n",
       "      <th>Sales</th>\n",
       "      <th>PV</th>\n",
       "      <th>UV</th>\n",
       "      <th>Events</th>\n",
       "      <th>year</th>\n",
       "      <th>month</th>\n",
       "      <th>day</th>\n",
       "      <th>dayofweek</th>\n",
       "    </tr>\n",
       "  </thead>\n",
       "  <tbody>\n",
       "    <tr>\n",
       "      <th>0</th>\n",
       "      <td>2022-01-01</td>\n",
       "      <td>22711525</td>\n",
       "      <td>397349</td>\n",
       "      <td>4421.0</td>\n",
       "      <td>1</td>\n",
       "      <td>2022</td>\n",
       "      <td>1</td>\n",
       "      <td>1</td>\n",
       "      <td>5</td>\n",
       "    </tr>\n",
       "    <tr>\n",
       "      <th>1</th>\n",
       "      <td>2022-01-02</td>\n",
       "      <td>36779</td>\n",
       "      <td>3969</td>\n",
       "      <td>2289.0</td>\n",
       "      <td>0</td>\n",
       "      <td>2022</td>\n",
       "      <td>1</td>\n",
       "      <td>2</td>\n",
       "      <td>6</td>\n",
       "    </tr>\n",
       "    <tr>\n",
       "      <th>2</th>\n",
       "      <td>2022-01-03</td>\n",
       "      <td>13943875</td>\n",
       "      <td>373890</td>\n",
       "      <td>NaN</td>\n",
       "      <td>1</td>\n",
       "      <td>2022</td>\n",
       "      <td>1</td>\n",
       "      <td>3</td>\n",
       "      <td>0</td>\n",
       "    </tr>\n",
       "    <tr>\n",
       "      <th>3</th>\n",
       "      <td>2022-01-04</td>\n",
       "      <td>8088593</td>\n",
       "      <td>142054</td>\n",
       "      <td>2157.0</td>\n",
       "      <td>0</td>\n",
       "      <td>2022</td>\n",
       "      <td>1</td>\n",
       "      <td>4</td>\n",
       "      <td>1</td>\n",
       "    </tr>\n",
       "    <tr>\n",
       "      <th>4</th>\n",
       "      <td>2022-01-05</td>\n",
       "      <td>2395374</td>\n",
       "      <td>190684</td>\n",
       "      <td>NaN</td>\n",
       "      <td>0</td>\n",
       "      <td>2022</td>\n",
       "      <td>1</td>\n",
       "      <td>5</td>\n",
       "      <td>2</td>\n",
       "    </tr>\n",
       "  </tbody>\n",
       "</table>\n",
       "</div>"
      ],
      "text/plain": [
       "        Date     Sales      PV      UV  Events  year  month  day  dayofweek\n",
       "0 2022-01-01  22711525  397349  4421.0       1  2022      1    1          5\n",
       "1 2022-01-02     36779    3969  2289.0       0  2022      1    2          6\n",
       "2 2022-01-03  13943875  373890     NaN       1  2022      1    3          0\n",
       "3 2022-01-04   8088593  142054  2157.0       0  2022      1    4          1\n",
       "4 2022-01-05   2395374  190684     NaN       0  2022      1    5          2"
      ]
     },
     "execution_count": 6,
     "metadata": {},
     "output_type": "execute_result"
    }
   ],
   "source": [
    "df.head()"
   ]
  },
  {
   "cell_type": "code",
   "execution_count": 7,
   "id": "7ed9a992",
   "metadata": {
    "execution": {
     "iopub.execute_input": "2025-06-20T05:47:38.108433Z",
     "iopub.status.busy": "2025-06-20T05:47:38.107682Z",
     "iopub.status.idle": "2025-06-20T05:47:38.111026Z",
     "shell.execute_reply": "2025-06-20T05:47:38.111818Z",
     "shell.execute_reply.started": "2025-06-20T05:42:25.479209Z"
    },
    "papermill": {
     "duration": 0.024469,
     "end_time": "2025-06-20T05:47:38.112082",
     "exception": false,
     "start_time": "2025-06-20T05:47:38.087613",
     "status": "completed"
    },
    "tags": []
   },
   "outputs": [
    {
     "name": "stdout",
     "output_type": "stream",
     "text": [
      "Help on method apply in module pandas.core.frame:\n",
      "\n",
      "apply(func: 'AggFuncType', axis: 'Axis' = 0, raw: 'bool' = False, result_type=None, args=(), **kwargs) method of pandas.core.frame.DataFrame instance\n",
      "    Apply a function along an axis of the DataFrame.\n",
      "    \n",
      "    Objects passed to the function are Series objects whose index is\n",
      "    either the DataFrame's index (``axis=0``) or the DataFrame's columns\n",
      "    (``axis=1``). By default (``result_type=None``), the final return type\n",
      "    is inferred from the return type of the applied function. Otherwise,\n",
      "    it depends on the `result_type` argument.\n",
      "    \n",
      "    Parameters\n",
      "    ----------\n",
      "    func : function\n",
      "        Function to apply to each column or row.\n",
      "    axis : {0 or 'index', 1 or 'columns'}, default 0\n",
      "        Axis along which the function is applied:\n",
      "    \n",
      "        * 0 or 'index': apply function to each column.\n",
      "        * 1 or 'columns': apply function to each row.\n",
      "    \n",
      "    raw : bool, default False\n",
      "        Determines if row or column is passed as a Series or ndarray object:\n",
      "    \n",
      "        * ``False`` : passes each row or column as a Series to the\n",
      "          function.\n",
      "        * ``True`` : the passed function will receive ndarray objects\n",
      "          instead.\n",
      "          If you are just applying a NumPy reduction function this will\n",
      "          achieve much better performance.\n",
      "    \n",
      "    result_type : {'expand', 'reduce', 'broadcast', None}, default None\n",
      "        These only act when ``axis=1`` (columns):\n",
      "    \n",
      "        * 'expand' : list-like results will be turned into columns.\n",
      "        * 'reduce' : returns a Series if possible rather than expanding\n",
      "          list-like results. This is the opposite of 'expand'.\n",
      "        * 'broadcast' : results will be broadcast to the original shape\n",
      "          of the DataFrame, the original index and columns will be\n",
      "          retained.\n",
      "    \n",
      "        The default behaviour (None) depends on the return value of the\n",
      "        applied function: list-like results will be returned as a Series\n",
      "        of those. However if the apply function returns a Series these\n",
      "        are expanded to columns.\n",
      "    args : tuple\n",
      "        Positional arguments to pass to `func` in addition to the\n",
      "        array/series.\n",
      "    **kwargs\n",
      "        Additional keyword arguments to pass as keywords arguments to\n",
      "        `func`.\n",
      "    \n",
      "    Returns\n",
      "    -------\n",
      "    Series or DataFrame\n",
      "        Result of applying ``func`` along the given axis of the\n",
      "        DataFrame.\n",
      "    \n",
      "    See Also\n",
      "    --------\n",
      "    DataFrame.applymap: For elementwise operations.\n",
      "    DataFrame.aggregate: Only perform aggregating type operations.\n",
      "    DataFrame.transform: Only perform transforming type operations.\n",
      "    \n",
      "    Notes\n",
      "    -----\n",
      "    Functions that mutate the passed object can produce unexpected\n",
      "    behavior or errors and are not supported. See :ref:`gotchas.udf-mutation`\n",
      "    for more details.\n",
      "    \n",
      "    Examples\n",
      "    --------\n",
      "    >>> df = pd.DataFrame([[4, 9]] * 3, columns=['A', 'B'])\n",
      "    >>> df\n",
      "       A  B\n",
      "    0  4  9\n",
      "    1  4  9\n",
      "    2  4  9\n",
      "    \n",
      "    Using a numpy universal function (in this case the same as\n",
      "    ``np.sqrt(df)``):\n",
      "    \n",
      "    >>> df.apply(np.sqrt)\n",
      "         A    B\n",
      "    0  2.0  3.0\n",
      "    1  2.0  3.0\n",
      "    2  2.0  3.0\n",
      "    \n",
      "    Using a reducing function on either axis\n",
      "    \n",
      "    >>> df.apply(np.sum, axis=0)\n",
      "    A    12\n",
      "    B    27\n",
      "    dtype: int64\n",
      "    \n",
      "    >>> df.apply(np.sum, axis=1)\n",
      "    0    13\n",
      "    1    13\n",
      "    2    13\n",
      "    dtype: int64\n",
      "    \n",
      "    Returning a list-like will result in a Series\n",
      "    \n",
      "    >>> df.apply(lambda x: [1, 2], axis=1)\n",
      "    0    [1, 2]\n",
      "    1    [1, 2]\n",
      "    2    [1, 2]\n",
      "    dtype: object\n",
      "    \n",
      "    Passing ``result_type='expand'`` will expand list-like results\n",
      "    to columns of a Dataframe\n",
      "    \n",
      "    >>> df.apply(lambda x: [1, 2], axis=1, result_type='expand')\n",
      "       0  1\n",
      "    0  1  2\n",
      "    1  1  2\n",
      "    2  1  2\n",
      "    \n",
      "    Returning a Series inside the function is similar to passing\n",
      "    ``result_type='expand'``. The resulting column names\n",
      "    will be the Series index.\n",
      "    \n",
      "    >>> df.apply(lambda x: pd.Series([1, 2], index=['foo', 'bar']), axis=1)\n",
      "       foo  bar\n",
      "    0    1    2\n",
      "    1    1    2\n",
      "    2    1    2\n",
      "    \n",
      "    Passing ``result_type='broadcast'`` will ensure the same shape\n",
      "    result, whether list-like or scalar is returned by the function,\n",
      "    and broadcast it along the axis. The resulting column names will\n",
      "    be the originals.\n",
      "    \n",
      "    >>> df.apply(lambda x: [1, 2], axis=1, result_type='broadcast')\n",
      "       A  B\n",
      "    0  1  2\n",
      "    1  1  2\n",
      "    2  1  2\n",
      "\n",
      "None\n"
     ]
    }
   ],
   "source": [
    "# 주말이면 True, 평일이면 False가 되는 새 컬럼 weekend 생성\n",
    "df['weekend'] = df['dayofweek'].apply(lambda x: x>=5)\n",
    "print(help(df.apply))"
   ]
  },
  {
   "cell_type": "code",
   "execution_count": 8,
   "id": "3e048660",
   "metadata": {
    "execution": {
     "iopub.execute_input": "2025-06-20T05:47:38.151546Z",
     "iopub.status.busy": "2025-06-20T05:47:38.150647Z",
     "iopub.status.idle": "2025-06-20T05:47:38.154108Z",
     "shell.execute_reply": "2025-06-20T05:47:38.154620Z",
     "shell.execute_reply.started": "2025-06-20T05:43:54.199541Z"
    },
    "papermill": {
     "duration": 0.031352,
     "end_time": "2025-06-20T05:47:38.154817",
     "exception": false,
     "start_time": "2025-06-20T05:47:38.123465",
     "status": "completed"
    },
    "tags": []
   },
   "outputs": [
    {
     "data": {
      "text/html": [
       "<div>\n",
       "<style scoped>\n",
       "    .dataframe tbody tr th:only-of-type {\n",
       "        vertical-align: middle;\n",
       "    }\n",
       "\n",
       "    .dataframe tbody tr th {\n",
       "        vertical-align: top;\n",
       "    }\n",
       "\n",
       "    .dataframe thead th {\n",
       "        text-align: right;\n",
       "    }\n",
       "</style>\n",
       "<table border=\"1\" class=\"dataframe\">\n",
       "  <thead>\n",
       "    <tr style=\"text-align: right;\">\n",
       "      <th></th>\n",
       "      <th>Date</th>\n",
       "      <th>Sales</th>\n",
       "      <th>PV</th>\n",
       "      <th>UV</th>\n",
       "      <th>Events</th>\n",
       "      <th>year</th>\n",
       "      <th>month</th>\n",
       "      <th>day</th>\n",
       "      <th>dayofweek</th>\n",
       "      <th>weekend</th>\n",
       "    </tr>\n",
       "  </thead>\n",
       "  <tbody>\n",
       "    <tr>\n",
       "      <th>0</th>\n",
       "      <td>2022-01-01</td>\n",
       "      <td>22711525</td>\n",
       "      <td>397349</td>\n",
       "      <td>4421.0</td>\n",
       "      <td>1</td>\n",
       "      <td>2022</td>\n",
       "      <td>1</td>\n",
       "      <td>1</td>\n",
       "      <td>5</td>\n",
       "      <td>True</td>\n",
       "    </tr>\n",
       "    <tr>\n",
       "      <th>1</th>\n",
       "      <td>2022-01-02</td>\n",
       "      <td>36779</td>\n",
       "      <td>3969</td>\n",
       "      <td>2289.0</td>\n",
       "      <td>0</td>\n",
       "      <td>2022</td>\n",
       "      <td>1</td>\n",
       "      <td>2</td>\n",
       "      <td>6</td>\n",
       "      <td>True</td>\n",
       "    </tr>\n",
       "    <tr>\n",
       "      <th>2</th>\n",
       "      <td>2022-01-03</td>\n",
       "      <td>13943875</td>\n",
       "      <td>373890</td>\n",
       "      <td>NaN</td>\n",
       "      <td>1</td>\n",
       "      <td>2022</td>\n",
       "      <td>1</td>\n",
       "      <td>3</td>\n",
       "      <td>0</td>\n",
       "      <td>False</td>\n",
       "    </tr>\n",
       "    <tr>\n",
       "      <th>3</th>\n",
       "      <td>2022-01-04</td>\n",
       "      <td>8088593</td>\n",
       "      <td>142054</td>\n",
       "      <td>2157.0</td>\n",
       "      <td>0</td>\n",
       "      <td>2022</td>\n",
       "      <td>1</td>\n",
       "      <td>4</td>\n",
       "      <td>1</td>\n",
       "      <td>False</td>\n",
       "    </tr>\n",
       "    <tr>\n",
       "      <th>4</th>\n",
       "      <td>2022-01-05</td>\n",
       "      <td>2395374</td>\n",
       "      <td>190684</td>\n",
       "      <td>NaN</td>\n",
       "      <td>0</td>\n",
       "      <td>2022</td>\n",
       "      <td>1</td>\n",
       "      <td>5</td>\n",
       "      <td>2</td>\n",
       "      <td>False</td>\n",
       "    </tr>\n",
       "  </tbody>\n",
       "</table>\n",
       "</div>"
      ],
      "text/plain": [
       "        Date     Sales      PV      UV  Events  year  month  day  dayofweek  \\\n",
       "0 2022-01-01  22711525  397349  4421.0       1  2022      1    1          5   \n",
       "1 2022-01-02     36779    3969  2289.0       0  2022      1    2          6   \n",
       "2 2022-01-03  13943875  373890     NaN       1  2022      1    3          0   \n",
       "3 2022-01-04   8088593  142054  2157.0       0  2022      1    4          1   \n",
       "4 2022-01-05   2395374  190684     NaN       0  2022      1    5          2   \n",
       "\n",
       "   weekend  \n",
       "0     True  \n",
       "1     True  \n",
       "2    False  \n",
       "3    False  \n",
       "4    False  "
      ]
     },
     "execution_count": 8,
     "metadata": {},
     "output_type": "execute_result"
    }
   ],
   "source": [
    "df.head()"
   ]
  },
  {
   "cell_type": "code",
   "execution_count": 9,
   "id": "d3063bc0",
   "metadata": {
    "execution": {
     "iopub.execute_input": "2025-06-20T05:47:38.184797Z",
     "iopub.status.busy": "2025-06-20T05:47:38.183823Z",
     "iopub.status.idle": "2025-06-20T05:47:38.186481Z",
     "shell.execute_reply": "2025-06-20T05:47:38.185869Z",
     "shell.execute_reply.started": "2022-11-15T16:18:00.468159Z"
    },
    "papermill": {
     "duration": 0.020874,
     "end_time": "2025-06-20T05:47:38.186618",
     "exception": false,
     "start_time": "2025-06-20T05:47:38.165744",
     "status": "completed"
    },
    "tags": []
   },
   "outputs": [],
   "source": [
    "weekend_cond = (df['year']==2022) & (df['month']==5) & (df['weekend'])\n",
    "weekday_cond = (df['year']==2022) & (df['month']==5) & (~df['weekend'])"
   ]
  },
  {
   "cell_type": "code",
   "execution_count": 10,
   "id": "3cf2009b",
   "metadata": {
    "execution": {
     "iopub.execute_input": "2025-06-20T05:47:38.216288Z",
     "iopub.status.busy": "2025-06-20T05:47:38.215498Z",
     "iopub.status.idle": "2025-06-20T05:47:38.218082Z",
     "shell.execute_reply": "2025-06-20T05:47:38.218587Z",
     "shell.execute_reply.started": "2025-06-20T05:45:12.942777Z"
    },
    "papermill": {
     "duration": 0.020886,
     "end_time": "2025-06-20T05:47:38.218754",
     "exception": false,
     "start_time": "2025-06-20T05:47:38.197868",
     "status": "completed"
    },
    "tags": []
   },
   "outputs": [],
   "source": [
    "weekend_cond = (df['year'] == 2022) & (df['month'] == 5) & (df['weekend'] == True)\n",
    "weekday_cond = (df['year'] == 2022) & (df['month'] == 5) & (df['weekend'] == False)"
   ]
  },
  {
   "cell_type": "code",
   "execution_count": 11,
   "id": "bca7e8ed",
   "metadata": {
    "execution": {
     "iopub.execute_input": "2025-06-20T05:47:38.245925Z",
     "iopub.status.busy": "2025-06-20T05:47:38.245297Z",
     "iopub.status.idle": "2025-06-20T05:47:38.252627Z",
     "shell.execute_reply": "2025-06-20T05:47:38.252002Z",
     "shell.execute_reply.started": "2025-06-20T05:45:41.843807Z"
    },
    "papermill": {
     "duration": 0.022793,
     "end_time": "2025-06-20T05:47:38.252766",
     "exception": false,
     "start_time": "2025-06-20T05:47:38.229973",
     "status": "completed"
    },
    "tags": []
   },
   "outputs": [],
   "source": [
    "weekend = df[weekend_cond]['Sales'].mean()\n",
    "weekday = df[weekday_cond]['Sales'].mean()"
   ]
  },
  {
   "cell_type": "code",
   "execution_count": 12,
   "id": "b1bc705b",
   "metadata": {
    "execution": {
     "iopub.execute_input": "2025-06-20T05:47:38.280918Z",
     "iopub.status.busy": "2025-06-20T05:47:38.280099Z",
     "iopub.status.idle": "2025-06-20T05:47:38.283868Z",
     "shell.execute_reply": "2025-06-20T05:47:38.283242Z",
     "shell.execute_reply.started": "2025-06-20T05:46:31.719670Z"
    },
    "papermill": {
     "duration": 0.01999,
     "end_time": "2025-06-20T05:47:38.284005",
     "exception": false,
     "start_time": "2025-06-20T05:47:38.264015",
     "status": "completed"
    },
    "tags": []
   },
   "outputs": [
    {
     "data": {
      "text/plain": [
       "3010339.1"
      ]
     },
     "execution_count": 12,
     "metadata": {},
     "output_type": "execute_result"
    }
   ],
   "source": [
    "round(weekend - weekday, 1)"
   ]
  },
  {
   "cell_type": "code",
   "execution_count": 13,
   "id": "edd02797",
   "metadata": {
    "execution": {
     "iopub.execute_input": "2025-06-20T05:47:38.312311Z",
     "iopub.status.busy": "2025-06-20T05:47:38.311409Z",
     "iopub.status.idle": "2025-06-20T05:47:38.315426Z",
     "shell.execute_reply": "2025-06-20T05:47:38.314795Z",
     "shell.execute_reply.started": "2025-06-20T05:46:27.838702Z"
    },
    "papermill": {
     "duration": 0.020303,
     "end_time": "2025-06-20T05:47:38.315586",
     "exception": false,
     "start_time": "2025-06-20T05:47:38.295283",
     "status": "completed"
    },
    "tags": []
   },
   "outputs": [
    {
     "data": {
      "text/plain": [
       "3010339.101"
      ]
     },
     "execution_count": 13,
     "metadata": {},
     "output_type": "execute_result"
    }
   ],
   "source": [
    "round(abs(weekend - weekday), 3) # 3010339.10"
   ]
  }
 ],
 "metadata": {
  "kaggle": {
   "accelerator": "none",
   "dataSources": [
    {
     "datasetId": 1633303,
     "sourceId": 12211878,
     "sourceType": "datasetVersion"
    }
   ],
   "dockerImageVersionId": 30145,
   "isGpuEnabled": false,
   "isInternetEnabled": false,
   "language": "python",
   "sourceType": "notebook"
  },
  "kernelspec": {
   "display_name": "Python 3",
   "language": "python",
   "name": "python3"
  },
  "language_info": {
   "codemirror_mode": {
    "name": "ipython",
    "version": 3
   },
   "file_extension": ".py",
   "mimetype": "text/x-python",
   "name": "python",
   "nbconvert_exporter": "python",
   "pygments_lexer": "ipython3",
   "version": "3.7.10"
  },
  "papermill": {
   "default_parameters": {},
   "duration": 9.289917,
   "end_time": "2025-06-20T05:47:38.936942",
   "environment_variables": {},
   "exception": null,
   "input_path": "__notebook__.ipynb",
   "output_path": "__notebook__.ipynb",
   "parameters": {},
   "start_time": "2025-06-20T05:47:29.647025",
   "version": "2.3.3"
  }
 },
 "nbformat": 4,
 "nbformat_minor": 5
}
