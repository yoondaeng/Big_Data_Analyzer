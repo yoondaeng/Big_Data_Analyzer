{
 "cells": [
  {
   "cell_type": "markdown",
   "id": "3508f7bc",
   "metadata": {
    "papermill": {
     "duration": 0.018356,
     "end_time": "2025-06-17T13:50:23.183715",
     "exception": false,
     "start_time": "2025-06-17T13:50:23.165359",
     "status": "completed"
    },
    "tags": []
   },
   "source": [
    "# 수치형 변수 변환하기\n",
    "\n",
    "\n",
    "### 주어진 데이터에서 20세 이상인 데이터를 추출하고 'f1'컬럼을 결측치를 최빈값으로 채운 후, f1 컬럼의 여-존슨과 박스콕스 변환 값을 구하고, 두 값의 차이를 절대값으로 구한다음 모두 더해 소수점 둘째 자리까지 출력(반올림)하시오\n",
    "- 데이터셋 : basic1.csv\n",
    "- 오른쪽 상단 copy&edit 클릭 -> 예상문제 풀이 시작"
   ]
  },
  {
   "cell_type": "markdown",
   "id": "1f99faa6",
   "metadata": {
    "papermill": {
     "duration": 0.01256,
     "end_time": "2025-06-17T13:50:23.210223",
     "exception": false,
     "start_time": "2025-06-17T13:50:23.197663",
     "status": "completed"
    },
    "tags": []
   },
   "source": [
    "### 박스-콕스\n",
    "![박스-콕스](https://wikimedia.org/api/rest_v1/media/math/render/svg/b565ae8f1cce1e4035e2a36213b8c9ce34b5029d)\n",
    "\n",
    "### 여-존슨\n",
    "![여-존슨](https://wikimedia.org/api/rest_v1/media/math/render/svg/2a99e24c81226f3d0547c471281197ea265553c5)"
   ]
  },
  {
   "cell_type": "code",
   "execution_count": 1,
   "id": "aa67d755",
   "metadata": {
    "execution": {
     "iopub.execute_input": "2025-06-17T13:50:23.248677Z",
     "iopub.status.busy": "2025-06-17T13:50:23.247350Z",
     "iopub.status.idle": "2025-06-17T13:50:24.938758Z",
     "shell.execute_reply": "2025-06-17T13:50:24.938064Z",
     "shell.execute_reply.started": "2025-06-17T13:49:31.024422Z"
    },
    "papermill": {
     "duration": 1.715909,
     "end_time": "2025-06-17T13:50:24.938979",
     "exception": false,
     "start_time": "2025-06-17T13:50:23.223070",
     "status": "completed"
    },
    "tags": []
   },
   "outputs": [
    {
     "data": {
      "text/plain": [
       "(100, 8)"
      ]
     },
     "execution_count": 1,
     "metadata": {},
     "output_type": "execute_result"
    }
   ],
   "source": [
    "# 라이브러리 및 데이터 불러오기\n",
    "import pandas as pd\n",
    "import numpy as np\n",
    "from sklearn.preprocessing import power_transform\n",
    "# import sklearn.preprocessing\n",
    "# print(dir(sklearn.preprocessing))\n",
    "\n",
    "df = pd.read_csv(\"/kaggle/input/bigdatacertificationkr/basic1.csv\")\n",
    "df.head()\n",
    "df.shape"
   ]
  },
  {
   "cell_type": "code",
   "execution_count": 2,
   "id": "c26c384a",
   "metadata": {
    "execution": {
     "iopub.execute_input": "2025-06-17T13:50:24.983159Z",
     "iopub.status.busy": "2025-06-17T13:50:24.972154Z",
     "iopub.status.idle": "2025-06-17T13:50:24.993679Z",
     "shell.execute_reply": "2025-06-17T13:50:24.993171Z",
     "shell.execute_reply.started": "2025-06-17T13:49:31.044048Z"
    },
    "papermill": {
     "duration": 0.03915,
     "end_time": "2025-06-17T13:50:24.993856",
     "exception": false,
     "start_time": "2025-06-17T13:50:24.954706",
     "status": "completed"
    },
    "tags": []
   },
   "outputs": [
    {
     "data": {
      "text/plain": [
       "(83, 8)"
      ]
     },
     "execution_count": 2,
     "metadata": {},
     "output_type": "execute_result"
    }
   ],
   "source": [
    "# 조건에 맞는 데이터\n",
    "df = df[df['age'] >= 20]\n",
    "df.shape\n",
    "\n",
    "# print(dir(df))"
   ]
  },
  {
   "cell_type": "code",
   "execution_count": 3,
   "id": "d58b3151",
   "metadata": {
    "execution": {
     "iopub.execute_input": "2025-06-17T13:50:25.042449Z",
     "iopub.status.busy": "2025-06-17T13:50:25.036671Z",
     "iopub.status.idle": "2025-06-17T13:50:25.048418Z",
     "shell.execute_reply": "2025-06-17T13:50:25.047726Z",
     "shell.execute_reply.started": "2025-06-17T13:49:31.052463Z"
    },
    "papermill": {
     "duration": 0.041081,
     "end_time": "2025-06-17T13:50:25.048585",
     "exception": false,
     "start_time": "2025-06-17T13:50:25.007504",
     "status": "completed"
    },
    "tags": []
   },
   "outputs": [
    {
     "name": "stdout",
     "output_type": "stream",
     "text": [
      "id       0\n",
      "age      0\n",
      "city     0\n",
      "f1      26\n",
      "f2       0\n",
      "f3      78\n",
      "f4       0\n",
      "f5       0\n",
      "dtype: int64\n",
      "50.0\n",
      "id       0\n",
      "age      0\n",
      "city     0\n",
      "f1       0\n",
      "f2       0\n",
      "f3      78\n",
      "f4       0\n",
      "f5       0\n",
      "dtype: int64\n"
     ]
    }
   ],
   "source": [
    "# 최빈값으로 'f1' 컬럼 결측치 대체\n",
    "print(df.isnull().sum())\n",
    "print(df['f1'].mode()[0]) # 최빈값\n",
    "\n",
    "df['f1'] = df['f1'].fillna(df['f1'].mode()[0])\n",
    "print(df.isnull().sum()) # f1 결측치 처리 완료"
   ]
  },
  {
   "cell_type": "code",
   "execution_count": 4,
   "id": "41e35e4a",
   "metadata": {
    "execution": {
     "iopub.execute_input": "2025-06-17T13:50:25.096482Z",
     "iopub.status.busy": "2025-06-17T13:50:25.095564Z",
     "iopub.status.idle": "2025-06-17T13:50:25.099011Z",
     "shell.execute_reply": "2025-06-17T13:50:25.099487Z",
     "shell.execute_reply.started": "2025-06-17T13:49:31.074866Z"
    },
    "papermill": {
     "duration": 0.0367,
     "end_time": "2025-06-17T13:50:25.099712",
     "exception": false,
     "start_time": "2025-06-17T13:50:25.063012",
     "status": "completed"
    },
    "tags": []
   },
   "outputs": [
    {
     "data": {
      "text/plain": [
       "2    20.583423\n",
       "3    17.968081\n",
       "4    25.773745\n",
       "5    19.653167\n",
       "6    20.352915\n",
       "Name: y, dtype: float64"
      ]
     },
     "execution_count": 4,
     "metadata": {},
     "output_type": "execute_result"
    }
   ],
   "source": [
    "# 'f1'데이터 여-존슨 yeo-johnson 값 구하기\n",
    "df['y'] = power_transform(df[['f1']], standardize=False) \n",
    "# 디폴트 표준화지만 문제에서 표준화하라는 소리가 없으므로 False\n",
    "df['y'].head()"
   ]
  },
  {
   "cell_type": "code",
   "execution_count": 5,
   "id": "19f6cbad",
   "metadata": {
    "execution": {
     "iopub.execute_input": "2025-06-17T13:50:25.137877Z",
     "iopub.status.busy": "2025-06-17T13:50:25.136785Z",
     "iopub.status.idle": "2025-06-17T13:50:25.140329Z",
     "shell.execute_reply": "2025-06-17T13:50:25.140885Z",
     "shell.execute_reply.started": "2025-06-17T13:49:31.103368Z"
    },
    "papermill": {
     "duration": 0.026084,
     "end_time": "2025-06-17T13:50:25.141087",
     "exception": false,
     "start_time": "2025-06-17T13:50:25.115003",
     "status": "completed"
    },
    "tags": []
   },
   "outputs": [
    {
     "name": "stdout",
     "output_type": "stream",
     "text": [
      "Help on function power_transform in module sklearn.preprocessing._data:\n",
      "\n",
      "power_transform(X, method='yeo-johnson', *, standardize=True, copy=True)\n",
      "    Power transforms are a family of parametric, monotonic transformations\n",
      "    that are applied to make data more Gaussian-like. This is useful for\n",
      "    modeling issues related to heteroscedasticity (non-constant variance),\n",
      "    or other situations where normality is desired.\n",
      "    \n",
      "    Currently, power_transform supports the Box-Cox transform and the\n",
      "    Yeo-Johnson transform. The optimal parameter for stabilizing variance and\n",
      "    minimizing skewness is estimated through maximum likelihood.\n",
      "    \n",
      "    Box-Cox requires input data to be strictly positive, while Yeo-Johnson\n",
      "    supports both positive or negative data.\n",
      "    \n",
      "    By default, zero-mean, unit-variance normalization is applied to the\n",
      "    transformed data.\n",
      "    \n",
      "    Read more in the :ref:`User Guide <preprocessing_transformer>`.\n",
      "    \n",
      "    Parameters\n",
      "    ----------\n",
      "    X : array-like, shape (n_samples, n_features)\n",
      "        The data to be transformed using a power transformation.\n",
      "    \n",
      "    method : {'yeo-johnson', 'box-cox'}, default='yeo-johnson'\n",
      "        The power transform method. Available methods are:\n",
      "    \n",
      "        - 'yeo-johnson' [1]_, works with positive and negative values\n",
      "        - 'box-cox' [2]_, only works with strictly positive values\n",
      "    \n",
      "        .. versionchanged:: 0.23\n",
      "            The default value of the `method` parameter changed from\n",
      "            'box-cox' to 'yeo-johnson' in 0.23.\n",
      "    \n",
      "    standardize : boolean, default=True\n",
      "        Set to True to apply zero-mean, unit-variance normalization to the\n",
      "        transformed output.\n",
      "    \n",
      "    copy : boolean, optional, default=True\n",
      "        Set to False to perform inplace computation during transformation.\n",
      "    \n",
      "    Returns\n",
      "    -------\n",
      "    X_trans : array-like, shape (n_samples, n_features)\n",
      "        The transformed data.\n",
      "    \n",
      "    Examples\n",
      "    --------\n",
      "    >>> import numpy as np\n",
      "    >>> from sklearn.preprocessing import power_transform\n",
      "    >>> data = [[1, 2], [3, 2], [4, 5]]\n",
      "    >>> print(power_transform(data, method='box-cox'))\n",
      "    [[-1.332... -0.707...]\n",
      "     [ 0.256... -0.707...]\n",
      "     [ 1.076...  1.414...]]\n",
      "    \n",
      "    See also\n",
      "    --------\n",
      "    PowerTransformer : Equivalent transformation with the\n",
      "        ``Transformer`` API (e.g. as part of a preprocessing\n",
      "        :class:`sklearn.pipeline.Pipeline`).\n",
      "    \n",
      "    quantile_transform : Maps data to a standard normal distribution with\n",
      "        the parameter `output_distribution='normal'`.\n",
      "    \n",
      "    Notes\n",
      "    -----\n",
      "    NaNs are treated as missing values: disregarded in ``fit``, and maintained\n",
      "    in ``transform``.\n",
      "    \n",
      "    For a comparison of the different scalers, transformers, and normalizers,\n",
      "    see :ref:`examples/preprocessing/plot_all_scaling.py\n",
      "    <sphx_glr_auto_examples_preprocessing_plot_all_scaling.py>`.\n",
      "    \n",
      "    References\n",
      "    ----------\n",
      "    \n",
      "    .. [1] I.K. Yeo and R.A. Johnson, \"A new family of power transformations to\n",
      "           improve normality or symmetry.\" Biometrika, 87(4), pp.954-959,\n",
      "           (2000).\n",
      "    \n",
      "    .. [2] G.E.P. Box and D.R. Cox, \"An Analysis of Transformations\", Journal\n",
      "           of the Royal Statistical Society B, 26, 211-252 (1964).\n",
      "\n"
     ]
    }
   ],
   "source": [
    "help(power_transform)"
   ]
  },
  {
   "cell_type": "code",
   "execution_count": 6,
   "id": "b315d723",
   "metadata": {
    "execution": {
     "iopub.execute_input": "2025-06-17T13:50:25.187385Z",
     "iopub.status.busy": "2025-06-17T13:50:25.186103Z",
     "iopub.status.idle": "2025-06-17T13:50:25.190751Z",
     "shell.execute_reply": "2025-06-17T13:50:25.190110Z",
     "shell.execute_reply.started": "2025-06-17T13:49:31.118984Z"
    },
    "papermill": {
     "duration": 0.033421,
     "end_time": "2025-06-17T13:50:25.190956",
     "exception": false,
     "start_time": "2025-06-17T13:50:25.157535",
     "status": "completed"
    },
    "tags": []
   },
   "outputs": [
    {
     "data": {
      "text/plain": [
       "2    21.067090\n",
       "3    18.305263\n",
       "4    26.557680\n",
       "5    20.084373\n",
       "6    20.823545\n",
       "Name: b, dtype: float64"
      ]
     },
     "execution_count": 6,
     "metadata": {},
     "output_type": "execute_result"
    }
   ],
   "source": [
    "# 'f1'데이터 박스-콕스 box-cox 값 구하기\n",
    "df['b'] = power_transform(df[['f1']], method = 'box-cox', standardize=False)\n",
    "df['b'].head()"
   ]
  },
  {
   "cell_type": "code",
   "execution_count": 7,
   "id": "32cdda47",
   "metadata": {
    "execution": {
     "iopub.execute_input": "2025-06-17T13:50:25.231186Z",
     "iopub.status.busy": "2025-06-17T13:50:25.230062Z",
     "iopub.status.idle": "2025-06-17T13:50:25.234855Z",
     "shell.execute_reply": "2025-06-17T13:50:25.235338Z",
     "shell.execute_reply.started": "2025-06-17T13:49:31.142148Z"
    },
    "papermill": {
     "duration": 0.02831,
     "end_time": "2025-06-17T13:50:25.235562",
     "exception": false,
     "start_time": "2025-06-17T13:50:25.207252",
     "status": "completed"
    },
    "tags": []
   },
   "outputs": [
    {
     "data": {
      "text/plain": [
       "39.17"
      ]
     },
     "execution_count": 7,
     "metadata": {},
     "output_type": "execute_result"
    }
   ],
   "source": [
    "# 두 값의 차이를 절대값으로 구한다음 모두 더해 소수점 둘째 자리까지 출력(반올림)\n",
    "\n",
    "round(sum(np.abs(df['y'] - df['b'])), 2) # 39.17"
   ]
  },
  {
   "cell_type": "markdown",
   "id": "247daae7",
   "metadata": {
    "papermill": {
     "duration": 0.015214,
     "end_time": "2025-06-17T13:50:25.268755",
     "exception": false,
     "start_time": "2025-06-17T13:50:25.253541",
     "status": "completed"
    },
    "tags": []
   },
   "source": [
    "## Hint\n",
    "- https://scikit-learn.org/stable/modules/generated/sklearn.preprocessing.power_transform.html"
   ]
  },
  {
   "cell_type": "code",
   "execution_count": 8,
   "id": "9065c73b",
   "metadata": {
    "execution": {
     "iopub.execute_input": "2025-06-17T13:50:25.315192Z",
     "iopub.status.busy": "2025-06-17T13:50:25.310749Z",
     "iopub.status.idle": "2025-06-17T13:50:25.319873Z",
     "shell.execute_reply": "2025-06-17T13:50:25.320369Z",
     "shell.execute_reply.started": "2025-06-17T13:49:31.158076Z"
    },
    "papermill": {
     "duration": 0.035458,
     "end_time": "2025-06-17T13:50:25.320579",
     "exception": false,
     "start_time": "2025-06-17T13:50:25.285121",
     "status": "completed"
    },
    "tags": []
   },
   "outputs": [
    {
     "name": "stdout",
     "output_type": "stream",
     "text": [
      "[[-1.27332767 -1.24414502]\n",
      " [ 0.10376846  0.03976901]\n",
      " [ 1.16955921  1.20437601]]\n",
      "[[-1.27548765 -1.24611441]\n",
      " [ 0.1087368   0.04392064]\n",
      " [ 1.16675085  1.20219377]]\n"
     ]
    }
   ],
   "source": [
    "from sklearn.preprocessing import power_transform\n",
    "data = [[11, 12], [23, 22], [34, 35]]\n",
    "print(power_transform(data)) # method 디폴트 값은 여-존슨’yeo-johnson’\n",
    "print(power_transform(data, method='box-cox'))"
   ]
  },
  {
   "cell_type": "markdown",
   "id": "842560e1",
   "metadata": {
    "papermill": {
     "duration": 0.015685,
     "end_time": "2025-06-17T13:50:25.353183",
     "exception": false,
     "start_time": "2025-06-17T13:50:25.337498",
     "status": "completed"
    },
    "tags": []
   },
   "source": [
    "## 풀이"
   ]
  },
  {
   "cell_type": "code",
   "execution_count": 9,
   "id": "757d3003",
   "metadata": {
    "_cell_guid": "b1076dfc-b9ad-4769-8c92-a6c4dae69d19",
    "_uuid": "8f2839f25d086af736a60e9eeb907d3b93b6e0e5",
    "execution": {
     "iopub.execute_input": "2025-06-17T13:50:25.393056Z",
     "iopub.status.busy": "2025-06-17T13:50:25.391778Z",
     "iopub.status.idle": "2025-06-17T13:50:25.417605Z",
     "shell.execute_reply": "2025-06-17T13:50:25.417050Z",
     "shell.execute_reply.started": "2025-06-17T13:49:31.183050Z"
    },
    "papermill": {
     "duration": 0.04849,
     "end_time": "2025-06-17T13:50:25.417755",
     "exception": false,
     "start_time": "2025-06-17T13:50:25.369265",
     "status": "completed"
    },
    "tags": []
   },
   "outputs": [
    {
     "data": {
      "text/html": [
       "<div>\n",
       "<style scoped>\n",
       "    .dataframe tbody tr th:only-of-type {\n",
       "        vertical-align: middle;\n",
       "    }\n",
       "\n",
       "    .dataframe tbody tr th {\n",
       "        vertical-align: top;\n",
       "    }\n",
       "\n",
       "    .dataframe thead th {\n",
       "        text-align: right;\n",
       "    }\n",
       "</style>\n",
       "<table border=\"1\" class=\"dataframe\">\n",
       "  <thead>\n",
       "    <tr style=\"text-align: right;\">\n",
       "      <th></th>\n",
       "      <th>id</th>\n",
       "      <th>age</th>\n",
       "      <th>city</th>\n",
       "      <th>f1</th>\n",
       "      <th>f2</th>\n",
       "      <th>f3</th>\n",
       "      <th>f4</th>\n",
       "      <th>f5</th>\n",
       "    </tr>\n",
       "  </thead>\n",
       "  <tbody>\n",
       "    <tr>\n",
       "      <th>0</th>\n",
       "      <td>id01</td>\n",
       "      <td>2.0</td>\n",
       "      <td>서울</td>\n",
       "      <td>NaN</td>\n",
       "      <td>0</td>\n",
       "      <td>NaN</td>\n",
       "      <td>ENFJ</td>\n",
       "      <td>91.297791</td>\n",
       "    </tr>\n",
       "    <tr>\n",
       "      <th>1</th>\n",
       "      <td>id02</td>\n",
       "      <td>9.0</td>\n",
       "      <td>서울</td>\n",
       "      <td>70.0</td>\n",
       "      <td>1</td>\n",
       "      <td>NaN</td>\n",
       "      <td>ENFJ</td>\n",
       "      <td>60.339826</td>\n",
       "    </tr>\n",
       "    <tr>\n",
       "      <th>2</th>\n",
       "      <td>id03</td>\n",
       "      <td>27.0</td>\n",
       "      <td>서울</td>\n",
       "      <td>61.0</td>\n",
       "      <td>1</td>\n",
       "      <td>NaN</td>\n",
       "      <td>ISTJ</td>\n",
       "      <td>17.252986</td>\n",
       "    </tr>\n",
       "    <tr>\n",
       "      <th>3</th>\n",
       "      <td>id04</td>\n",
       "      <td>75.0</td>\n",
       "      <td>서울</td>\n",
       "      <td>NaN</td>\n",
       "      <td>2</td>\n",
       "      <td>NaN</td>\n",
       "      <td>INFP</td>\n",
       "      <td>52.667078</td>\n",
       "    </tr>\n",
       "    <tr>\n",
       "      <th>4</th>\n",
       "      <td>id05</td>\n",
       "      <td>24.0</td>\n",
       "      <td>서울</td>\n",
       "      <td>85.0</td>\n",
       "      <td>2</td>\n",
       "      <td>NaN</td>\n",
       "      <td>ISFJ</td>\n",
       "      <td>29.269869</td>\n",
       "    </tr>\n",
       "  </tbody>\n",
       "</table>\n",
       "</div>"
      ],
      "text/plain": [
       "     id   age city    f1  f2   f3    f4         f5\n",
       "0  id01   2.0   서울   NaN   0  NaN  ENFJ  91.297791\n",
       "1  id02   9.0   서울  70.0   1  NaN  ENFJ  60.339826\n",
       "2  id03  27.0   서울  61.0   1  NaN  ISTJ  17.252986\n",
       "3  id04  75.0   서울   NaN   2  NaN  INFP  52.667078\n",
       "4  id05  24.0   서울  85.0   2  NaN  ISFJ  29.269869"
      ]
     },
     "execution_count": 9,
     "metadata": {},
     "output_type": "execute_result"
    }
   ],
   "source": [
    "# 라이브러리 및 데이터 불러오기\n",
    "import pandas as pd\n",
    "import numpy as np\n",
    "from sklearn.preprocessing import power_transform\n",
    "\n",
    "df = pd.read_csv('../input/bigdatacertificationkr/basic1.csv')\n",
    "df.head(5)"
   ]
  },
  {
   "cell_type": "code",
   "execution_count": 10,
   "id": "1271e216",
   "metadata": {
    "execution": {
     "iopub.execute_input": "2025-06-17T13:50:25.460415Z",
     "iopub.status.busy": "2025-06-17T13:50:25.459527Z",
     "iopub.status.idle": "2025-06-17T13:50:25.462354Z",
     "shell.execute_reply": "2025-06-17T13:50:25.462893Z",
     "shell.execute_reply.started": "2025-06-17T13:49:31.219384Z"
    },
    "papermill": {
     "duration": 0.02919,
     "end_time": "2025-06-17T13:50:25.463083",
     "exception": false,
     "start_time": "2025-06-17T13:50:25.433893",
     "status": "completed"
    },
    "tags": []
   },
   "outputs": [
    {
     "name": "stdout",
     "output_type": "stream",
     "text": [
      "조건 적용 전: (100, 8)\n",
      "조건 적용 후: (83, 8)\n"
     ]
    }
   ],
   "source": [
    "# 조건에 맞는 데이터\n",
    "print(\"조건 적용 전:\", df.shape)\n",
    "df = df[df['age']>=20]\n",
    "print(\"조건 적용 후:\", df.shape)"
   ]
  },
  {
   "cell_type": "code",
   "execution_count": 11,
   "id": "2082bb07",
   "metadata": {
    "execution": {
     "iopub.execute_input": "2025-06-17T13:50:25.508963Z",
     "iopub.status.busy": "2025-06-17T13:50:25.504441Z",
     "iopub.status.idle": "2025-06-17T13:50:25.512247Z",
     "shell.execute_reply": "2025-06-17T13:50:25.512692Z",
     "shell.execute_reply.started": "2025-06-17T13:49:31.230968Z"
    },
    "papermill": {
     "duration": 0.033118,
     "end_time": "2025-06-17T13:50:25.512893",
     "exception": false,
     "start_time": "2025-06-17T13:50:25.479775",
     "status": "completed"
    },
    "tags": []
   },
   "outputs": [
    {
     "name": "stdout",
     "output_type": "stream",
     "text": [
      "결측치 처리 전: \n",
      " id       0\n",
      "age      0\n",
      "city     0\n",
      "f1      26\n",
      "f2       0\n",
      "f3      78\n",
      "f4       0\n",
      "f5       0\n",
      "dtype: int64\n",
      "최빈값:  50.0\n",
      "결측치 처리 후: \n",
      " id       0\n",
      "age      0\n",
      "city     0\n",
      "f1       0\n",
      "f2       0\n",
      "f3      78\n",
      "f4       0\n",
      "f5       0\n",
      "dtype: int64\n"
     ]
    }
   ],
   "source": [
    "# 최빈값으로 'f1' 컬럼 결측치 대체\n",
    "print(\"결측치 처리 전: \\n\", df.isnull().sum())\n",
    "print(\"최빈값: \",df['f1'].mode()[0])\n",
    "df['f1'] = df['f1'].fillna(df['f1'].mode()[0])\n",
    "print(\"결측치 처리 후: \\n\", df.isnull().sum())   "
   ]
  },
  {
   "cell_type": "code",
   "execution_count": 12,
   "id": "44d9f473",
   "metadata": {
    "execution": {
     "iopub.execute_input": "2025-06-17T13:50:25.563601Z",
     "iopub.status.busy": "2025-06-17T13:50:25.562211Z",
     "iopub.status.idle": "2025-06-17T13:50:25.566441Z",
     "shell.execute_reply": "2025-06-17T13:50:25.566988Z",
     "shell.execute_reply.started": "2025-06-17T13:49:31.254615Z"
    },
    "papermill": {
     "duration": 0.037293,
     "end_time": "2025-06-17T13:50:25.567181",
     "exception": false,
     "start_time": "2025-06-17T13:50:25.529888",
     "status": "completed"
    },
    "tags": []
   },
   "outputs": [
    {
     "data": {
      "text/plain": [
       "2    0.101083\n",
       "3   -0.585402\n",
       "4    1.463459\n",
       "5   -0.143094\n",
       "6    0.040578\n",
       "Name: y, dtype: float64"
      ]
     },
     "execution_count": 12,
     "metadata": {},
     "output_type": "execute_result"
    }
   ],
   "source": [
    "# 'f1'데이터 여-존슨 yeo-johnson 값 구하기\n",
    "df['y'] = power_transform(df[['f1']]) # method 디폴트 값은 여-존슨’yeo-johnson’\n",
    "df['y'].head()"
   ]
  },
  {
   "cell_type": "code",
   "execution_count": 13,
   "id": "4d1fcf89",
   "metadata": {
    "execution": {
     "iopub.execute_input": "2025-06-17T13:50:25.615075Z",
     "iopub.status.busy": "2025-06-17T13:50:25.604772Z",
     "iopub.status.idle": "2025-06-17T13:50:25.619568Z",
     "shell.execute_reply": "2025-06-17T13:50:25.618875Z",
     "shell.execute_reply.started": "2025-06-17T13:49:31.294726Z"
    },
    "papermill": {
     "duration": 0.03603,
     "end_time": "2025-06-17T13:50:25.619736",
     "exception": false,
     "start_time": "2025-06-17T13:50:25.583706",
     "status": "completed"
    },
    "tags": []
   },
   "outputs": [
    {
     "data": {
      "text/plain": [
       "2    20.583423\n",
       "3    17.968081\n",
       "4    25.773745\n",
       "5    19.653167\n",
       "6    20.352915\n",
       "Name: y, dtype: float64"
      ]
     },
     "execution_count": 13,
     "metadata": {},
     "output_type": "execute_result"
    }
   ],
   "source": [
    "# 'f1'데이터 여-존슨 yeo-johnson 값 구하기\n",
    "df['y'] = power_transform(df[['f1']],standardize=False) # method 디폴트 값은 여-존슨’yeo-johnson’\n",
    "df['y'].head()"
   ]
  },
  {
   "cell_type": "code",
   "execution_count": 14,
   "id": "f5f7ed55",
   "metadata": {
    "execution": {
     "iopub.execute_input": "2025-06-17T13:50:25.669966Z",
     "iopub.status.busy": "2025-06-17T13:50:25.666986Z",
     "iopub.status.idle": "2025-06-17T13:50:25.674706Z",
     "shell.execute_reply": "2025-06-17T13:50:25.674156Z",
     "shell.execute_reply.started": "2025-06-17T13:49:31.320795Z"
    },
    "papermill": {
     "duration": 0.038195,
     "end_time": "2025-06-17T13:50:25.674903",
     "exception": false,
     "start_time": "2025-06-17T13:50:25.636708",
     "status": "completed"
    },
    "tags": []
   },
   "outputs": [
    {
     "data": {
      "text/plain": [
       "2    0.100290\n",
       "3   -0.585656\n",
       "4    1.463969\n",
       "5   -0.143784\n",
       "6    0.039801\n",
       "Name: b, dtype: float64"
      ]
     },
     "execution_count": 14,
     "metadata": {},
     "output_type": "execute_result"
    }
   ],
   "source": [
    "# 'f1'데이터 박스-콕스 box-cox 값 구하기\n",
    "df['b'] = power_transform(df[['f1']], method='box-cox')\n",
    "df['b'].head()"
   ]
  },
  {
   "cell_type": "code",
   "execution_count": 15,
   "id": "bc22ef62",
   "metadata": {
    "execution": {
     "iopub.execute_input": "2025-06-17T13:50:25.725579Z",
     "iopub.status.busy": "2025-06-17T13:50:25.724784Z",
     "iopub.status.idle": "2025-06-17T13:50:25.728630Z",
     "shell.execute_reply": "2025-06-17T13:50:25.728105Z",
     "shell.execute_reply.started": "2025-06-17T13:49:31.348476Z"
    },
    "papermill": {
     "duration": 0.036524,
     "end_time": "2025-06-17T13:50:25.728770",
     "exception": false,
     "start_time": "2025-06-17T13:50:25.692246",
     "status": "completed"
    },
    "tags": []
   },
   "outputs": [
    {
     "data": {
      "text/plain": [
       "2    21.067090\n",
       "3    18.305263\n",
       "4    26.557680\n",
       "5    20.084373\n",
       "6    20.823545\n",
       "Name: b, dtype: float64"
      ]
     },
     "execution_count": 15,
     "metadata": {},
     "output_type": "execute_result"
    }
   ],
   "source": [
    "# 'f1'데이터 박스-콕스 box-cox 값 구하기\n",
    "# 추가 2022.6.21 \n",
    "# standardize=False는 python과 R의 디폴트가 달라 결과를 맞추기 위함이었어요! 이번 문제는 출제 가능성이 낮아 보여요 (이미 풀이한 분들이 있어 그대로 두었습니다.)\n",
    "df['b'] = power_transform(df[['f1']], method='box-cox', standardize=False)\n",
    "df['b'].head()"
   ]
  },
  {
   "cell_type": "code",
   "execution_count": 16,
   "id": "691155a0",
   "metadata": {
    "execution": {
     "iopub.execute_input": "2025-06-17T13:50:25.775584Z",
     "iopub.status.busy": "2025-06-17T13:50:25.774724Z",
     "iopub.status.idle": "2025-06-17T13:50:25.779018Z",
     "shell.execute_reply": "2025-06-17T13:50:25.778435Z",
     "shell.execute_reply.started": "2025-06-17T13:49:31.372228Z"
    },
    "papermill": {
     "duration": 0.03178,
     "end_time": "2025-06-17T13:50:25.779189",
     "exception": false,
     "start_time": "2025-06-17T13:50:25.747409",
     "status": "completed"
    },
    "tags": []
   },
   "outputs": [
    {
     "data": {
      "text/plain": [
       "(array([21.06708953, 18.3052633 , 26.5576802 , 20.08437298, 20.82354507,\n",
       "        29.92014513, 24.11822132, 22.73510562, 18.3052633 , 18.3052633 ,\n",
       "        22.50057055, 26.5576802 , 18.3052633 , 26.9892231 , 18.3052633 ,\n",
       "        18.3052633 , 24.34492271, 16.71079147, 18.3052633 , 20.08437298,\n",
       "        20.82354507, 13.87430348, 24.79522889, 21.78961583, 28.47348918,\n",
       "        18.3052633 , 18.3052633 , 24.79522889, 18.3052633 , 18.3052633 ,\n",
       "        18.3052633 , 24.34492271, 19.58413896, 17.78149164, 20.82354507,\n",
       "        18.3052633 , 27.20371216, 18.3052633 , 24.34492271, 27.20371216,\n",
       "        25.01886978, 18.3052633 , 25.90374843, 18.3052633 , 18.3052633 ,\n",
       "        21.55009581, 18.3052633 , 18.3052633 , 18.3052633 , 21.30926323,\n",
       "        18.3052633 , 26.77388356, 21.30926323, 18.3052633 , 18.3052633 ,\n",
       "        18.82186921, 16.9815023 , 26.5576802 , 26.34059934, 18.3052633 ,\n",
       "        29.30451924, 17.51679379,  6.25392521, 12.96923726, 28.89049447,\n",
       "        18.3052633 , 20.82354507, 18.3052633 , 18.3052633 , 18.3052633 ,\n",
       "        16.71079147, 19.58413896, 24.34492271, 22.26482716, 18.3052633 ,\n",
       "        25.01886978, 20.08437298, 18.3052633 , 16.43795391, 19.07760136,\n",
       "        18.3052633 , 20.33221948, 19.07760136]),\n",
       " 0.6557192658257479)"
      ]
     },
     "execution_count": 16,
     "metadata": {},
     "output_type": "execute_result"
    }
   ],
   "source": [
    "## 박스콕스 방법2\n",
    "from scipy import stats\n",
    "x = stats.boxcox(df['f1'])\n",
    "x"
   ]
  },
  {
   "cell_type": "code",
   "execution_count": 17,
   "id": "dbb05ac7",
   "metadata": {
    "execution": {
     "iopub.execute_input": "2025-06-17T13:50:25.824098Z",
     "iopub.status.busy": "2025-06-17T13:50:25.822510Z",
     "iopub.status.idle": "2025-06-17T13:50:25.827283Z",
     "shell.execute_reply": "2025-06-17T13:50:25.827770Z",
     "shell.execute_reply.started": "2025-06-17T13:49:31.396201Z"
    },
    "papermill": {
     "duration": 0.03075,
     "end_time": "2025-06-17T13:50:25.828014",
     "exception": false,
     "start_time": "2025-06-17T13:50:25.797264",
     "status": "completed"
    },
    "tags": []
   },
   "outputs": [
    {
     "data": {
      "text/plain": [
       "39.17"
      ]
     },
     "execution_count": 17,
     "metadata": {},
     "output_type": "execute_result"
    }
   ],
   "source": [
    "# 두 값의 차이를 절대값으로 구한다음 모두 더해 소수점 둘째 자리까지 출력(반올림)\n",
    "round(sum(np.abs(df['y'] - df['b'])),2)"
   ]
  }
 ],
 "metadata": {
  "kaggle": {
   "accelerator": "none",
   "dataSources": [
    {
     "datasetId": 1633303,
     "sourceId": 12189494,
     "sourceType": "datasetVersion"
    }
   ],
   "dockerImageVersionId": 30138,
   "isGpuEnabled": false,
   "isInternetEnabled": false,
   "language": "python",
   "sourceType": "notebook"
  },
  "kernelspec": {
   "display_name": "Python 3",
   "language": "python",
   "name": "python3"
  },
  "language_info": {
   "codemirror_mode": {
    "name": "ipython",
    "version": 3
   },
   "file_extension": ".py",
   "mimetype": "text/x-python",
   "name": "python",
   "nbconvert_exporter": "python",
   "pygments_lexer": "ipython3",
   "version": "3.7.10"
  },
  "papermill": {
   "default_parameters": {},
   "duration": 16.078786,
   "end_time": "2025-06-17T13:50:26.558563",
   "environment_variables": {},
   "exception": null,
   "input_path": "__notebook__.ipynb",
   "output_path": "__notebook__.ipynb",
   "parameters": {},
   "start_time": "2025-06-17T13:50:10.479777",
   "version": "2.3.3"
  }
 },
 "nbformat": 4,
 "nbformat_minor": 5
}
