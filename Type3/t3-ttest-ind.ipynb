{
 "cells": [
  {
   "cell_type": "markdown",
   "id": "1f28f57d",
   "metadata": {
    "papermill": {
     "duration": 0.002443,
     "end_time": "2025-06-20T17:46:26.697165",
     "exception": false,
     "start_time": "2025-06-20T17:46:26.694722",
     "status": "completed"
    },
    "tags": []
   },
   "source": [
    "## 어떤 특정 약물을 복용한 사람들의 평균 체온이 복용하지 않은 사람들의 평균 체온과 유의미하게 다른지 검정해보려고 합니다.\n",
    "\n",
    "가정:\n",
    "- 약물을 복용한 그룹과 복용하지 않은 그룹의 체온 데이터가 각각 주어져 있다고 가정합니다.\n",
    "- 각 그룹의 체온은 정규분포를 따른다고 가정합니다.\n",
    "\n",
    "## 검정통계량, p-value, 검정결과를 출력하시오"
   ]
  },
  {
   "cell_type": "code",
   "execution_count": 1,
   "id": "dac5f8b0",
   "metadata": {
    "execution": {
     "iopub.execute_input": "2025-06-20T17:46:26.703165Z",
     "iopub.status.busy": "2025-06-20T17:46:26.702666Z",
     "iopub.status.idle": "2025-06-20T17:46:27.802236Z",
     "shell.execute_reply": "2025-06-20T17:46:27.801075Z"
    },
    "papermill": {
     "duration": 1.105531,
     "end_time": "2025-06-20T17:46:27.804810",
     "exception": false,
     "start_time": "2025-06-20T17:46:26.699279",
     "status": "completed"
    },
    "tags": []
   },
   "outputs": [
    {
     "name": "stderr",
     "output_type": "stream",
     "text": [
      "/opt/conda/lib/python3.10/site-packages/scipy/__init__.py:146: UserWarning: A NumPy version >=1.16.5 and <1.23.0 is required for this version of SciPy (detected version 1.23.5\n",
      "  warnings.warn(f\"A NumPy version >={np_minversion} and <{np_maxversion}\"\n"
     ]
    }
   ],
   "source": [
    "from scipy import stats\n",
    "\n",
    "# 가설 설정\n",
    "# H0: 약물을 복용한 그룹과 복용하지 않은 그룹의 평균 체온은 유의미한 차이가 없다.\n",
    "# H1: 약물을 복용한 그룹과 복용하지 않은 그룹의 평균 체온은 유의미한 차이가 있다."
   ]
  },
  {
   "cell_type": "code",
   "execution_count": 2,
   "id": "95856ec7",
   "metadata": {
    "execution": {
     "iopub.execute_input": "2025-06-20T17:46:27.810655Z",
     "iopub.status.busy": "2025-06-20T17:46:27.810308Z",
     "iopub.status.idle": "2025-06-20T17:46:27.821772Z",
     "shell.execute_reply": "2025-06-20T17:46:27.820692Z"
    },
    "papermill": {
     "duration": 0.017107,
     "end_time": "2025-06-20T17:46:27.824151",
     "exception": false,
     "start_time": "2025-06-20T17:46:27.807044",
     "status": "completed"
    },
    "tags": []
   },
   "outputs": [
    {
     "name": "stdout",
     "output_type": "stream",
     "text": [
      "Ttest_indResult(statistic=3.7964208654863336, pvalue=0.001321891476703691)\n",
      "귀무가설 기각 -> H1 채택 약물을 복용한 그룹과 복용하지 않은 그룹의 평균 체온은 유의미한 차이가 있다.\n"
     ]
    }
   ],
   "source": [
    "from scipy import stats\n",
    "\n",
    "group1 = [36.8, 36.7, 37.1, 36.9, 37.2, 36.8, 36.9, 37.1, 36.7, 37.1]\n",
    "group2 = [36.5, 36.6, 36.3, 36.6, 36.9, 36.7, 36.7, 36.8, 36.5, 36.7]\n",
    "\n",
    "ttest_result = stats.ttest_ind(group1, group2)\n",
    "print(ttest_result)\n",
    "# tatistic=3.7964208654863336, pvalue=0.001321891476703691)\n",
    "pvalue = 0.001321891476703691\n",
    "alpha = 0.05\n",
    "\n",
    "if pvalue < alpha:\n",
    "    print(\"귀무가설 기각 -> H1 채택 약물을 복용한 그룹과 복용하지 않은 그룹의 평균 체온은 유의미한 차이가 있다.\")\n",
    "else:\n",
    "    print(\"귀무가설 채택 -> H0 약물을 복용한 그룹과 복용하지 않은 그룹의 평균 체온은 유의미한 차이가 있다.\")"
   ]
  },
  {
   "cell_type": "code",
   "execution_count": 3,
   "id": "1cba8005",
   "metadata": {
    "execution": {
     "iopub.execute_input": "2025-06-20T17:46:27.830088Z",
     "iopub.status.busy": "2025-06-20T17:46:27.829231Z",
     "iopub.status.idle": "2025-06-20T17:46:27.836730Z",
     "shell.execute_reply": "2025-06-20T17:46:27.835686Z"
    },
    "papermill": {
     "duration": 0.012501,
     "end_time": "2025-06-20T17:46:27.838822",
     "exception": false,
     "start_time": "2025-06-20T17:46:27.826321",
     "status": "completed"
    },
    "tags": []
   },
   "outputs": [
    {
     "name": "stdout",
     "output_type": "stream",
     "text": [
      "검정통계량: 3.7964208654863336\n",
      "p-value: 0.001321891476703691\n",
      "귀무가설을 기각합니다. 약물을 복용한 그룹과 복용하지 않은 그룹의 평균 체온은 유의미한 차이가 있습니다.\n"
     ]
    }
   ],
   "source": [
    "# 데이터 수집\n",
    "group1 = [36.8, 36.7, 37.1, 36.9, 37.2, 36.8, 36.9, 37.1, 36.7, 37.1]\n",
    "group2 = [36.5, 36.6, 36.3, 36.6, 36.9, 36.7, 36.7, 36.8, 36.5, 36.7]\n",
    "\n",
    "# 가설검정\n",
    "t_statistic, p_value = stats.ttest_ind(group1, group2)\n",
    "\n",
    "print(\"검정통계량:\", t_statistic)\n",
    "print(\"p-value:\", p_value)\n",
    "\n",
    "# 유의성 검정\n",
    "alpha = 0.05  # 유의수준 설정\n",
    "\n",
    "if p_value < alpha:\n",
    "    print(\"귀무가설을 기각합니다. 약물을 복용한 그룹과 복용하지 않은 그룹의 평균 체온은 유의미한 차이가 있습니다.\")\n",
    "else:\n",
    "    print(\"귀무가설을 채택합니다. 약물을 복용한 그룹과 복용하지 않은 그룹의 평균 체온은 유의미한 차이가 없습니다.\")"
   ]
  },
  {
   "cell_type": "code",
   "execution_count": null,
   "id": "d51684b4",
   "metadata": {
    "papermill": {
     "duration": 0.001759,
     "end_time": "2025-06-20T17:46:27.842669",
     "exception": false,
     "start_time": "2025-06-20T17:46:27.840910",
     "status": "completed"
    },
    "tags": []
   },
   "outputs": [],
   "source": []
  }
 ],
 "metadata": {
  "kaggle": {
   "accelerator": "none",
   "dataSources": [
    {
     "datasetId": 1633303,
     "sourceId": 12211878,
     "sourceType": "datasetVersion"
    }
   ],
   "dockerImageVersionId": 30474,
   "isGpuEnabled": false,
   "isInternetEnabled": false,
   "language": "python",
   "sourceType": "notebook"
  },
  "kernelspec": {
   "display_name": "Python 3",
   "language": "python",
   "name": "python3"
  },
  "language_info": {
   "codemirror_mode": {
    "name": "ipython",
    "version": 3
   },
   "file_extension": ".py",
   "mimetype": "text/x-python",
   "name": "python",
   "nbconvert_exporter": "python",
   "pygments_lexer": "ipython3",
   "version": "3.10.10"
  },
  "papermill": {
   "default_parameters": {},
   "duration": 13.633137,
   "end_time": "2025-06-20T17:46:28.765641",
   "environment_variables": {},
   "exception": null,
   "input_path": "__notebook__.ipynb",
   "output_path": "__notebook__.ipynb",
   "parameters": {},
   "start_time": "2025-06-20T17:46:15.132504",
   "version": "2.4.0"
  }
 },
 "nbformat": 4,
 "nbformat_minor": 5
}
