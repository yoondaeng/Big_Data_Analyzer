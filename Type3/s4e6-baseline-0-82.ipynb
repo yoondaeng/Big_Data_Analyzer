{
 "cells": [
  {
   "cell_type": "code",
   "execution_count": 1,
   "id": "f4149266",
   "metadata": {
    "_cell_guid": "b1076dfc-b9ad-4769-8c92-a6c4dae69d19",
    "_uuid": "8f2839f25d086af736a60e9eeb907d3b93b6e0e5",
    "execution": {
     "iopub.execute_input": "2025-06-20T19:34:28.481841Z",
     "iopub.status.busy": "2025-06-20T19:34:28.481365Z",
     "iopub.status.idle": "2025-06-20T19:34:30.286810Z",
     "shell.execute_reply": "2025-06-20T19:34:30.284563Z"
    },
    "papermill": {
     "duration": 1.814065,
     "end_time": "2025-06-20T19:34:30.290448",
     "exception": false,
     "start_time": "2025-06-20T19:34:28.476383",
     "status": "completed"
    },
    "tags": []
   },
   "outputs": [],
   "source": [
    "import pandas as pd\n",
    "train = pd.read_csv(\"/kaggle/input/playground-series-s4e6/train.csv\")\n",
    "test = pd.read_csv(\"/kaggle/input/playground-series-s4e6/test.csv\")"
   ]
  },
  {
   "cell_type": "code",
   "execution_count": 2,
   "id": "36a2fa62",
   "metadata": {
    "execution": {
     "iopub.execute_input": "2025-06-20T19:34:30.300341Z",
     "iopub.status.busy": "2025-06-20T19:34:30.299255Z",
     "iopub.status.idle": "2025-06-20T19:34:30.352422Z",
     "shell.execute_reply": "2025-06-20T19:34:30.351327Z"
    },
    "papermill": {
     "duration": 0.060644,
     "end_time": "2025-06-20T19:34:30.355166",
     "exception": false,
     "start_time": "2025-06-20T19:34:30.294522",
     "status": "completed"
    },
    "tags": []
   },
   "outputs": [
    {
     "name": "stdout",
     "output_type": "stream",
     "text": [
      "<class 'pandas.core.frame.DataFrame'>\n",
      "RangeIndex: 76518 entries, 0 to 76517\n",
      "Data columns (total 38 columns):\n",
      " #   Column                                          Non-Null Count  Dtype  \n",
      "---  ------                                          --------------  -----  \n",
      " 0   id                                              76518 non-null  int64  \n",
      " 1   Marital status                                  76518 non-null  int64  \n",
      " 2   Application mode                                76518 non-null  int64  \n",
      " 3   Application order                               76518 non-null  int64  \n",
      " 4   Course                                          76518 non-null  int64  \n",
      " 5   Daytime/evening attendance                      76518 non-null  int64  \n",
      " 6   Previous qualification                          76518 non-null  int64  \n",
      " 7   Previous qualification (grade)                  76518 non-null  float64\n",
      " 8   Nacionality                                     76518 non-null  int64  \n",
      " 9   Mother's qualification                          76518 non-null  int64  \n",
      " 10  Father's qualification                          76518 non-null  int64  \n",
      " 11  Mother's occupation                             76518 non-null  int64  \n",
      " 12  Father's occupation                             76518 non-null  int64  \n",
      " 13  Admission grade                                 76518 non-null  float64\n",
      " 14  Displaced                                       76518 non-null  int64  \n",
      " 15  Educational special needs                       76518 non-null  int64  \n",
      " 16  Debtor                                          76518 non-null  int64  \n",
      " 17  Tuition fees up to date                         76518 non-null  int64  \n",
      " 18  Gender                                          76518 non-null  int64  \n",
      " 19  Scholarship holder                              76518 non-null  int64  \n",
      " 20  Age at enrollment                               76518 non-null  int64  \n",
      " 21  International                                   76518 non-null  int64  \n",
      " 22  Curricular units 1st sem (credited)             76518 non-null  int64  \n",
      " 23  Curricular units 1st sem (enrolled)             76518 non-null  int64  \n",
      " 24  Curricular units 1st sem (evaluations)          76518 non-null  int64  \n",
      " 25  Curricular units 1st sem (approved)             76518 non-null  int64  \n",
      " 26  Curricular units 1st sem (grade)                76518 non-null  float64\n",
      " 27  Curricular units 1st sem (without evaluations)  76518 non-null  int64  \n",
      " 28  Curricular units 2nd sem (credited)             76518 non-null  int64  \n",
      " 29  Curricular units 2nd sem (enrolled)             76518 non-null  int64  \n",
      " 30  Curricular units 2nd sem (evaluations)          76518 non-null  int64  \n",
      " 31  Curricular units 2nd sem (approved)             76518 non-null  int64  \n",
      " 32  Curricular units 2nd sem (grade)                76518 non-null  float64\n",
      " 33  Curricular units 2nd sem (without evaluations)  76518 non-null  int64  \n",
      " 34  Unemployment rate                               76518 non-null  float64\n",
      " 35  Inflation rate                                  76518 non-null  float64\n",
      " 36  GDP                                             76518 non-null  float64\n",
      " 37  Target                                          76518 non-null  object \n",
      "dtypes: float64(7), int64(30), object(1)\n",
      "memory usage: 22.2+ MB\n",
      "None\n",
      "<class 'pandas.core.frame.DataFrame'>\n",
      "RangeIndex: 51012 entries, 0 to 51011\n",
      "Data columns (total 37 columns):\n",
      " #   Column                                          Non-Null Count  Dtype  \n",
      "---  ------                                          --------------  -----  \n",
      " 0   id                                              51012 non-null  int64  \n",
      " 1   Marital status                                  51012 non-null  int64  \n",
      " 2   Application mode                                51012 non-null  int64  \n",
      " 3   Application order                               51012 non-null  int64  \n",
      " 4   Course                                          51012 non-null  int64  \n",
      " 5   Daytime/evening attendance                      51012 non-null  int64  \n",
      " 6   Previous qualification                          51012 non-null  int64  \n",
      " 7   Previous qualification (grade)                  51012 non-null  float64\n",
      " 8   Nacionality                                     51012 non-null  int64  \n",
      " 9   Mother's qualification                          51012 non-null  int64  \n",
      " 10  Father's qualification                          51012 non-null  int64  \n",
      " 11  Mother's occupation                             51012 non-null  int64  \n",
      " 12  Father's occupation                             51012 non-null  int64  \n",
      " 13  Admission grade                                 51012 non-null  float64\n",
      " 14  Displaced                                       51012 non-null  int64  \n",
      " 15  Educational special needs                       51012 non-null  int64  \n",
      " 16  Debtor                                          51012 non-null  int64  \n",
      " 17  Tuition fees up to date                         51012 non-null  int64  \n",
      " 18  Gender                                          51012 non-null  int64  \n",
      " 19  Scholarship holder                              51012 non-null  int64  \n",
      " 20  Age at enrollment                               51012 non-null  int64  \n",
      " 21  International                                   51012 non-null  int64  \n",
      " 22  Curricular units 1st sem (credited)             51012 non-null  int64  \n",
      " 23  Curricular units 1st sem (enrolled)             51012 non-null  int64  \n",
      " 24  Curricular units 1st sem (evaluations)          51012 non-null  int64  \n",
      " 25  Curricular units 1st sem (approved)             51012 non-null  int64  \n",
      " 26  Curricular units 1st sem (grade)                51012 non-null  float64\n",
      " 27  Curricular units 1st sem (without evaluations)  51012 non-null  int64  \n",
      " 28  Curricular units 2nd sem (credited)             51012 non-null  int64  \n",
      " 29  Curricular units 2nd sem (enrolled)             51012 non-null  int64  \n",
      " 30  Curricular units 2nd sem (evaluations)          51012 non-null  int64  \n",
      " 31  Curricular units 2nd sem (approved)             51012 non-null  int64  \n",
      " 32  Curricular units 2nd sem (grade)                51012 non-null  float64\n",
      " 33  Curricular units 2nd sem (without evaluations)  51012 non-null  int64  \n",
      " 34  Unemployment rate                               51012 non-null  float64\n",
      " 35  Inflation rate                                  51012 non-null  float64\n",
      " 36  GDP                                             51012 non-null  float64\n",
      "dtypes: float64(7), int64(30)\n",
      "memory usage: 14.4 MB\n",
      "None\n"
     ]
    }
   ],
   "source": [
    "print(train.info())\n",
    "print(test.info())"
   ]
  },
  {
   "cell_type": "code",
   "execution_count": 3,
   "id": "ee7fa6d2",
   "metadata": {
    "execution": {
     "iopub.execute_input": "2025-06-20T19:34:30.362159Z",
     "iopub.status.busy": "2025-06-20T19:34:30.361712Z",
     "iopub.status.idle": "2025-06-20T19:34:47.577588Z",
     "shell.execute_reply": "2025-06-20T19:34:47.576325Z"
    },
    "papermill": {
     "duration": 17.222365,
     "end_time": "2025-06-20T19:34:47.580238",
     "exception": false,
     "start_time": "2025-06-20T19:34:30.357873",
     "status": "completed"
    },
    "tags": []
   },
   "outputs": [
    {
     "name": "stdout",
     "output_type": "stream",
     "text": [
      "0.8257971772085729\n",
      "           pred\n",
      "0       Dropout\n",
      "1      Graduate\n",
      "2      Graduate\n",
      "3      Graduate\n",
      "4      Enrolled\n",
      "...         ...\n",
      "51007   Dropout\n",
      "51008   Dropout\n",
      "51009   Dropout\n",
      "51010   Dropout\n",
      "51011   Dropout\n",
      "\n",
      "[51012 rows x 1 columns]\n"
     ]
    }
   ],
   "source": [
    "# print(train.shape, test.shape) # (76518, 38) (51012, 37)\n",
    "\n",
    "X = train.drop(['Target'], axis=1)\n",
    "y = train['Target']\n",
    "\n",
    "# print(X.shape, y.shape) # (76518, 37) (76518,)\n",
    "\n",
    "X_full = pd.concat([X, test], axis=0)\n",
    "# print(X_full.shape) # (127530, 37)\n",
    "# print(help(X_full.drop))\n",
    "X_full = X_full.drop(['id'], axis = 1)\n",
    "# print(X_full.shape) # (127530, 36)\n",
    "\n",
    "X_train = X_full[:76518]\n",
    "X_test = X_full[76518:]\n",
    "# print(X_train.shape, X_test.shape)\n",
    "\n",
    "# 데이터 분리\n",
    "from sklearn.model_selection import train_test_split\n",
    "\n",
    "X_train, X_val, y_train, y_val = train_test_split(X_train, y, test_size=0.20)\n",
    "# print(help(train_test_split))\n",
    "# print(X_trian.shape, X_val.shape, y_train.shape, y_val.shape)\n",
    "\n",
    "# 모델 학습 및 검증\n",
    "from sklearn.ensemble import RandomForestClassifier\n",
    "# print(dir(sklearn.ensemble))\n",
    "# print(help(RandomForestClassifier))\n",
    "\n",
    "model = RandomForestClassifier()\n",
    "model.fit(X_train, y_train)\n",
    "y_val_pred = model.predict(X_val)\n",
    "\n",
    "# 평가\n",
    "from sklearn.metrics import accuracy_score\n",
    "# print(dir(sklearn.metrics))\n",
    "acc = accuracy_score(y_val, y_val_pred)\n",
    "print(acc) # 0.8271693674856246\n",
    "\n",
    "# 결과 저장\n",
    "y_pred = model.predict(X_test)\n",
    "result = pd.DataFrame(y_pred, columns = ['pred']).to_csv('result.csv', index = False)\n",
    "\n",
    "# 결과 확인\n",
    "result = pd.read_csv('result.csv')\n",
    "print(result)"
   ]
  },
  {
   "cell_type": "code",
   "execution_count": 4,
   "id": "f2716ce5",
   "metadata": {
    "execution": {
     "iopub.execute_input": "2025-06-20T19:34:47.588886Z",
     "iopub.status.busy": "2025-06-20T19:34:47.587600Z",
     "iopub.status.idle": "2025-06-20T19:34:47.626748Z",
     "shell.execute_reply": "2025-06-20T19:34:47.625705Z"
    },
    "papermill": {
     "duration": 0.046479,
     "end_time": "2025-06-20T19:34:47.629622",
     "exception": false,
     "start_time": "2025-06-20T19:34:47.583143",
     "status": "completed"
    },
    "tags": []
   },
   "outputs": [
    {
     "name": "stdout",
     "output_type": "stream",
     "text": [
      "(76518, 38) (51012, 37)\n",
      "Target\n",
      "Graduate    36282\n",
      "Dropout     25296\n",
      "Enrolled    14940\n",
      "Name: count, dtype: int64\n",
      "0\n",
      "0\n",
      "<class 'pandas.core.frame.DataFrame'>\n",
      "RangeIndex: 76518 entries, 0 to 76517\n",
      "Data columns (total 38 columns):\n",
      " #   Column                                          Non-Null Count  Dtype  \n",
      "---  ------                                          --------------  -----  \n",
      " 0   id                                              76518 non-null  int64  \n",
      " 1   Marital status                                  76518 non-null  int64  \n",
      " 2   Application mode                                76518 non-null  int64  \n",
      " 3   Application order                               76518 non-null  int64  \n",
      " 4   Course                                          76518 non-null  int64  \n",
      " 5   Daytime/evening attendance                      76518 non-null  int64  \n",
      " 6   Previous qualification                          76518 non-null  int64  \n",
      " 7   Previous qualification (grade)                  76518 non-null  float64\n",
      " 8   Nacionality                                     76518 non-null  int64  \n",
      " 9   Mother's qualification                          76518 non-null  int64  \n",
      " 10  Father's qualification                          76518 non-null  int64  \n",
      " 11  Mother's occupation                             76518 non-null  int64  \n",
      " 12  Father's occupation                             76518 non-null  int64  \n",
      " 13  Admission grade                                 76518 non-null  float64\n",
      " 14  Displaced                                       76518 non-null  int64  \n",
      " 15  Educational special needs                       76518 non-null  int64  \n",
      " 16  Debtor                                          76518 non-null  int64  \n",
      " 17  Tuition fees up to date                         76518 non-null  int64  \n",
      " 18  Gender                                          76518 non-null  int64  \n",
      " 19  Scholarship holder                              76518 non-null  int64  \n",
      " 20  Age at enrollment                               76518 non-null  int64  \n",
      " 21  International                                   76518 non-null  int64  \n",
      " 22  Curricular units 1st sem (credited)             76518 non-null  int64  \n",
      " 23  Curricular units 1st sem (enrolled)             76518 non-null  int64  \n",
      " 24  Curricular units 1st sem (evaluations)          76518 non-null  int64  \n",
      " 25  Curricular units 1st sem (approved)             76518 non-null  int64  \n",
      " 26  Curricular units 1st sem (grade)                76518 non-null  float64\n",
      " 27  Curricular units 1st sem (without evaluations)  76518 non-null  int64  \n",
      " 28  Curricular units 2nd sem (credited)             76518 non-null  int64  \n",
      " 29  Curricular units 2nd sem (enrolled)             76518 non-null  int64  \n",
      " 30  Curricular units 2nd sem (evaluations)          76518 non-null  int64  \n",
      " 31  Curricular units 2nd sem (approved)             76518 non-null  int64  \n",
      " 32  Curricular units 2nd sem (grade)                76518 non-null  float64\n",
      " 33  Curricular units 2nd sem (without evaluations)  76518 non-null  int64  \n",
      " 34  Unemployment rate                               76518 non-null  float64\n",
      " 35  Inflation rate                                  76518 non-null  float64\n",
      " 36  GDP                                             76518 non-null  float64\n",
      " 37  Target                                          76518 non-null  object \n",
      "dtypes: float64(7), int64(30), object(1)\n",
      "memory usage: 22.2+ MB\n",
      "None\n"
     ]
    }
   ],
   "source": [
    "print(train.shape, test.shape)\n",
    "# print(train.head())\n",
    "print(train['Target'].value_counts())\n",
    "print(train.isnull().sum().sum())\n",
    "print(test.isnull().sum().sum())\n",
    "print(train.info())"
   ]
  },
  {
   "cell_type": "code",
   "execution_count": 5,
   "id": "69f249b1",
   "metadata": {
    "execution": {
     "iopub.execute_input": "2025-06-20T19:34:47.637633Z",
     "iopub.status.busy": "2025-06-20T19:34:47.636806Z",
     "iopub.status.idle": "2025-06-20T19:35:02.876170Z",
     "shell.execute_reply": "2025-06-20T19:35:02.874330Z"
    },
    "papermill": {
     "duration": 15.246115,
     "end_time": "2025-06-20T19:35:02.878656",
     "exception": false,
     "start_time": "2025-06-20T19:34:47.632541",
     "status": "completed"
    },
    "tags": []
   },
   "outputs": [
    {
     "name": "stdout",
     "output_type": "stream",
     "text": [
      "Accuracy: 0.8238369053842133\n"
     ]
    }
   ],
   "source": [
    "from sklearn.model_selection import train_test_split\n",
    "target = train.pop('Target')\n",
    "X_train, X_test, y_train, y_test = train_test_split(train, target, test_size=0.2, random_state=0)\n",
    "\n",
    "from sklearn.ensemble import RandomForestClassifier\n",
    "clf = RandomForestClassifier(random_state=0)\n",
    "clf.fit(X_train, y_train)\n",
    "\n",
    "from sklearn.metrics import accuracy_score\n",
    "y_pred = clf.predict(X_test)\n",
    "accuracy = accuracy_score(y_test, y_pred)\n",
    "print(f\"Accuracy: {accuracy}\")"
   ]
  },
  {
   "cell_type": "code",
   "execution_count": null,
   "id": "6eb2c171",
   "metadata": {
    "papermill": {
     "duration": 0.002639,
     "end_time": "2025-06-20T19:35:02.884364",
     "exception": false,
     "start_time": "2025-06-20T19:35:02.881725",
     "status": "completed"
    },
    "tags": []
   },
   "outputs": [],
   "source": []
  }
 ],
 "metadata": {
  "kaggle": {
   "accelerator": "none",
   "dataSources": [
    {
     "databundleVersionId": 8710574,
     "sourceId": 73290,
     "sourceType": "competition"
    }
   ],
   "dockerImageVersionId": 30732,
   "isGpuEnabled": false,
   "isInternetEnabled": false,
   "language": "python",
   "sourceType": "notebook"
  },
  "kernelspec": {
   "display_name": "Python 3",
   "language": "python",
   "name": "python3"
  },
  "language_info": {
   "codemirror_mode": {
    "name": "ipython",
    "version": 3
   },
   "file_extension": ".py",
   "mimetype": "text/x-python",
   "name": "python",
   "nbconvert_exporter": "python",
   "pygments_lexer": "ipython3",
   "version": "3.10.13"
  },
  "papermill": {
   "default_parameters": {},
   "duration": 38.979256,
   "end_time": "2025-06-20T19:35:03.811947",
   "environment_variables": {},
   "exception": null,
   "input_path": "__notebook__.ipynb",
   "output_path": "__notebook__.ipynb",
   "parameters": {},
   "start_time": "2025-06-20T19:34:24.832691",
   "version": "2.5.0"
  }
 },
 "nbformat": 4,
 "nbformat_minor": 5
}
