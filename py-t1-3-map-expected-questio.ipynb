{
 "cells": [
  {
   "cell_type": "markdown",
   "id": "d045072f",
   "metadata": {
    "papermill": {
     "duration": 0.014927,
     "end_time": "2025-06-17T09:05:44.595150",
     "exception": false,
     "start_time": "2025-06-17T09:05:44.580223",
     "status": "completed"
    },
    "tags": []
   },
   "source": [
    "## 결측치 처리\n",
    "-  주어진 데이터에서 결측치가 80%이상 되는 컬럼은(변수는) 삭제하고, 80% 미만인 결측치가 있는 컬럼은 'city'별 중앙값으로 값을 대체하고 'f1'컬럼의 평균값을 출력하세요!\n",
    "- 데이터셋 : basic1.csv 오른쪽 상단 copy&edit 클릭 -> 예상문제 풀이 시작\n",
    "- 강의 영상 : https://youtu.be/WqlpqBRn7x4"
   ]
  },
  {
   "cell_type": "code",
   "execution_count": 1,
   "id": "6770fcff",
   "metadata": {
    "execution": {
     "iopub.execute_input": "2025-06-17T09:05:44.630398Z",
     "iopub.status.busy": "2025-06-17T09:05:44.629449Z",
     "iopub.status.idle": "2025-06-17T09:05:44.681133Z",
     "shell.execute_reply": "2025-06-17T09:05:44.681646Z",
     "shell.execute_reply.started": "2025-06-17T07:36:25.856552Z"
    },
    "papermill": {
     "duration": 0.073455,
     "end_time": "2025-06-17T09:05:44.681916",
     "exception": false,
     "start_time": "2025-06-17T09:05:44.608461",
     "status": "completed"
    },
    "tags": []
   },
   "outputs": [
    {
     "name": "stdout",
     "output_type": "stream",
     "text": [
      "(100, 8)\n",
      "<class 'pandas.core.frame.DataFrame'>\n",
      "RangeIndex: 100 entries, 0 to 99\n",
      "Data columns (total 8 columns):\n",
      " #   Column  Non-Null Count  Dtype  \n",
      "---  ------  --------------  -----  \n",
      " 0   id      100 non-null    object \n",
      " 1   age     100 non-null    float64\n",
      " 2   city    100 non-null    object \n",
      " 3   f1      69 non-null     float64\n",
      " 4   f2      100 non-null    int64  \n",
      " 5   f3      5 non-null      object \n",
      " 6   f4      100 non-null    object \n",
      " 7   f5      100 non-null    float64\n",
      "dtypes: float64(3), int64(1), object(4)\n",
      "memory usage: 6.4+ KB\n",
      "None\n"
     ]
    },
    {
     "data": {
      "text/html": [
       "<div>\n",
       "<style scoped>\n",
       "    .dataframe tbody tr th:only-of-type {\n",
       "        vertical-align: middle;\n",
       "    }\n",
       "\n",
       "    .dataframe tbody tr th {\n",
       "        vertical-align: top;\n",
       "    }\n",
       "\n",
       "    .dataframe thead th {\n",
       "        text-align: right;\n",
       "    }\n",
       "</style>\n",
       "<table border=\"1\" class=\"dataframe\">\n",
       "  <thead>\n",
       "    <tr style=\"text-align: right;\">\n",
       "      <th></th>\n",
       "      <th>id</th>\n",
       "      <th>age</th>\n",
       "      <th>city</th>\n",
       "      <th>f1</th>\n",
       "      <th>f2</th>\n",
       "      <th>f3</th>\n",
       "      <th>f4</th>\n",
       "      <th>f5</th>\n",
       "    </tr>\n",
       "  </thead>\n",
       "  <tbody>\n",
       "    <tr>\n",
       "      <th>0</th>\n",
       "      <td>id01</td>\n",
       "      <td>2.0</td>\n",
       "      <td>서울</td>\n",
       "      <td>NaN</td>\n",
       "      <td>0</td>\n",
       "      <td>NaN</td>\n",
       "      <td>ENFJ</td>\n",
       "      <td>91.297791</td>\n",
       "    </tr>\n",
       "    <tr>\n",
       "      <th>1</th>\n",
       "      <td>id02</td>\n",
       "      <td>9.0</td>\n",
       "      <td>서울</td>\n",
       "      <td>70.0</td>\n",
       "      <td>1</td>\n",
       "      <td>NaN</td>\n",
       "      <td>ENFJ</td>\n",
       "      <td>60.339826</td>\n",
       "    </tr>\n",
       "    <tr>\n",
       "      <th>2</th>\n",
       "      <td>id03</td>\n",
       "      <td>27.0</td>\n",
       "      <td>서울</td>\n",
       "      <td>61.0</td>\n",
       "      <td>1</td>\n",
       "      <td>NaN</td>\n",
       "      <td>ISTJ</td>\n",
       "      <td>17.252986</td>\n",
       "    </tr>\n",
       "    <tr>\n",
       "      <th>3</th>\n",
       "      <td>id04</td>\n",
       "      <td>75.0</td>\n",
       "      <td>서울</td>\n",
       "      <td>NaN</td>\n",
       "      <td>2</td>\n",
       "      <td>NaN</td>\n",
       "      <td>INFP</td>\n",
       "      <td>52.667078</td>\n",
       "    </tr>\n",
       "    <tr>\n",
       "      <th>4</th>\n",
       "      <td>id05</td>\n",
       "      <td>24.0</td>\n",
       "      <td>서울</td>\n",
       "      <td>85.0</td>\n",
       "      <td>2</td>\n",
       "      <td>NaN</td>\n",
       "      <td>ISFJ</td>\n",
       "      <td>29.269869</td>\n",
       "    </tr>\n",
       "  </tbody>\n",
       "</table>\n",
       "</div>"
      ],
      "text/plain": [
       "     id   age city    f1  f2   f3    f4         f5\n",
       "0  id01   2.0   서울   NaN   0  NaN  ENFJ  91.297791\n",
       "1  id02   9.0   서울  70.0   1  NaN  ENFJ  60.339826\n",
       "2  id03  27.0   서울  61.0   1  NaN  ISTJ  17.252986\n",
       "3  id04  75.0   서울   NaN   2  NaN  INFP  52.667078\n",
       "4  id05  24.0   서울  85.0   2  NaN  ISFJ  29.269869"
      ]
     },
     "execution_count": 1,
     "metadata": {},
     "output_type": "execute_result"
    }
   ],
   "source": [
    "# 라이브러리 및 데이터 불러오기\n",
    "import pandas as pd\n",
    "import numpy as np\n",
    "\n",
    "df = pd.read_csv(\"../input/bigdatacertificationkr/basic1.csv\")\n",
    "print(df.shape)\n",
    "print(df.info())\n",
    "df.head()"
   ]
  },
  {
   "cell_type": "code",
   "execution_count": 2,
   "id": "e7fc4bcf",
   "metadata": {
    "execution": {
     "iopub.execute_input": "2025-06-17T09:05:44.719874Z",
     "iopub.status.busy": "2025-06-17T09:05:44.719194Z",
     "iopub.status.idle": "2025-06-17T09:05:44.722037Z",
     "shell.execute_reply": "2025-06-17T09:05:44.722451Z",
     "shell.execute_reply.started": "2025-06-17T07:36:25.902511Z"
    },
    "papermill": {
     "duration": 0.02703,
     "end_time": "2025-06-17T09:05:44.722614",
     "exception": false,
     "start_time": "2025-06-17T09:05:44.695584",
     "status": "completed"
    },
    "tags": []
   },
   "outputs": [
    {
     "data": {
      "text/plain": [
       "id      0.00\n",
       "age     0.00\n",
       "city    0.00\n",
       "f1      0.31\n",
       "f2      0.00\n",
       "f3      0.95\n",
       "f4      0.00\n",
       "f5      0.00\n",
       "dtype: float64"
      ]
     },
     "execution_count": 2,
     "metadata": {},
     "output_type": "execute_result"
    }
   ],
   "source": [
    "# EDA - 결측값 확인(비율 확인)\n",
    "df.isnull().sum()\n",
    "df.isnull().sum() / df.shape[0] "
   ]
  },
  {
   "cell_type": "code",
   "execution_count": 3,
   "id": "09241ae3",
   "metadata": {
    "execution": {
     "iopub.execute_input": "2025-06-17T09:05:44.757622Z",
     "iopub.status.busy": "2025-06-17T09:05:44.756941Z",
     "iopub.status.idle": "2025-06-17T09:05:44.760036Z",
     "shell.execute_reply": "2025-06-17T09:05:44.759568Z",
     "shell.execute_reply.started": "2025-06-17T07:36:25.918807Z"
    },
    "papermill": {
     "duration": 0.023846,
     "end_time": "2025-06-17T09:05:44.760174",
     "exception": false,
     "start_time": "2025-06-17T09:05:44.736328",
     "status": "completed"
    },
    "tags": []
   },
   "outputs": [
    {
     "name": "stdout",
     "output_type": "stream",
     "text": [
      "(100, 7)\n"
     ]
    }
   ],
   "source": [
    "# 80%이상 결측치 컬럼, 삭제\n",
    "# f3 80%이상이므로 f3을 삭제\n",
    "df = df.drop(['f3'], axis = 1)\n",
    "print(df.shape)"
   ]
  },
  {
   "cell_type": "code",
   "execution_count": 4,
   "id": "b8f24021",
   "metadata": {
    "execution": {
     "iopub.execute_input": "2025-06-17T09:05:44.797824Z",
     "iopub.status.busy": "2025-06-17T09:05:44.797085Z",
     "iopub.status.idle": "2025-06-17T09:05:44.801206Z",
     "shell.execute_reply": "2025-06-17T09:05:44.800774Z",
     "shell.execute_reply.started": "2025-06-17T07:36:25.943033Z"
    },
    "papermill": {
     "duration": 0.027426,
     "end_time": "2025-06-17T09:05:44.801366",
     "exception": false,
     "start_time": "2025-06-17T09:05:44.773940",
     "status": "completed"
    },
    "tags": []
   },
   "outputs": [
    {
     "data": {
      "text/plain": [
       "(58.0, 75.0, 62.0, 68.0)"
      ]
     },
     "execution_count": 4,
     "metadata": {},
     "output_type": "execute_result"
    }
   ],
   "source": [
    "# 80%미만 결측치 컬럼, city별 중앙값으로 대체\n",
    "\n",
    "df['city'].unique()\n",
    "\n",
    "# s = df[df['city'] == '서울']['f1'].median()\n",
    "# b = df[df['city'] == '부산']['f1'].median()\n",
    "# d = df[df['city'] == '대구']['f1'].median()\n",
    "# k = df[df['city'] == '경기']['f1'].median()\n",
    "\n",
    "s, b, d, k = df.groupby('city')['f1'].median()\n",
    "s, b, d, k"
   ]
  },
  {
   "cell_type": "code",
   "execution_count": 5,
   "id": "37aaff8e",
   "metadata": {
    "execution": {
     "iopub.execute_input": "2025-06-17T09:05:44.841595Z",
     "iopub.status.busy": "2025-06-17T09:05:44.840847Z",
     "iopub.status.idle": "2025-06-17T09:05:44.844549Z",
     "shell.execute_reply": "2025-06-17T09:05:44.844031Z",
     "shell.execute_reply.started": "2025-06-17T07:36:25.9665Z"
    },
    "papermill": {
     "duration": 0.029436,
     "end_time": "2025-06-17T09:05:44.844695",
     "exception": false,
     "start_time": "2025-06-17T09:05:44.815259",
     "status": "completed"
    },
    "tags": []
   },
   "outputs": [
    {
     "data": {
      "text/html": [
       "<div>\n",
       "<style scoped>\n",
       "    .dataframe tbody tr th:only-of-type {\n",
       "        vertical-align: middle;\n",
       "    }\n",
       "\n",
       "    .dataframe tbody tr th {\n",
       "        vertical-align: top;\n",
       "    }\n",
       "\n",
       "    .dataframe thead th {\n",
       "        text-align: right;\n",
       "    }\n",
       "</style>\n",
       "<table border=\"1\" class=\"dataframe\">\n",
       "  <thead>\n",
       "    <tr style=\"text-align: right;\">\n",
       "      <th></th>\n",
       "      <th>id</th>\n",
       "      <th>age</th>\n",
       "      <th>city</th>\n",
       "      <th>f1</th>\n",
       "      <th>f2</th>\n",
       "      <th>f4</th>\n",
       "      <th>f5</th>\n",
       "    </tr>\n",
       "  </thead>\n",
       "  <tbody>\n",
       "    <tr>\n",
       "      <th>0</th>\n",
       "      <td>id01</td>\n",
       "      <td>2.0</td>\n",
       "      <td>서울</td>\n",
       "      <td>NaN</td>\n",
       "      <td>0</td>\n",
       "      <td>ENFJ</td>\n",
       "      <td>91.297791</td>\n",
       "    </tr>\n",
       "    <tr>\n",
       "      <th>1</th>\n",
       "      <td>id02</td>\n",
       "      <td>9.0</td>\n",
       "      <td>서울</td>\n",
       "      <td>70.0</td>\n",
       "      <td>1</td>\n",
       "      <td>ENFJ</td>\n",
       "      <td>60.339826</td>\n",
       "    </tr>\n",
       "    <tr>\n",
       "      <th>2</th>\n",
       "      <td>id03</td>\n",
       "      <td>27.0</td>\n",
       "      <td>서울</td>\n",
       "      <td>61.0</td>\n",
       "      <td>1</td>\n",
       "      <td>ISTJ</td>\n",
       "      <td>17.252986</td>\n",
       "    </tr>\n",
       "    <tr>\n",
       "      <th>3</th>\n",
       "      <td>id04</td>\n",
       "      <td>75.0</td>\n",
       "      <td>서울</td>\n",
       "      <td>NaN</td>\n",
       "      <td>2</td>\n",
       "      <td>INFP</td>\n",
       "      <td>52.667078</td>\n",
       "    </tr>\n",
       "  </tbody>\n",
       "</table>\n",
       "</div>"
      ],
      "text/plain": [
       "     id   age city    f1  f2    f4         f5\n",
       "0  id01   2.0   서울   NaN   0  ENFJ  91.297791\n",
       "1  id02   9.0   서울  70.0   1  ENFJ  60.339826\n",
       "2  id03  27.0   서울  61.0   1  ISTJ  17.252986\n",
       "3  id04  75.0   서울   NaN   2  INFP  52.667078"
      ]
     },
     "execution_count": 5,
     "metadata": {},
     "output_type": "execute_result"
    }
   ],
   "source": [
    "# f1 평균값 결과 출력\n",
    "df[0:4] # f3 삭제된 것 확인 가능"
   ]
  },
  {
   "cell_type": "code",
   "execution_count": 6,
   "id": "b052f011",
   "metadata": {
    "execution": {
     "iopub.execute_input": "2025-06-17T09:05:44.889459Z",
     "iopub.status.busy": "2025-06-17T09:05:44.888688Z",
     "iopub.status.idle": "2025-06-17T09:05:44.892522Z",
     "shell.execute_reply": "2025-06-17T09:05:44.891979Z",
     "shell.execute_reply.started": "2025-06-17T07:41:06.719504Z"
    },
    "papermill": {
     "duration": 0.033002,
     "end_time": "2025-06-17T09:05:44.892657",
     "exception": false,
     "start_time": "2025-06-17T09:05:44.859655",
     "status": "completed"
    },
    "tags": []
   },
   "outputs": [
    {
     "data": {
      "text/html": [
       "<div>\n",
       "<style scoped>\n",
       "    .dataframe tbody tr th:only-of-type {\n",
       "        vertical-align: middle;\n",
       "    }\n",
       "\n",
       "    .dataframe tbody tr th {\n",
       "        vertical-align: top;\n",
       "    }\n",
       "\n",
       "    .dataframe thead th {\n",
       "        text-align: right;\n",
       "    }\n",
       "</style>\n",
       "<table border=\"1\" class=\"dataframe\">\n",
       "  <thead>\n",
       "    <tr style=\"text-align: right;\">\n",
       "      <th></th>\n",
       "      <th>id</th>\n",
       "      <th>age</th>\n",
       "      <th>city</th>\n",
       "      <th>f1</th>\n",
       "      <th>f2</th>\n",
       "      <th>f4</th>\n",
       "      <th>f5</th>\n",
       "    </tr>\n",
       "  </thead>\n",
       "  <tbody>\n",
       "    <tr>\n",
       "      <th>0</th>\n",
       "      <td>id01</td>\n",
       "      <td>2.0</td>\n",
       "      <td>서울</td>\n",
       "      <td>58.0</td>\n",
       "      <td>0</td>\n",
       "      <td>ENFJ</td>\n",
       "      <td>91.297791</td>\n",
       "    </tr>\n",
       "    <tr>\n",
       "      <th>1</th>\n",
       "      <td>id02</td>\n",
       "      <td>9.0</td>\n",
       "      <td>서울</td>\n",
       "      <td>70.0</td>\n",
       "      <td>1</td>\n",
       "      <td>ENFJ</td>\n",
       "      <td>60.339826</td>\n",
       "    </tr>\n",
       "    <tr>\n",
       "      <th>2</th>\n",
       "      <td>id03</td>\n",
       "      <td>27.0</td>\n",
       "      <td>서울</td>\n",
       "      <td>61.0</td>\n",
       "      <td>1</td>\n",
       "      <td>ISTJ</td>\n",
       "      <td>17.252986</td>\n",
       "    </tr>\n",
       "    <tr>\n",
       "      <th>3</th>\n",
       "      <td>id04</td>\n",
       "      <td>75.0</td>\n",
       "      <td>서울</td>\n",
       "      <td>58.0</td>\n",
       "      <td>2</td>\n",
       "      <td>INFP</td>\n",
       "      <td>52.667078</td>\n",
       "    </tr>\n",
       "  </tbody>\n",
       "</table>\n",
       "</div>"
      ],
      "text/plain": [
       "     id   age city    f1  f2    f4         f5\n",
       "0  id01   2.0   서울  58.0   0  ENFJ  91.297791\n",
       "1  id02   9.0   서울  70.0   1  ENFJ  60.339826\n",
       "2  id03  27.0   서울  61.0   1  ISTJ  17.252986\n",
       "3  id04  75.0   서울  58.0   2  INFP  52.667078"
      ]
     },
     "execution_count": 6,
     "metadata": {},
     "output_type": "execute_result"
    }
   ],
   "source": [
    "df['f1'] = df['f1'].fillna(df['city'].map({'서울': s, '부산': b, '대구': d, '경기': k}))\n",
    "df[0:4] # city 결측치 서울 58로 대체 완료\n",
    "\n",
    "# help(df.fillna) # 결측치를 특정한 값으로 대체하는 함수\n",
    "# help(map)"
   ]
  },
  {
   "cell_type": "code",
   "execution_count": 7,
   "id": "a8905508",
   "metadata": {
    "execution": {
     "iopub.execute_input": "2025-06-17T09:05:44.928963Z",
     "iopub.status.busy": "2025-06-17T09:05:44.928310Z",
     "iopub.status.idle": "2025-06-17T09:05:44.930973Z",
     "shell.execute_reply": "2025-06-17T09:05:44.931451Z",
     "shell.execute_reply.started": "2025-06-17T07:41:12.135176Z"
    },
    "papermill": {
     "duration": 0.022622,
     "end_time": "2025-06-17T09:05:44.931619",
     "exception": false,
     "start_time": "2025-06-17T09:05:44.908997",
     "status": "completed"
    },
    "tags": []
   },
   "outputs": [
    {
     "name": "stdout",
     "output_type": "stream",
     "text": [
      "66.22\n"
     ]
    }
   ],
   "source": [
    "# 결측치 처리 후 f1의 평균값\n",
    "print(df['f1'].mean())"
   ]
  },
  {
   "cell_type": "markdown",
   "id": "c224319d",
   "metadata": {
    "papermill": {
     "duration": 0.014646,
     "end_time": "2025-06-17T09:05:44.961434",
     "exception": false,
     "start_time": "2025-06-17T09:05:44.946788",
     "status": "completed"
    },
    "tags": []
   },
   "source": [
    "## Hint\n",
    "- city별 중앙값으로 대체에서는 map함수 활용"
   ]
  },
  {
   "cell_type": "markdown",
   "id": "5e9d45f2",
   "metadata": {
    "papermill": {
     "duration": 0.01494,
     "end_time": "2025-06-17T09:05:44.991594",
     "exception": false,
     "start_time": "2025-06-17T09:05:44.976654",
     "status": "completed"
    },
    "tags": []
   },
   "source": [
    "## 풀이"
   ]
  },
  {
   "cell_type": "code",
   "execution_count": 8,
   "id": "71e462be",
   "metadata": {
    "execution": {
     "iopub.execute_input": "2025-06-17T09:05:45.026740Z",
     "iopub.status.busy": "2025-06-17T09:05:45.026034Z",
     "iopub.status.idle": "2025-06-17T09:05:45.040750Z",
     "shell.execute_reply": "2025-06-17T09:05:45.040147Z",
     "shell.execute_reply.started": "2025-06-17T07:36:26.039242Z"
    },
    "papermill": {
     "duration": 0.034439,
     "end_time": "2025-06-17T09:05:45.040879",
     "exception": false,
     "start_time": "2025-06-17T09:05:45.006440",
     "status": "completed"
    },
    "tags": []
   },
   "outputs": [
    {
     "data": {
      "text/html": [
       "<div>\n",
       "<style scoped>\n",
       "    .dataframe tbody tr th:only-of-type {\n",
       "        vertical-align: middle;\n",
       "    }\n",
       "\n",
       "    .dataframe tbody tr th {\n",
       "        vertical-align: top;\n",
       "    }\n",
       "\n",
       "    .dataframe thead th {\n",
       "        text-align: right;\n",
       "    }\n",
       "</style>\n",
       "<table border=\"1\" class=\"dataframe\">\n",
       "  <thead>\n",
       "    <tr style=\"text-align: right;\">\n",
       "      <th></th>\n",
       "      <th>id</th>\n",
       "      <th>age</th>\n",
       "      <th>city</th>\n",
       "      <th>f1</th>\n",
       "      <th>f2</th>\n",
       "      <th>f3</th>\n",
       "      <th>f4</th>\n",
       "      <th>f5</th>\n",
       "    </tr>\n",
       "  </thead>\n",
       "  <tbody>\n",
       "    <tr>\n",
       "      <th>0</th>\n",
       "      <td>id01</td>\n",
       "      <td>2.0</td>\n",
       "      <td>서울</td>\n",
       "      <td>NaN</td>\n",
       "      <td>0</td>\n",
       "      <td>NaN</td>\n",
       "      <td>ENFJ</td>\n",
       "      <td>91.297791</td>\n",
       "    </tr>\n",
       "    <tr>\n",
       "      <th>1</th>\n",
       "      <td>id02</td>\n",
       "      <td>9.0</td>\n",
       "      <td>서울</td>\n",
       "      <td>70.0</td>\n",
       "      <td>1</td>\n",
       "      <td>NaN</td>\n",
       "      <td>ENFJ</td>\n",
       "      <td>60.339826</td>\n",
       "    </tr>\n",
       "    <tr>\n",
       "      <th>2</th>\n",
       "      <td>id03</td>\n",
       "      <td>27.0</td>\n",
       "      <td>서울</td>\n",
       "      <td>61.0</td>\n",
       "      <td>1</td>\n",
       "      <td>NaN</td>\n",
       "      <td>ISTJ</td>\n",
       "      <td>17.252986</td>\n",
       "    </tr>\n",
       "    <tr>\n",
       "      <th>3</th>\n",
       "      <td>id04</td>\n",
       "      <td>75.0</td>\n",
       "      <td>서울</td>\n",
       "      <td>NaN</td>\n",
       "      <td>2</td>\n",
       "      <td>NaN</td>\n",
       "      <td>INFP</td>\n",
       "      <td>52.667078</td>\n",
       "    </tr>\n",
       "    <tr>\n",
       "      <th>4</th>\n",
       "      <td>id05</td>\n",
       "      <td>24.0</td>\n",
       "      <td>서울</td>\n",
       "      <td>85.0</td>\n",
       "      <td>2</td>\n",
       "      <td>NaN</td>\n",
       "      <td>ISFJ</td>\n",
       "      <td>29.269869</td>\n",
       "    </tr>\n",
       "  </tbody>\n",
       "</table>\n",
       "</div>"
      ],
      "text/plain": [
       "     id   age city    f1  f2   f3    f4         f5\n",
       "0  id01   2.0   서울   NaN   0  NaN  ENFJ  91.297791\n",
       "1  id02   9.0   서울  70.0   1  NaN  ENFJ  60.339826\n",
       "2  id03  27.0   서울  61.0   1  NaN  ISTJ  17.252986\n",
       "3  id04  75.0   서울   NaN   2  NaN  INFP  52.667078\n",
       "4  id05  24.0   서울  85.0   2  NaN  ISFJ  29.269869"
      ]
     },
     "execution_count": 8,
     "metadata": {},
     "output_type": "execute_result"
    }
   ],
   "source": [
    "# 라이브러리 및 데이터 불러오기\n",
    "import pandas as pd\n",
    "import numpy as np\n",
    "\n",
    "df = pd.read_csv('../input/bigdatacertificationkr/basic1.csv')\n",
    "df.head()"
   ]
  },
  {
   "cell_type": "code",
   "execution_count": 9,
   "id": "d1665cf7",
   "metadata": {
    "_cell_guid": "b1076dfc-b9ad-4769-8c92-a6c4dae69d19",
    "_uuid": "8f2839f25d086af736a60e9eeb907d3b93b6e0e5",
    "execution": {
     "iopub.execute_input": "2025-06-17T09:05:45.080196Z",
     "iopub.status.busy": "2025-06-17T09:05:45.079356Z",
     "iopub.status.idle": "2025-06-17T09:05:45.082531Z",
     "shell.execute_reply": "2025-06-17T09:05:45.082963Z",
     "shell.execute_reply.started": "2025-06-17T07:36:26.068755Z"
    },
    "papermill": {
     "duration": 0.026331,
     "end_time": "2025-06-17T09:05:45.083120",
     "exception": false,
     "start_time": "2025-06-17T09:05:45.056789",
     "status": "completed"
    },
    "tags": []
   },
   "outputs": [
    {
     "data": {
      "text/plain": [
       "id       0\n",
       "age      0\n",
       "city     0\n",
       "f1      31\n",
       "f2       0\n",
       "f3      95\n",
       "f4       0\n",
       "f5       0\n",
       "dtype: int64"
      ]
     },
     "execution_count": 9,
     "metadata": {},
     "output_type": "execute_result"
    }
   ],
   "source": [
    "# EDA - 결측값 확인\n",
    "df.isnull().sum()"
   ]
  },
  {
   "cell_type": "code",
   "execution_count": 10,
   "id": "17ca383e",
   "metadata": {
    "execution": {
     "iopub.execute_input": "2025-06-17T09:05:45.119391Z",
     "iopub.status.busy": "2025-06-17T09:05:45.118609Z",
     "iopub.status.idle": "2025-06-17T09:05:45.122016Z",
     "shell.execute_reply": "2025-06-17T09:05:45.121452Z",
     "shell.execute_reply.started": "2025-06-17T07:36:26.081623Z"
    },
    "papermill": {
     "duration": 0.02355,
     "end_time": "2025-06-17T09:05:45.122143",
     "exception": false,
     "start_time": "2025-06-17T09:05:45.098593",
     "status": "completed"
    },
    "tags": []
   },
   "outputs": [
    {
     "data": {
      "text/plain": [
       "(100, 8)"
      ]
     },
     "execution_count": 10,
     "metadata": {},
     "output_type": "execute_result"
    }
   ],
   "source": [
    "# 데이터 shape\n",
    "df.shape"
   ]
  },
  {
   "cell_type": "code",
   "execution_count": 11,
   "id": "af5f983b",
   "metadata": {
    "execution": {
     "iopub.execute_input": "2025-06-17T09:05:45.162162Z",
     "iopub.status.busy": "2025-06-17T09:05:45.161451Z",
     "iopub.status.idle": "2025-06-17T09:05:45.165094Z",
     "shell.execute_reply": "2025-06-17T09:05:45.164647Z",
     "shell.execute_reply.started": "2025-06-17T07:36:26.100906Z"
    },
    "papermill": {
     "duration": 0.027053,
     "end_time": "2025-06-17T09:05:45.165231",
     "exception": false,
     "start_time": "2025-06-17T09:05:45.138178",
     "status": "completed"
    },
    "tags": []
   },
   "outputs": [
    {
     "data": {
      "text/plain": [
       "id      0.00\n",
       "age     0.00\n",
       "city    0.00\n",
       "f1      0.31\n",
       "f2      0.00\n",
       "f3      0.95\n",
       "f4      0.00\n",
       "f5      0.00\n",
       "dtype: float64"
      ]
     },
     "execution_count": 11,
     "metadata": {},
     "output_type": "execute_result"
    }
   ],
   "source": [
    "# EDA - 결측비율 확인\n",
    "df.isnull().sum()/df.shape[0]"
   ]
  },
  {
   "cell_type": "code",
   "execution_count": 12,
   "id": "df7cb8ef",
   "metadata": {
    "execution": {
     "iopub.execute_input": "2025-06-17T09:05:45.204751Z",
     "iopub.status.busy": "2025-06-17T09:05:45.204065Z",
     "iopub.status.idle": "2025-06-17T09:05:45.207053Z",
     "shell.execute_reply": "2025-06-17T09:05:45.206601Z",
     "shell.execute_reply.started": "2025-06-17T07:36:26.124094Z"
    },
    "papermill": {
     "duration": 0.025747,
     "end_time": "2025-06-17T09:05:45.207205",
     "exception": false,
     "start_time": "2025-06-17T09:05:45.181458",
     "status": "completed"
    },
    "tags": []
   },
   "outputs": [
    {
     "name": "stdout",
     "output_type": "stream",
     "text": [
      "삭제 전: (100, 8)\n",
      "삭제 후: (100, 7)\n"
     ]
    }
   ],
   "source": [
    "# f3 컬럼 삭제\n",
    "print(\"삭제 전:\", df.shape)\n",
    "df = df.drop(['f3'], axis=1)\n",
    "print(\"삭제 후:\", df.shape)\n",
    "\n",
    "# 결측치가 있는 컬럼을 제거하는 2가지 방법\n",
    "# df.drop(['B', 'C'], axis=1)\n",
    "# df.drop(columns=['B', 'C'])"
   ]
  },
  {
   "cell_type": "code",
   "execution_count": 13,
   "id": "8a86da91",
   "metadata": {
    "execution": {
     "iopub.execute_input": "2025-06-17T09:05:45.247262Z",
     "iopub.status.busy": "2025-06-17T09:05:45.246291Z",
     "iopub.status.idle": "2025-06-17T09:05:45.249487Z",
     "shell.execute_reply": "2025-06-17T09:05:45.249938Z",
     "shell.execute_reply.started": "2025-06-17T07:38:34.655557Z"
    },
    "papermill": {
     "duration": 0.026494,
     "end_time": "2025-06-17T09:05:45.250101",
     "exception": false,
     "start_time": "2025-06-17T09:05:45.223607",
     "status": "completed"
    },
    "tags": []
   },
   "outputs": [
    {
     "name": "stdout",
     "output_type": "stream",
     "text": [
      "['서울' '부산' '대구' '경기']\n"
     ]
    }
   ],
   "source": [
    "# 도시 확인\n",
    "print(df['city'].unique())"
   ]
  },
  {
   "cell_type": "code",
   "execution_count": 14,
   "id": "fb8e1c66",
   "metadata": {
    "execution": {
     "iopub.execute_input": "2025-06-17T09:05:45.294474Z",
     "iopub.status.busy": "2025-06-17T09:05:45.293635Z",
     "iopub.status.idle": "2025-06-17T09:05:45.296816Z",
     "shell.execute_reply": "2025-06-17T09:05:45.297283Z",
     "shell.execute_reply.started": "2025-06-17T07:36:26.158805Z"
    },
    "papermill": {
     "duration": 0.030635,
     "end_time": "2025-06-17T09:05:45.297501",
     "exception": false,
     "start_time": "2025-06-17T09:05:45.266866",
     "status": "completed"
    },
    "tags": []
   },
   "outputs": [
    {
     "data": {
      "text/plain": [
       "(68.0, 58.0, 62.0, 75.0)"
      ]
     },
     "execution_count": 14,
     "metadata": {},
     "output_type": "execute_result"
    }
   ],
   "source": [
    "# 도시별 중앙값 계산\n",
    "s=df[df['city']=='서울']['f1'].median()\n",
    "k=df[df['city']=='경기']['f1'].median()\n",
    "b=df[df['city']=='부산']['f1'].median()\n",
    "d=df[df['city']=='대구']['f1'].median()\n",
    "s, k, b, d\n",
    "\n",
    "#방법2\n",
    "# k, d, b, s = df.groupby('city')['f1'].median()"
   ]
  },
  {
   "cell_type": "code",
   "execution_count": 15,
   "id": "37f1a4e2",
   "metadata": {
    "execution": {
     "iopub.execute_input": "2025-06-17T09:05:45.343910Z",
     "iopub.status.busy": "2025-06-17T09:05:45.343179Z",
     "iopub.status.idle": "2025-06-17T09:05:45.347413Z",
     "shell.execute_reply": "2025-06-17T09:05:45.346919Z",
     "shell.execute_reply.started": "2025-06-17T07:36:26.188294Z"
    },
    "papermill": {
     "duration": 0.033009,
     "end_time": "2025-06-17T09:05:45.347547",
     "exception": false,
     "start_time": "2025-06-17T09:05:45.314538",
     "status": "completed"
    },
    "tags": []
   },
   "outputs": [
    {
     "data": {
      "text/html": [
       "<div>\n",
       "<style scoped>\n",
       "    .dataframe tbody tr th:only-of-type {\n",
       "        vertical-align: middle;\n",
       "    }\n",
       "\n",
       "    .dataframe tbody tr th {\n",
       "        vertical-align: top;\n",
       "    }\n",
       "\n",
       "    .dataframe thead th {\n",
       "        text-align: right;\n",
       "    }\n",
       "</style>\n",
       "<table border=\"1\" class=\"dataframe\">\n",
       "  <thead>\n",
       "    <tr style=\"text-align: right;\">\n",
       "      <th></th>\n",
       "      <th>id</th>\n",
       "      <th>age</th>\n",
       "      <th>city</th>\n",
       "      <th>f1</th>\n",
       "      <th>f2</th>\n",
       "      <th>f4</th>\n",
       "      <th>f5</th>\n",
       "    </tr>\n",
       "  </thead>\n",
       "  <tbody>\n",
       "    <tr>\n",
       "      <th>18</th>\n",
       "      <td>id19</td>\n",
       "      <td>53.0</td>\n",
       "      <td>서울</td>\n",
       "      <td>NaN</td>\n",
       "      <td>0</td>\n",
       "      <td>ISFP</td>\n",
       "      <td>83.685380</td>\n",
       "    </tr>\n",
       "    <tr>\n",
       "      <th>19</th>\n",
       "      <td>id20</td>\n",
       "      <td>11.0</td>\n",
       "      <td>서울</td>\n",
       "      <td>51.0</td>\n",
       "      <td>1</td>\n",
       "      <td>INTJ</td>\n",
       "      <td>91.297791</td>\n",
       "    </tr>\n",
       "    <tr>\n",
       "      <th>20</th>\n",
       "      <td>id21</td>\n",
       "      <td>90.0</td>\n",
       "      <td>부산</td>\n",
       "      <td>NaN</td>\n",
       "      <td>1</td>\n",
       "      <td>ISFP</td>\n",
       "      <td>29.269869</td>\n",
       "    </tr>\n",
       "  </tbody>\n",
       "</table>\n",
       "</div>"
      ],
      "text/plain": [
       "      id   age city    f1  f2    f4         f5\n",
       "18  id19  53.0   서울   NaN   0  ISFP  83.685380\n",
       "19  id20  11.0   서울  51.0   1  INTJ  91.297791\n",
       "20  id21  90.0   부산   NaN   1  ISFP  29.269869"
      ]
     },
     "execution_count": 15,
     "metadata": {},
     "output_type": "execute_result"
    }
   ],
   "source": [
    "# 대체 전 데이터 샘플 출력\n",
    "df[18:21]"
   ]
  },
  {
   "cell_type": "code",
   "execution_count": 16,
   "id": "7a25e37d",
   "metadata": {
    "execution": {
     "iopub.execute_input": "2025-06-17T09:05:45.389081Z",
     "iopub.status.busy": "2025-06-17T09:05:45.388457Z",
     "iopub.status.idle": "2025-06-17T09:05:45.391289Z",
     "shell.execute_reply": "2025-06-17T09:05:45.390783Z",
     "shell.execute_reply.started": "2025-06-17T07:40:00.38043Z"
    },
    "papermill": {
     "duration": 0.026456,
     "end_time": "2025-06-17T09:05:45.391471",
     "exception": false,
     "start_time": "2025-06-17T09:05:45.365015",
     "status": "completed"
    },
    "tags": []
   },
   "outputs": [],
   "source": [
    "# f1결측치 city별 중앙값으로 대체\n",
    "df['f1'] = df['f1'].fillna(df['city'].map({'서울':s,'경기':k,'부산':b,'대구':d}))\n",
    "\n",
    "# 만약 그냥 f1 중앙값으로 대체 한다면 \n",
    "# df['f1'] = df['f1'].fillna(df['f1'].median())"
   ]
  },
  {
   "cell_type": "code",
   "execution_count": 17,
   "id": "39e37d65",
   "metadata": {
    "execution": {
     "iopub.execute_input": "2025-06-17T09:05:45.439261Z",
     "iopub.status.busy": "2025-06-17T09:05:45.435440Z",
     "iopub.status.idle": "2025-06-17T09:05:45.442889Z",
     "shell.execute_reply": "2025-06-17T09:05:45.443277Z",
     "shell.execute_reply.started": "2025-06-17T07:36:26.236923Z"
    },
    "papermill": {
     "duration": 0.033283,
     "end_time": "2025-06-17T09:05:45.443490",
     "exception": false,
     "start_time": "2025-06-17T09:05:45.410207",
     "status": "completed"
    },
    "tags": []
   },
   "outputs": [
    {
     "data": {
      "text/html": [
       "<div>\n",
       "<style scoped>\n",
       "    .dataframe tbody tr th:only-of-type {\n",
       "        vertical-align: middle;\n",
       "    }\n",
       "\n",
       "    .dataframe tbody tr th {\n",
       "        vertical-align: top;\n",
       "    }\n",
       "\n",
       "    .dataframe thead th {\n",
       "        text-align: right;\n",
       "    }\n",
       "</style>\n",
       "<table border=\"1\" class=\"dataframe\">\n",
       "  <thead>\n",
       "    <tr style=\"text-align: right;\">\n",
       "      <th></th>\n",
       "      <th>id</th>\n",
       "      <th>age</th>\n",
       "      <th>city</th>\n",
       "      <th>f1</th>\n",
       "      <th>f2</th>\n",
       "      <th>f4</th>\n",
       "      <th>f5</th>\n",
       "    </tr>\n",
       "  </thead>\n",
       "  <tbody>\n",
       "    <tr>\n",
       "      <th>18</th>\n",
       "      <td>id19</td>\n",
       "      <td>53.0</td>\n",
       "      <td>서울</td>\n",
       "      <td>68.0</td>\n",
       "      <td>0</td>\n",
       "      <td>ISFP</td>\n",
       "      <td>83.685380</td>\n",
       "    </tr>\n",
       "    <tr>\n",
       "      <th>19</th>\n",
       "      <td>id20</td>\n",
       "      <td>11.0</td>\n",
       "      <td>서울</td>\n",
       "      <td>51.0</td>\n",
       "      <td>1</td>\n",
       "      <td>INTJ</td>\n",
       "      <td>91.297791</td>\n",
       "    </tr>\n",
       "    <tr>\n",
       "      <th>20</th>\n",
       "      <td>id21</td>\n",
       "      <td>90.0</td>\n",
       "      <td>부산</td>\n",
       "      <td>62.0</td>\n",
       "      <td>1</td>\n",
       "      <td>ISFP</td>\n",
       "      <td>29.269869</td>\n",
       "    </tr>\n",
       "  </tbody>\n",
       "</table>\n",
       "</div>"
      ],
      "text/plain": [
       "      id   age city    f1  f2    f4         f5\n",
       "18  id19  53.0   서울  68.0   0  ISFP  83.685380\n",
       "19  id20  11.0   서울  51.0   1  INTJ  91.297791\n",
       "20  id21  90.0   부산  62.0   1  ISFP  29.269869"
      ]
     },
     "execution_count": 17,
     "metadata": {},
     "output_type": "execute_result"
    }
   ],
   "source": [
    "# 대체 후 데이터 샘플 출력\n",
    "df[18:21]"
   ]
  },
  {
   "cell_type": "code",
   "execution_count": 18,
   "id": "ce113976",
   "metadata": {
    "execution": {
     "iopub.execute_input": "2025-06-17T09:05:45.484137Z",
     "iopub.status.busy": "2025-06-17T09:05:45.483444Z",
     "iopub.status.idle": "2025-06-17T09:05:45.486259Z",
     "shell.execute_reply": "2025-06-17T09:05:45.486747Z",
     "shell.execute_reply.started": "2025-06-17T07:36:26.275538Z"
    },
    "papermill": {
     "duration": 0.02568,
     "end_time": "2025-06-17T09:05:45.486912",
     "exception": false,
     "start_time": "2025-06-17T09:05:45.461232",
     "status": "completed"
    },
    "tags": []
   },
   "outputs": [
    {
     "name": "stdout",
     "output_type": "stream",
     "text": [
      "65.52\n"
     ]
    }
   ],
   "source": [
    "#결과 출력\n",
    "print(df['f1'].mean())"
   ]
  }
 ],
 "metadata": {
  "kaggle": {
   "accelerator": "none",
   "dataSources": [
    {
     "datasetId": 1633303,
     "sourceId": 12189494,
     "sourceType": "datasetVersion"
    }
   ],
   "dockerImageVersionId": 30129,
   "isGpuEnabled": false,
   "isInternetEnabled": false,
   "language": "python",
   "sourceType": "notebook"
  },
  "kernelspec": {
   "display_name": "Python 3",
   "language": "python",
   "name": "python3"
  },
  "language_info": {
   "codemirror_mode": {
    "name": "ipython",
    "version": 3
   },
   "file_extension": ".py",
   "mimetype": "text/x-python",
   "name": "python",
   "nbconvert_exporter": "python",
   "pygments_lexer": "ipython3",
   "version": "3.7.10"
  },
  "papermill": {
   "default_parameters": {},
   "duration": 9.792818,
   "end_time": "2025-06-17T09:05:46.909826",
   "environment_variables": {},
   "exception": null,
   "input_path": "__notebook__.ipynb",
   "output_path": "__notebook__.ipynb",
   "parameters": {},
   "start_time": "2025-06-17T09:05:37.117008",
   "version": "2.3.3"
  }
 },
 "nbformat": 4,
 "nbformat_minor": 5
}
