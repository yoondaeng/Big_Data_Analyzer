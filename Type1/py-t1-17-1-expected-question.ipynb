{
 "cells": [
  {
   "cell_type": "markdown",
   "id": "7a3289aa",
   "metadata": {
    "papermill": {
     "duration": 0.008759,
     "end_time": "2025-06-20T05:28:01.004614",
     "exception": false,
     "start_time": "2025-06-20T05:28:00.995855",
     "status": "completed"
    },
    "tags": []
   },
   "source": [
    "### 2022년 5월 sales의 중앙값을 구하시오\n",
    "\n",
    "- 데이터셋 : basic2.csv \n",
    "- 오른쪽 상단 copy&edit 클릭 -> 예상문제 풀이 시작"
   ]
  },
  {
   "cell_type": "code",
   "execution_count": 1,
   "id": "cd279f86",
   "metadata": {
    "execution": {
     "iopub.execute_input": "2025-06-20T05:28:01.030845Z",
     "iopub.status.busy": "2025-06-20T05:28:01.027608Z",
     "iopub.status.idle": "2025-06-20T05:28:01.086592Z",
     "shell.execute_reply": "2025-06-20T05:28:01.085852Z",
     "shell.execute_reply.started": "2025-06-20T05:27:22.254950Z"
    },
    "papermill": {
     "duration": 0.074219,
     "end_time": "2025-06-20T05:28:01.086772",
     "exception": false,
     "start_time": "2025-06-20T05:28:01.012553",
     "status": "completed"
    },
    "tags": []
   },
   "outputs": [
    {
     "name": "stdout",
     "output_type": "stream",
     "text": [
      "<class 'pandas.core.frame.DataFrame'>\n",
      "RangeIndex: 730 entries, 0 to 729\n",
      "Data columns (total 5 columns):\n",
      " #   Column  Non-Null Count  Dtype  \n",
      "---  ------  --------------  -----  \n",
      " 0   Date    730 non-null    object \n",
      " 1   Sales   730 non-null    int64  \n",
      " 2   PV      730 non-null    int64  \n",
      " 3   UV      684 non-null    float64\n",
      " 4   Events  730 non-null    int64  \n",
      "dtypes: float64(1), int64(3), object(1)\n",
      "memory usage: 28.6+ KB\n",
      "<class 'pandas.core.frame.DataFrame'>\n",
      "RangeIndex: 730 entries, 0 to 729\n",
      "Data columns (total 5 columns):\n",
      " #   Column  Non-Null Count  Dtype         \n",
      "---  ------  --------------  -----         \n",
      " 0   Date    730 non-null    datetime64[ns]\n",
      " 1   Sales   730 non-null    int64         \n",
      " 2   PV      730 non-null    int64         \n",
      " 3   UV      684 non-null    float64       \n",
      " 4   Events  730 non-null    int64         \n",
      "dtypes: datetime64[ns](1), float64(1), int64(3)\n",
      "memory usage: 28.6 KB\n",
      "1477685.0\n"
     ]
    }
   ],
   "source": [
    "import pandas as pd\n",
    "df = pd.read_csv(\"../input/bigdatacertificationkr/basic2.csv\")\n",
    "\n",
    "df.info()\n",
    "df.head()\n",
    "\n",
    "# print(dir(pd))\n",
    "df['Date'] = pd.to_datetime(df['Date'])\n",
    "df.info()\n",
    "\n",
    "# print(dir(df))\n",
    "df['year'] = df['Date'].dt.year\n",
    "df['month'] = df['Date'].dt.month\n",
    "df['day'] = df['Date'].dt.day\n",
    "df.head()\n",
    "\n",
    "cond = (df['year'] == 2022) & (df['month'] == 5)\n",
    "print(df[cond]['Sales'].median()) # 1477685.0"
   ]
  },
  {
   "cell_type": "code",
   "execution_count": 2,
   "id": "14e8bbad",
   "metadata": {
    "_cell_guid": "b1076dfc-b9ad-4769-8c92-a6c4dae69d19",
    "_uuid": "8f2839f25d086af736a60e9eeb907d3b93b6e0e5",
    "execution": {
     "iopub.execute_input": "2025-06-20T05:28:01.108431Z",
     "iopub.status.busy": "2025-06-20T05:28:01.107443Z",
     "iopub.status.idle": "2025-06-20T05:28:01.110333Z",
     "shell.execute_reply": "2025-06-20T05:28:01.109674Z",
     "shell.execute_reply.started": "2025-06-20T05:14:17.811238Z"
    },
    "papermill": {
     "duration": 0.01544,
     "end_time": "2025-06-20T05:28:01.110499",
     "exception": false,
     "start_time": "2025-06-20T05:28:01.095059",
     "status": "completed"
    },
    "tags": []
   },
   "outputs": [],
   "source": [
    "# 라이브러리 불러오기\n",
    "import pandas as pd"
   ]
  },
  {
   "cell_type": "code",
   "execution_count": 3,
   "id": "b2d9cbfc",
   "metadata": {
    "execution": {
     "iopub.execute_input": "2025-06-20T05:28:01.133552Z",
     "iopub.status.busy": "2025-06-20T05:28:01.132836Z",
     "iopub.status.idle": "2025-06-20T05:28:01.140054Z",
     "shell.execute_reply": "2025-06-20T05:28:01.139400Z",
     "shell.execute_reply.started": "2025-06-20T05:14:25.382375Z"
    },
    "papermill": {
     "duration": 0.021966,
     "end_time": "2025-06-20T05:28:01.140212",
     "exception": false,
     "start_time": "2025-06-20T05:28:01.118246",
     "status": "completed"
    },
    "tags": []
   },
   "outputs": [],
   "source": [
    "# 데이터 불러오기\n",
    "df = pd.read_csv(\"../input/bigdatacertificationkr/basic2.csv\")"
   ]
  },
  {
   "cell_type": "code",
   "execution_count": 4,
   "id": "265524b7",
   "metadata": {
    "execution": {
     "iopub.execute_input": "2025-06-20T05:28:01.163667Z",
     "iopub.status.busy": "2025-06-20T05:28:01.162900Z",
     "iopub.status.idle": "2025-06-20T05:28:01.176785Z",
     "shell.execute_reply": "2025-06-20T05:28:01.176263Z",
     "shell.execute_reply.started": "2025-06-20T05:14:32.981994Z"
    },
    "papermill": {
     "duration": 0.028749,
     "end_time": "2025-06-20T05:28:01.176938",
     "exception": false,
     "start_time": "2025-06-20T05:28:01.148189",
     "status": "completed"
    },
    "tags": []
   },
   "outputs": [
    {
     "data": {
      "text/html": [
       "<div>\n",
       "<style scoped>\n",
       "    .dataframe tbody tr th:only-of-type {\n",
       "        vertical-align: middle;\n",
       "    }\n",
       "\n",
       "    .dataframe tbody tr th {\n",
       "        vertical-align: top;\n",
       "    }\n",
       "\n",
       "    .dataframe thead th {\n",
       "        text-align: right;\n",
       "    }\n",
       "</style>\n",
       "<table border=\"1\" class=\"dataframe\">\n",
       "  <thead>\n",
       "    <tr style=\"text-align: right;\">\n",
       "      <th></th>\n",
       "      <th>Date</th>\n",
       "      <th>Sales</th>\n",
       "      <th>PV</th>\n",
       "      <th>UV</th>\n",
       "      <th>Events</th>\n",
       "    </tr>\n",
       "  </thead>\n",
       "  <tbody>\n",
       "    <tr>\n",
       "      <th>0</th>\n",
       "      <td>2022-01-01</td>\n",
       "      <td>22711525</td>\n",
       "      <td>397349</td>\n",
       "      <td>4421.0</td>\n",
       "      <td>1</td>\n",
       "    </tr>\n",
       "    <tr>\n",
       "      <th>1</th>\n",
       "      <td>2022-01-02</td>\n",
       "      <td>36779</td>\n",
       "      <td>3969</td>\n",
       "      <td>2289.0</td>\n",
       "      <td>0</td>\n",
       "    </tr>\n",
       "    <tr>\n",
       "      <th>2</th>\n",
       "      <td>2022-01-03</td>\n",
       "      <td>13943875</td>\n",
       "      <td>373890</td>\n",
       "      <td>NaN</td>\n",
       "      <td>1</td>\n",
       "    </tr>\n",
       "    <tr>\n",
       "      <th>3</th>\n",
       "      <td>2022-01-04</td>\n",
       "      <td>8088593</td>\n",
       "      <td>142054</td>\n",
       "      <td>2157.0</td>\n",
       "      <td>0</td>\n",
       "    </tr>\n",
       "    <tr>\n",
       "      <th>4</th>\n",
       "      <td>2022-01-05</td>\n",
       "      <td>2395374</td>\n",
       "      <td>190684</td>\n",
       "      <td>NaN</td>\n",
       "      <td>0</td>\n",
       "    </tr>\n",
       "  </tbody>\n",
       "</table>\n",
       "</div>"
      ],
      "text/plain": [
       "         Date     Sales      PV      UV  Events\n",
       "0  2022-01-01  22711525  397349  4421.0       1\n",
       "1  2022-01-02     36779    3969  2289.0       0\n",
       "2  2022-01-03  13943875  373890     NaN       1\n",
       "3  2022-01-04   8088593  142054  2157.0       0\n",
       "4  2022-01-05   2395374  190684     NaN       0"
      ]
     },
     "execution_count": 4,
     "metadata": {},
     "output_type": "execute_result"
    }
   ],
   "source": [
    "df.head()"
   ]
  },
  {
   "cell_type": "code",
   "execution_count": 5,
   "id": "cf9e6783",
   "metadata": {
    "execution": {
     "iopub.execute_input": "2025-06-20T05:28:01.206191Z",
     "iopub.status.busy": "2025-06-20T05:28:01.199427Z",
     "iopub.status.idle": "2025-06-20T05:28:01.210219Z",
     "shell.execute_reply": "2025-06-20T05:28:01.209690Z",
     "shell.execute_reply.started": "2025-06-20T05:14:47.540900Z"
    },
    "papermill": {
     "duration": 0.02511,
     "end_time": "2025-06-20T05:28:01.210372",
     "exception": false,
     "start_time": "2025-06-20T05:28:01.185262",
     "status": "completed"
    },
    "tags": []
   },
   "outputs": [
    {
     "name": "stdout",
     "output_type": "stream",
     "text": [
      "<class 'pandas.core.frame.DataFrame'>\n",
      "RangeIndex: 730 entries, 0 to 729\n",
      "Data columns (total 5 columns):\n",
      " #   Column  Non-Null Count  Dtype  \n",
      "---  ------  --------------  -----  \n",
      " 0   Date    730 non-null    object \n",
      " 1   Sales   730 non-null    int64  \n",
      " 2   PV      730 non-null    int64  \n",
      " 3   UV      684 non-null    float64\n",
      " 4   Events  730 non-null    int64  \n",
      "dtypes: float64(1), int64(3), object(1)\n",
      "memory usage: 28.6+ KB\n",
      "(730, 5)\n"
     ]
    }
   ],
   "source": [
    "df.info()\n",
    "print(df.shape)"
   ]
  },
  {
   "cell_type": "code",
   "execution_count": 6,
   "id": "d6c9a901",
   "metadata": {
    "execution": {
     "iopub.execute_input": "2025-06-20T05:28:01.240146Z",
     "iopub.status.busy": "2025-06-20T05:28:01.229814Z",
     "iopub.status.idle": "2025-06-20T05:28:01.242952Z",
     "shell.execute_reply": "2025-06-20T05:28:01.243441Z",
     "shell.execute_reply.started": "2025-06-20T05:15:33.174265Z"
    },
    "papermill": {
     "duration": 0.024758,
     "end_time": "2025-06-20T05:28:01.243619",
     "exception": false,
     "start_time": "2025-06-20T05:28:01.218861",
     "status": "completed"
    },
    "tags": []
   },
   "outputs": [
    {
     "name": "stdout",
     "output_type": "stream",
     "text": [
      "<class 'pandas.core.frame.DataFrame'>\n",
      "RangeIndex: 730 entries, 0 to 729\n",
      "Data columns (total 5 columns):\n",
      " #   Column  Non-Null Count  Dtype         \n",
      "---  ------  --------------  -----         \n",
      " 0   Date    730 non-null    datetime64[ns]\n",
      " 1   Sales   730 non-null    int64         \n",
      " 2   PV      730 non-null    int64         \n",
      " 3   UV      684 non-null    float64       \n",
      " 4   Events  730 non-null    int64         \n",
      "dtypes: datetime64[ns](1), float64(1), int64(3)\n",
      "memory usage: 28.6 KB\n"
     ]
    }
   ],
   "source": [
    "# datetime으로 type변경\n",
    "df['Date'] = pd.to_datetime(df['Date'])\n",
    "df.info()"
   ]
  },
  {
   "cell_type": "code",
   "execution_count": 7,
   "id": "28e9332b",
   "metadata": {
    "execution": {
     "iopub.execute_input": "2025-06-20T05:28:01.267694Z",
     "iopub.status.busy": "2025-06-20T05:28:01.266949Z",
     "iopub.status.idle": "2025-06-20T05:28:01.272355Z",
     "shell.execute_reply": "2025-06-20T05:28:01.271584Z",
     "shell.execute_reply.started": "2025-06-20T05:16:49.702870Z"
    },
    "papermill": {
     "duration": 0.020182,
     "end_time": "2025-06-20T05:28:01.272515",
     "exception": false,
     "start_time": "2025-06-20T05:28:01.252333",
     "status": "completed"
    },
    "tags": []
   },
   "outputs": [],
   "source": [
    "# 새로운 컬럼 추가 (년, 월, 일)\n",
    "df['year'] = df['Date'].dt.year\n",
    "df['month'] = df['Date'].dt.month\n",
    "df['day'] = df['Date'].dt.day"
   ]
  },
  {
   "cell_type": "code",
   "execution_count": 8,
   "id": "c0fd5bf1",
   "metadata": {
    "execution": {
     "iopub.execute_input": "2025-06-20T05:28:01.302275Z",
     "iopub.status.busy": "2025-06-20T05:28:01.301504Z",
     "iopub.status.idle": "2025-06-20T05:28:01.306051Z",
     "shell.execute_reply": "2025-06-20T05:28:01.305470Z",
     "shell.execute_reply.started": "2025-06-20T05:16:52.152409Z"
    },
    "papermill": {
     "duration": 0.024955,
     "end_time": "2025-06-20T05:28:01.306202",
     "exception": false,
     "start_time": "2025-06-20T05:28:01.281247",
     "status": "completed"
    },
    "tags": []
   },
   "outputs": [
    {
     "data": {
      "text/html": [
       "<div>\n",
       "<style scoped>\n",
       "    .dataframe tbody tr th:only-of-type {\n",
       "        vertical-align: middle;\n",
       "    }\n",
       "\n",
       "    .dataframe tbody tr th {\n",
       "        vertical-align: top;\n",
       "    }\n",
       "\n",
       "    .dataframe thead th {\n",
       "        text-align: right;\n",
       "    }\n",
       "</style>\n",
       "<table border=\"1\" class=\"dataframe\">\n",
       "  <thead>\n",
       "    <tr style=\"text-align: right;\">\n",
       "      <th></th>\n",
       "      <th>Date</th>\n",
       "      <th>Sales</th>\n",
       "      <th>PV</th>\n",
       "      <th>UV</th>\n",
       "      <th>Events</th>\n",
       "      <th>year</th>\n",
       "      <th>month</th>\n",
       "      <th>day</th>\n",
       "    </tr>\n",
       "  </thead>\n",
       "  <tbody>\n",
       "    <tr>\n",
       "      <th>0</th>\n",
       "      <td>2022-01-01</td>\n",
       "      <td>22711525</td>\n",
       "      <td>397349</td>\n",
       "      <td>4421.0</td>\n",
       "      <td>1</td>\n",
       "      <td>2022</td>\n",
       "      <td>1</td>\n",
       "      <td>1</td>\n",
       "    </tr>\n",
       "    <tr>\n",
       "      <th>1</th>\n",
       "      <td>2022-01-02</td>\n",
       "      <td>36779</td>\n",
       "      <td>3969</td>\n",
       "      <td>2289.0</td>\n",
       "      <td>0</td>\n",
       "      <td>2022</td>\n",
       "      <td>1</td>\n",
       "      <td>2</td>\n",
       "    </tr>\n",
       "    <tr>\n",
       "      <th>2</th>\n",
       "      <td>2022-01-03</td>\n",
       "      <td>13943875</td>\n",
       "      <td>373890</td>\n",
       "      <td>NaN</td>\n",
       "      <td>1</td>\n",
       "      <td>2022</td>\n",
       "      <td>1</td>\n",
       "      <td>3</td>\n",
       "    </tr>\n",
       "    <tr>\n",
       "      <th>3</th>\n",
       "      <td>2022-01-04</td>\n",
       "      <td>8088593</td>\n",
       "      <td>142054</td>\n",
       "      <td>2157.0</td>\n",
       "      <td>0</td>\n",
       "      <td>2022</td>\n",
       "      <td>1</td>\n",
       "      <td>4</td>\n",
       "    </tr>\n",
       "    <tr>\n",
       "      <th>4</th>\n",
       "      <td>2022-01-05</td>\n",
       "      <td>2395374</td>\n",
       "      <td>190684</td>\n",
       "      <td>NaN</td>\n",
       "      <td>0</td>\n",
       "      <td>2022</td>\n",
       "      <td>1</td>\n",
       "      <td>5</td>\n",
       "    </tr>\n",
       "  </tbody>\n",
       "</table>\n",
       "</div>"
      ],
      "text/plain": [
       "        Date     Sales      PV      UV  Events  year  month  day\n",
       "0 2022-01-01  22711525  397349  4421.0       1  2022      1    1\n",
       "1 2022-01-02     36779    3969  2289.0       0  2022      1    2\n",
       "2 2022-01-03  13943875  373890     NaN       1  2022      1    3\n",
       "3 2022-01-04   8088593  142054  2157.0       0  2022      1    4\n",
       "4 2022-01-05   2395374  190684     NaN       0  2022      1    5"
      ]
     },
     "execution_count": 8,
     "metadata": {},
     "output_type": "execute_result"
    }
   ],
   "source": [
    "df.head()"
   ]
  },
  {
   "cell_type": "code",
   "execution_count": 9,
   "id": "b30a2844",
   "metadata": {
    "execution": {
     "iopub.execute_input": "2025-06-20T05:28:01.333229Z",
     "iopub.status.busy": "2025-06-20T05:28:01.332274Z",
     "iopub.status.idle": "2025-06-20T05:28:01.335676Z",
     "shell.execute_reply": "2025-06-20T05:28:01.336229Z",
     "shell.execute_reply.started": "2025-06-19T21:52:26.719679Z"
    },
    "papermill": {
     "duration": 0.020872,
     "end_time": "2025-06-20T05:28:01.336412",
     "exception": false,
     "start_time": "2025-06-20T05:28:01.315540",
     "status": "completed"
    },
    "tags": []
   },
   "outputs": [
    {
     "name": "stdout",
     "output_type": "stream",
     "text": [
      "1477685.0\n"
     ]
    }
   ],
   "source": [
    "# 문제 조건에 맞는 값 구하기\n",
    "cond = (df['year']==2022) & (df['month']==5)\n",
    "print(df[cond]['Sales'].median()) # 1477685.0"
   ]
  }
 ],
 "metadata": {
  "kaggle": {
   "accelerator": "none",
   "dataSources": [
    {
     "datasetId": 1633303,
     "sourceId": 12211878,
     "sourceType": "datasetVersion"
    }
   ],
   "dockerImageVersionId": 30145,
   "isGpuEnabled": false,
   "isInternetEnabled": false,
   "language": "python",
   "sourceType": "notebook"
  },
  "kernelspec": {
   "display_name": "Python 3",
   "language": "python",
   "name": "python3"
  },
  "language_info": {
   "codemirror_mode": {
    "name": "ipython",
    "version": 3
   },
   "file_extension": ".py",
   "mimetype": "text/x-python",
   "name": "python",
   "nbconvert_exporter": "python",
   "pygments_lexer": "ipython3",
   "version": "3.7.10"
  },
  "papermill": {
   "default_parameters": {},
   "duration": 9.980594,
   "end_time": "2025-06-20T05:28:01.956982",
   "environment_variables": {},
   "exception": null,
   "input_path": "__notebook__.ipynb",
   "output_path": "__notebook__.ipynb",
   "parameters": {},
   "start_time": "2025-06-20T05:27:51.976388",
   "version": "2.3.3"
  }
 },
 "nbformat": 4,
 "nbformat_minor": 5
}
