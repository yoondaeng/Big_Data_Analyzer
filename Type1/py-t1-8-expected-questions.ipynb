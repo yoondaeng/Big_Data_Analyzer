{
 "cells": [
  {
   "cell_type": "markdown",
   "id": "3acbc478",
   "metadata": {
    "papermill": {
     "duration": 0.010174,
     "end_time": "2025-06-17T12:40:35.321917",
     "exception": false,
     "start_time": "2025-06-17T12:40:35.311743",
     "status": "completed"
    },
    "tags": []
   },
   "source": [
    "### 주어진 데이터 셋에서 'f2' 컬럼이 1인 조건에 해당하는 데이터의 'f1'컬럼 누적합을 계산한다. 이때 발생하는 누적합 결측치는 바로 뒤의 값을 채우고, 누적합의 평균값을 출력한다. (단, 결측치 바로 뒤의 값이 없으면 다음에 나오는 값을 채워넣는다)\n",
    "\n",
    "- 데이터셋 : basic1.csv\n",
    "- 오른쪽 상단 copy&edit 클릭 -> 예상문제 풀이 시작"
   ]
  },
  {
   "cell_type": "code",
   "execution_count": 1,
   "id": "5ca44502",
   "metadata": {
    "execution": {
     "iopub.execute_input": "2025-06-17T12:40:35.359436Z",
     "iopub.status.busy": "2025-06-17T12:40:35.356575Z",
     "iopub.status.idle": "2025-06-17T12:40:35.401974Z",
     "shell.execute_reply": "2025-06-17T12:40:35.402798Z",
     "shell.execute_reply.started": "2025-06-17T12:39:58.630469Z"
    },
    "papermill": {
     "duration": 0.069876,
     "end_time": "2025-06-17T12:40:35.403283",
     "exception": false,
     "start_time": "2025-06-17T12:40:35.333407",
     "status": "completed"
    },
    "tags": []
   },
   "outputs": [
    {
     "data": {
      "text/html": [
       "<div>\n",
       "<style scoped>\n",
       "    .dataframe tbody tr th:only-of-type {\n",
       "        vertical-align: middle;\n",
       "    }\n",
       "\n",
       "    .dataframe tbody tr th {\n",
       "        vertical-align: top;\n",
       "    }\n",
       "\n",
       "    .dataframe thead th {\n",
       "        text-align: right;\n",
       "    }\n",
       "</style>\n",
       "<table border=\"1\" class=\"dataframe\">\n",
       "  <thead>\n",
       "    <tr style=\"text-align: right;\">\n",
       "      <th></th>\n",
       "      <th>id</th>\n",
       "      <th>age</th>\n",
       "      <th>city</th>\n",
       "      <th>f1</th>\n",
       "      <th>f2</th>\n",
       "      <th>f3</th>\n",
       "      <th>f4</th>\n",
       "      <th>f5</th>\n",
       "    </tr>\n",
       "  </thead>\n",
       "  <tbody>\n",
       "    <tr>\n",
       "      <th>0</th>\n",
       "      <td>id01</td>\n",
       "      <td>2.0</td>\n",
       "      <td>서울</td>\n",
       "      <td>NaN</td>\n",
       "      <td>0</td>\n",
       "      <td>NaN</td>\n",
       "      <td>ENFJ</td>\n",
       "      <td>91.297791</td>\n",
       "    </tr>\n",
       "    <tr>\n",
       "      <th>1</th>\n",
       "      <td>id02</td>\n",
       "      <td>9.0</td>\n",
       "      <td>서울</td>\n",
       "      <td>70.0</td>\n",
       "      <td>1</td>\n",
       "      <td>NaN</td>\n",
       "      <td>ENFJ</td>\n",
       "      <td>60.339826</td>\n",
       "    </tr>\n",
       "    <tr>\n",
       "      <th>2</th>\n",
       "      <td>id03</td>\n",
       "      <td>27.0</td>\n",
       "      <td>서울</td>\n",
       "      <td>61.0</td>\n",
       "      <td>1</td>\n",
       "      <td>NaN</td>\n",
       "      <td>ISTJ</td>\n",
       "      <td>17.252986</td>\n",
       "    </tr>\n",
       "    <tr>\n",
       "      <th>3</th>\n",
       "      <td>id04</td>\n",
       "      <td>75.0</td>\n",
       "      <td>서울</td>\n",
       "      <td>NaN</td>\n",
       "      <td>2</td>\n",
       "      <td>NaN</td>\n",
       "      <td>INFP</td>\n",
       "      <td>52.667078</td>\n",
       "    </tr>\n",
       "    <tr>\n",
       "      <th>4</th>\n",
       "      <td>id05</td>\n",
       "      <td>24.0</td>\n",
       "      <td>서울</td>\n",
       "      <td>85.0</td>\n",
       "      <td>2</td>\n",
       "      <td>NaN</td>\n",
       "      <td>ISFJ</td>\n",
       "      <td>29.269869</td>\n",
       "    </tr>\n",
       "  </tbody>\n",
       "</table>\n",
       "</div>"
      ],
      "text/plain": [
       "     id   age city    f1  f2   f3    f4         f5\n",
       "0  id01   2.0   서울   NaN   0  NaN  ENFJ  91.297791\n",
       "1  id02   9.0   서울  70.0   1  NaN  ENFJ  60.339826\n",
       "2  id03  27.0   서울  61.0   1  NaN  ISTJ  17.252986\n",
       "3  id04  75.0   서울   NaN   2  NaN  INFP  52.667078\n",
       "4  id05  24.0   서울  85.0   2  NaN  ISFJ  29.269869"
      ]
     },
     "execution_count": 1,
     "metadata": {},
     "output_type": "execute_result"
    }
   ],
   "source": [
    "# 라이브러리 및 데이터 불러오기\n",
    "import pandas as pd\n",
    "import numpy as np\n",
    "df = pd.read_csv('/kaggle/input/bigdatacertificationkr/basic1.csv')\n",
    "\n",
    "df.head()"
   ]
  },
  {
   "cell_type": "code",
   "execution_count": 2,
   "id": "fcc0bf56",
   "metadata": {
    "execution": {
     "iopub.execute_input": "2025-06-17T12:40:35.463258Z",
     "iopub.status.busy": "2025-06-17T12:40:35.462327Z",
     "iopub.status.idle": "2025-06-17T12:40:35.466406Z",
     "shell.execute_reply": "2025-06-17T12:40:35.467059Z",
     "shell.execute_reply.started": "2025-06-17T12:39:58.664734Z"
    },
    "papermill": {
     "duration": 0.044377,
     "end_time": "2025-06-17T12:40:35.467282",
     "exception": false,
     "start_time": "2025-06-17T12:40:35.422905",
     "status": "completed"
    },
    "tags": []
   },
   "outputs": [
    {
     "name": "stdout",
     "output_type": "stream",
     "text": [
      "1       70.0\n",
      "2      131.0\n",
      "6      191.0\n",
      "7      292.0\n",
      "9      366.0\n",
      "13     416.0\n",
      "14     483.0\n",
      "16       NaN\n",
      "19     534.0\n",
      "20       NaN\n",
      "21     606.0\n",
      "22     681.0\n",
      "25     738.0\n",
      "27     772.0\n",
      "33       NaN\n",
      "35     849.0\n",
      "37       NaN\n",
      "46     924.0\n",
      "49    1002.0\n",
      "51    1084.0\n",
      "53       NaN\n",
      "55       NaN\n",
      "58       NaN\n",
      "62    1170.0\n",
      "65       NaN\n",
      "66    1222.0\n",
      "69    1318.0\n",
      "72       NaN\n",
      "77    1414.0\n",
      "80    1464.0\n",
      "82    1514.0\n",
      "86       NaN\n",
      "88    1580.0\n",
      "91    1658.0\n",
      "93       NaN\n",
      "94    1701.0\n",
      "95    1754.0\n",
      "Name: f1, dtype: float64\n"
     ]
    }
   ],
   "source": [
    "# 조건에 따른 누적합\n",
    "df2 = df[df['f2'] == 1]['f1'].cumsum()\n",
    "print(df2)\n",
    "\n",
    "# print(dir(df))\n",
    "# help(df2.fillna)"
   ]
  },
  {
   "cell_type": "code",
   "execution_count": 3,
   "id": "234f7f8c",
   "metadata": {
    "execution": {
     "iopub.execute_input": "2025-06-17T12:40:35.513572Z",
     "iopub.status.busy": "2025-06-17T12:40:35.512351Z",
     "iopub.status.idle": "2025-06-17T12:40:35.516678Z",
     "shell.execute_reply": "2025-06-17T12:40:35.517258Z",
     "shell.execute_reply.started": "2025-06-17T12:39:58.677441Z"
    },
    "papermill": {
     "duration": 0.034418,
     "end_time": "2025-06-17T12:40:35.517456",
     "exception": false,
     "start_time": "2025-06-17T12:40:35.483038",
     "status": "completed"
    },
    "tags": []
   },
   "outputs": [
    {
     "data": {
      "text/plain": [
       "1       70.0\n",
       "2      131.0\n",
       "6      191.0\n",
       "7      292.0\n",
       "9      366.0\n",
       "13     416.0\n",
       "14     483.0\n",
       "16     534.0\n",
       "19     534.0\n",
       "20     606.0\n",
       "21     606.0\n",
       "22     681.0\n",
       "25     738.0\n",
       "27     772.0\n",
       "33     849.0\n",
       "35     849.0\n",
       "37     924.0\n",
       "46     924.0\n",
       "49    1002.0\n",
       "51    1084.0\n",
       "53    1170.0\n",
       "55    1170.0\n",
       "58    1170.0\n",
       "62    1170.0\n",
       "65    1222.0\n",
       "66    1222.0\n",
       "69    1318.0\n",
       "72    1414.0\n",
       "77    1414.0\n",
       "80    1464.0\n",
       "82    1514.0\n",
       "86    1580.0\n",
       "88    1580.0\n",
       "91    1658.0\n",
       "93    1701.0\n",
       "94    1701.0\n",
       "95    1754.0\n",
       "Name: f1, dtype: float64"
      ]
     },
     "execution_count": 3,
     "metadata": {},
     "output_type": "execute_result"
    }
   ],
   "source": [
    "# 결측치 처리 (뒤에 나오는 값으로 채움)\n",
    "df2 = df2.fillna(method = 'bfill')\n",
    "df2"
   ]
  },
  {
   "cell_type": "code",
   "execution_count": 4,
   "id": "4fd4c11c",
   "metadata": {
    "execution": {
     "iopub.execute_input": "2025-06-17T12:40:35.543671Z",
     "iopub.status.busy": "2025-06-17T12:40:35.542450Z",
     "iopub.status.idle": "2025-06-17T12:40:35.549732Z",
     "shell.execute_reply": "2025-06-17T12:40:35.548309Z",
     "shell.execute_reply.started": "2025-06-17T12:39:58.699765Z"
    },
    "papermill": {
     "duration": 0.022855,
     "end_time": "2025-06-17T12:40:35.550027",
     "exception": false,
     "start_time": "2025-06-17T12:40:35.527172",
     "status": "completed"
    },
    "tags": []
   },
   "outputs": [
    {
     "name": "stdout",
     "output_type": "stream",
     "text": [
      "980.3783783783783\n"
     ]
    }
   ],
   "source": [
    "# 평균 출력\n",
    "print(df2.mean()) # 980.3783783783783"
   ]
  },
  {
   "cell_type": "markdown",
   "id": "e7271e3b",
   "metadata": {
    "papermill": {
     "duration": 0.013873,
     "end_time": "2025-06-17T12:40:35.579287",
     "exception": false,
     "start_time": "2025-06-17T12:40:35.565414",
     "status": "completed"
    },
    "tags": []
   },
   "source": [
    "## Hint"
   ]
  },
  {
   "cell_type": "code",
   "execution_count": 5,
   "id": "a473186e",
   "metadata": {
    "execution": {
     "iopub.execute_input": "2025-06-17T12:40:35.619904Z",
     "iopub.status.busy": "2025-06-17T12:40:35.618708Z",
     "iopub.status.idle": "2025-06-17T12:40:35.623720Z",
     "shell.execute_reply": "2025-06-17T12:40:35.624233Z",
     "shell.execute_reply.started": "2025-06-17T12:39:58.717930Z"
    },
    "papermill": {
     "duration": 0.031685,
     "end_time": "2025-06-17T12:40:35.624415",
     "exception": false,
     "start_time": "2025-06-17T12:40:35.592730",
     "status": "completed"
    },
    "tags": []
   },
   "outputs": [
    {
     "name": "stdout",
     "output_type": "stream",
     "text": [
      "0     NaN\n",
      "1     퇴근후\n",
      "2     NaN\n",
      "3      딴짓\n",
      "4     NaN\n",
      "5      22\n",
      "6     NaN\n",
      "7      45\n",
      "8     NaN\n",
      "9     NaN\n",
      "10     60\n",
      "dtype: object\n"
     ]
    },
    {
     "data": {
      "text/plain": [
       "0     퇴근후\n",
       "1     퇴근후\n",
       "2      딴짓\n",
       "3      딴짓\n",
       "4      22\n",
       "5      22\n",
       "6      45\n",
       "7      45\n",
       "8      60\n",
       "9      60\n",
       "10     60\n",
       "dtype: object"
      ]
     },
     "execution_count": 5,
     "metadata": {},
     "output_type": "execute_result"
    }
   ],
   "source": [
    "import pandas as pd\n",
    "import numpy as np\n",
    "\n",
    "# 뒷값으로 결측치 채우기\n",
    "s = pd.Series([np.nan, \"퇴근후\", np.nan,\"딴짓\", np.nan, 22, np.nan,45, np.nan, np.nan, 60])\n",
    "print(s)\n",
    "\n",
    "s.fillna(method='bfill') # 바로 뒤값으로 채워넣는 방법\n",
    "# s.fillna(method='pad') # 이전값으로 채워넣는 방법"
   ]
  },
  {
   "cell_type": "markdown",
   "id": "50ea9026",
   "metadata": {
    "papermill": {
     "duration": 0.009442,
     "end_time": "2025-06-17T12:40:35.643519",
     "exception": false,
     "start_time": "2025-06-17T12:40:35.634077",
     "status": "completed"
    },
    "tags": []
   },
   "source": [
    "## 풀이"
   ]
  },
  {
   "cell_type": "code",
   "execution_count": 6,
   "id": "6e044816",
   "metadata": {
    "_cell_guid": "b1076dfc-b9ad-4769-8c92-a6c4dae69d19",
    "_uuid": "8f2839f25d086af736a60e9eeb907d3b93b6e0e5",
    "execution": {
     "iopub.execute_input": "2025-06-17T12:40:35.677986Z",
     "iopub.status.busy": "2025-06-17T12:40:35.677076Z",
     "iopub.status.idle": "2025-06-17T12:40:35.704137Z",
     "shell.execute_reply": "2025-06-17T12:40:35.703347Z",
     "shell.execute_reply.started": "2025-06-17T12:39:58.740514Z"
    },
    "papermill": {
     "duration": 0.048219,
     "end_time": "2025-06-17T12:40:35.704305",
     "exception": false,
     "start_time": "2025-06-17T12:40:35.656086",
     "status": "completed"
    },
    "tags": []
   },
   "outputs": [
    {
     "data": {
      "text/html": [
       "<div>\n",
       "<style scoped>\n",
       "    .dataframe tbody tr th:only-of-type {\n",
       "        vertical-align: middle;\n",
       "    }\n",
       "\n",
       "    .dataframe tbody tr th {\n",
       "        vertical-align: top;\n",
       "    }\n",
       "\n",
       "    .dataframe thead th {\n",
       "        text-align: right;\n",
       "    }\n",
       "</style>\n",
       "<table border=\"1\" class=\"dataframe\">\n",
       "  <thead>\n",
       "    <tr style=\"text-align: right;\">\n",
       "      <th></th>\n",
       "      <th>id</th>\n",
       "      <th>age</th>\n",
       "      <th>city</th>\n",
       "      <th>f1</th>\n",
       "      <th>f2</th>\n",
       "      <th>f3</th>\n",
       "      <th>f4</th>\n",
       "      <th>f5</th>\n",
       "    </tr>\n",
       "  </thead>\n",
       "  <tbody>\n",
       "    <tr>\n",
       "      <th>0</th>\n",
       "      <td>id01</td>\n",
       "      <td>2.0</td>\n",
       "      <td>서울</td>\n",
       "      <td>NaN</td>\n",
       "      <td>0</td>\n",
       "      <td>NaN</td>\n",
       "      <td>ENFJ</td>\n",
       "      <td>91.297791</td>\n",
       "    </tr>\n",
       "    <tr>\n",
       "      <th>1</th>\n",
       "      <td>id02</td>\n",
       "      <td>9.0</td>\n",
       "      <td>서울</td>\n",
       "      <td>70.0</td>\n",
       "      <td>1</td>\n",
       "      <td>NaN</td>\n",
       "      <td>ENFJ</td>\n",
       "      <td>60.339826</td>\n",
       "    </tr>\n",
       "  </tbody>\n",
       "</table>\n",
       "</div>"
      ],
      "text/plain": [
       "     id  age city    f1  f2   f3    f4         f5\n",
       "0  id01  2.0   서울   NaN   0  NaN  ENFJ  91.297791\n",
       "1  id02  9.0   서울  70.0   1  NaN  ENFJ  60.339826"
      ]
     },
     "execution_count": 6,
     "metadata": {},
     "output_type": "execute_result"
    }
   ],
   "source": [
    "# 라이브러리 및 데이터 불러오기\n",
    "import pandas as pd\n",
    "import numpy as np\n",
    "\n",
    "df = pd.read_csv('../input/bigdatacertificationkr/basic1.csv')\n",
    "df.head(2)"
   ]
  },
  {
   "cell_type": "code",
   "execution_count": 7,
   "id": "ec970031",
   "metadata": {
    "execution": {
     "iopub.execute_input": "2025-06-17T12:40:35.748107Z",
     "iopub.status.busy": "2025-06-17T12:40:35.746931Z",
     "iopub.status.idle": "2025-06-17T12:40:35.751607Z",
     "shell.execute_reply": "2025-06-17T12:40:35.752185Z",
     "shell.execute_reply.started": "2025-06-17T12:39:58.768573Z"
    },
    "papermill": {
     "duration": 0.034375,
     "end_time": "2025-06-17T12:40:35.752378",
     "exception": false,
     "start_time": "2025-06-17T12:40:35.718003",
     "status": "completed"
    },
    "tags": []
   },
   "outputs": [
    {
     "data": {
      "text/plain": [
       "1       70.0\n",
       "2      131.0\n",
       "6      191.0\n",
       "7      292.0\n",
       "9      366.0\n",
       "13     416.0\n",
       "14     483.0\n",
       "16       NaN\n",
       "19     534.0\n",
       "20       NaN\n",
       "21     606.0\n",
       "22     681.0\n",
       "25     738.0\n",
       "27     772.0\n",
       "33       NaN\n",
       "35     849.0\n",
       "37       NaN\n",
       "46     924.0\n",
       "49    1002.0\n",
       "51    1084.0\n",
       "53       NaN\n",
       "55       NaN\n",
       "58       NaN\n",
       "62    1170.0\n",
       "65       NaN\n",
       "66    1222.0\n",
       "69    1318.0\n",
       "72       NaN\n",
       "77    1414.0\n",
       "80    1464.0\n",
       "82    1514.0\n",
       "86       NaN\n",
       "88    1580.0\n",
       "91    1658.0\n",
       "93       NaN\n",
       "94    1701.0\n",
       "95    1754.0\n",
       "Name: f1, dtype: float64"
      ]
     },
     "execution_count": 7,
     "metadata": {},
     "output_type": "execute_result"
    }
   ],
   "source": [
    "# 조건에 따른 누적합\n",
    "df2 = df[df['f2']==1]['f1'].cumsum()\n",
    "df2"
   ]
  },
  {
   "cell_type": "code",
   "execution_count": 8,
   "id": "a3a26d60",
   "metadata": {
    "execution": {
     "iopub.execute_input": "2025-06-17T12:40:35.790605Z",
     "iopub.status.busy": "2025-06-17T12:40:35.789348Z",
     "iopub.status.idle": "2025-06-17T12:40:35.795341Z",
     "shell.execute_reply": "2025-06-17T12:40:35.794493Z",
     "shell.execute_reply.started": "2025-06-17T12:39:58.780725Z"
    },
    "papermill": {
     "duration": 0.031678,
     "end_time": "2025-06-17T12:40:35.795515",
     "exception": false,
     "start_time": "2025-06-17T12:40:35.763837",
     "status": "completed"
    },
    "tags": []
   },
   "outputs": [
    {
     "data": {
      "text/plain": [
       "1       70.0\n",
       "2      131.0\n",
       "6      191.0\n",
       "7      292.0\n",
       "9      366.0\n",
       "13     416.0\n",
       "14     483.0\n",
       "16     534.0\n",
       "19     534.0\n",
       "20     606.0\n",
       "21     606.0\n",
       "22     681.0\n",
       "25     738.0\n",
       "27     772.0\n",
       "33     849.0\n",
       "35     849.0\n",
       "37     924.0\n",
       "46     924.0\n",
       "49    1002.0\n",
       "51    1084.0\n",
       "53    1170.0\n",
       "55    1170.0\n",
       "58    1170.0\n",
       "62    1170.0\n",
       "65    1222.0\n",
       "66    1222.0\n",
       "69    1318.0\n",
       "72    1414.0\n",
       "77    1414.0\n",
       "80    1464.0\n",
       "82    1514.0\n",
       "86    1580.0\n",
       "88    1580.0\n",
       "91    1658.0\n",
       "93    1701.0\n",
       "94    1701.0\n",
       "95    1754.0\n",
       "Name: f1, dtype: float64"
      ]
     },
     "execution_count": 8,
     "metadata": {},
     "output_type": "execute_result"
    }
   ],
   "source": [
    "# 결측치 처리 (뒤에 나오는 값으로 채움)\n",
    "df2 = df2.fillna(method = 'bfill')\n",
    "df2"
   ]
  },
  {
   "cell_type": "code",
   "execution_count": 9,
   "id": "2e0df86c",
   "metadata": {
    "execution": {
     "iopub.execute_input": "2025-06-17T12:40:35.828157Z",
     "iopub.status.busy": "2025-06-17T12:40:35.827314Z",
     "iopub.status.idle": "2025-06-17T12:40:35.831504Z",
     "shell.execute_reply": "2025-06-17T12:40:35.830756Z",
     "shell.execute_reply.started": "2025-06-17T12:39:58.798692Z"
    },
    "papermill": {
     "duration": 0.023997,
     "end_time": "2025-06-17T12:40:35.831663",
     "exception": false,
     "start_time": "2025-06-17T12:40:35.807666",
     "status": "completed"
    },
    "tags": []
   },
   "outputs": [
    {
     "name": "stdout",
     "output_type": "stream",
     "text": [
      "980.3783783783783\n"
     ]
    }
   ],
   "source": [
    "# 평균 출력\n",
    "print(df2.mean())"
   ]
  }
 ],
 "metadata": {
  "kaggle": {
   "accelerator": "none",
   "dataSources": [
    {
     "datasetId": 1633303,
     "sourceId": 12189494,
     "sourceType": "datasetVersion"
    }
   ],
   "dockerImageVersionId": 30138,
   "isGpuEnabled": false,
   "isInternetEnabled": false,
   "language": "python",
   "sourceType": "notebook"
  },
  "kernelspec": {
   "display_name": "Python 3",
   "language": "python",
   "name": "python3"
  },
  "language_info": {
   "codemirror_mode": {
    "name": "ipython",
    "version": 3
   },
   "file_extension": ".py",
   "mimetype": "text/x-python",
   "name": "python",
   "nbconvert_exporter": "python",
   "pygments_lexer": "ipython3",
   "version": "3.7.10"
  },
  "papermill": {
   "default_parameters": {},
   "duration": 12.089997,
   "end_time": "2025-06-17T12:40:36.559937",
   "environment_variables": {},
   "exception": null,
   "input_path": "__notebook__.ipynb",
   "output_path": "__notebook__.ipynb",
   "parameters": {},
   "start_time": "2025-06-17T12:40:24.469940",
   "version": "2.3.3"
  }
 },
 "nbformat": 4,
 "nbformat_minor": 5
}
