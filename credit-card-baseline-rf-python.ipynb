{
 "cells": [
  {
   "cell_type": "markdown",
   "id": "5a0beef3",
   "metadata": {
    "papermill": {
     "duration": 0.003871,
     "end_time": "2025-06-19T20:36:26.803252",
     "exception": false,
     "start_time": "2025-06-19T20:36:26.799381",
     "status": "completed"
    },
    "tags": []
   },
   "source": [
    "- 이 코드는 완벽하지 않아요\n",
    "- roc-auc 평가지표일 때 predict과 predict_proba를 비교해보세요\n",
    "- 검증데이터를 사용해보세요!"
   ]
  },
  {
   "cell_type": "code",
   "execution_count": 1,
   "id": "e216d80b",
   "metadata": {
    "_cell_guid": "b1076dfc-b9ad-4769-8c92-a6c4dae69d19",
    "_uuid": "8f2839f25d086af736a60e9eeb907d3b93b6e0e5",
    "execution": {
     "iopub.execute_input": "2025-06-19T20:36:26.811450Z",
     "iopub.status.busy": "2025-06-19T20:36:26.811062Z",
     "iopub.status.idle": "2025-06-19T20:36:31.948234Z",
     "shell.execute_reply": "2025-06-19T20:36:31.946871Z"
    },
    "papermill": {
     "duration": 5.14466,
     "end_time": "2025-06-19T20:36:31.951337",
     "exception": false,
     "start_time": "2025-06-19T20:36:26.806677",
     "status": "completed"
    },
    "tags": []
   },
   "outputs": [],
   "source": [
    "import pandas as pd\n",
    "train = pd.read_csv(\"/kaggle/input/big-data-analytics-certification-kr-2024-2/train.csv\")\n",
    "test = pd.read_csv(\"/kaggle/input/big-data-analytics-certification-kr-2024-2/test.csv\")"
   ]
  },
  {
   "cell_type": "code",
   "execution_count": 2,
   "id": "ee6d51c3",
   "metadata": {
    "execution": {
     "iopub.execute_input": "2025-06-19T20:36:31.957849Z",
     "iopub.status.busy": "2025-06-19T20:36:31.957471Z",
     "iopub.status.idle": "2025-06-19T20:36:57.151305Z",
     "shell.execute_reply": "2025-06-19T20:36:57.149878Z"
    },
    "papermill": {
     "duration": 25.2002,
     "end_time": "2025-06-19T20:36:57.153670",
     "exception": false,
     "start_time": "2025-06-19T20:36:31.953470",
     "status": "completed"
    },
    "tags": []
   },
   "outputs": [
    {
     "name": "stdout",
     "output_type": "stream",
     "text": [
      "0.8256109954755552\n",
      "0.9580054154751467\n",
      "        pred\n",
      "0          0\n",
      "1          0\n",
      "2          0\n",
      "3          0\n",
      "4          0\n",
      "...      ...\n",
      "113918     0\n",
      "113919     0\n",
      "113920     0\n",
      "113921     0\n",
      "113922     0\n",
      "\n",
      "[113923 rows x 1 columns]\n"
     ]
    }
   ],
   "source": [
    "# print(train.info) # id 제거 Class\n",
    "# print(test.info)\n",
    "# print(train.shape, test.shape) # (170883, 32) (113923, 31)\n",
    "\n",
    "# train, test 데이터 전처리\n",
    "X = train.drop(['Class'], axis = 1)\n",
    "y = train['Class']\n",
    "# print(X.shape, y.shape) # (170883, 31) (170883,)\n",
    "# print(help(train.drop))\n",
    "# test.isnull().sum()\n",
    "\n",
    "X_full = pd.concat([X, test], axis=0)\n",
    "# print(X_full.shape) # (284806, 31)\n",
    "X_full = X_full.drop(['id'], axis = 1)\n",
    "# print(X_full.shape)\n",
    "\n",
    "# 범주형 변수 원핫인코딩\n",
    "# X_full = pd.get_dummies(X_full)\n",
    "# print(X_full.shape)\n",
    "# print(X_full)\n",
    "\n",
    "# 데이터 분리\n",
    "X_train = X_full[:170883]\n",
    "X_test = X_full[170883:]\n",
    "\n",
    "from sklearn.model_selection import train_test_split\n",
    "# print(help(train_test_split))\n",
    "X_train, X_val, y_train, y_val = train_test_split(X_train, y, test_size = 0.2)\n",
    "# print(X_train.shape, X_val.shape, y_train.shape, y_val.shape) # (136706, 30) (34177, 30) (136706,) (34177,)\n",
    "\n",
    "# 모델 학습 및 검증\n",
    "from sklearn.ensemble import RandomForestClassifier\n",
    "# print(sklearn.ensemble.__all__)\n",
    "model = RandomForestClassifier(\n",
    "    max_depth=2,\n",
    "    random_state=2025\n",
    ")\n",
    "# print(help(RandomForestClassifier))\n",
    "model.fit(X_train, y_train)\n",
    "y_val_pred = model.predict(X_val)\n",
    "# 0 또는 1이 아닌 확률 예측값을 사용하기 위해 두번째 열 양성 클래스 확률만 사용\n",
    "y_val_pred_proba = model.predict_proba(X_val)[:, 1]\n",
    "\n",
    "# 평가\n",
    "# roc-auc predict과 predict_proba를 비교해보세요\n",
    "from sklearn.metrics import accuracy_score, roc_auc_score\n",
    "# print(sklearn.metrics.__all__)\n",
    "# print(help(roc_auc_score))\n",
    "# acc = accuracy_score(y_val, y_val_pred)\n",
    "# print(acc)\n",
    "\n",
    "# 1. predict 0/1 이진 예측으로 계산\n",
    "roc = roc_auc_score(y_val, y_val_pred)\n",
    "# roc_proba = roc_auc_score(y_val, y_val_pred_proba)\n",
    "\n",
    "# 2. predict_proba 확률 예측으로 계산\n",
    "roc_proba = roc_auc_score(y_val, y_val_pred_proba)\n",
    "\n",
    "print(roc) # predict가 더 낮게나옴 0.7893417967544887\n",
    "print(roc_proba) # 0.9543602558565228\n",
    "\n",
    "# 결과 저장\n",
    "y_pred = model.predict(X_test)\n",
    "result = pd.DataFrame(y_pred, columns=['pred']).to_csv('result.csv', index=False)\n",
    "\n",
    "# 결과 확인\n",
    "result = pd.read_csv('result.csv')\n",
    "print(result)"
   ]
  },
  {
   "cell_type": "code",
   "execution_count": 3,
   "id": "c860f202",
   "metadata": {
    "execution": {
     "iopub.execute_input": "2025-06-19T20:36:57.159991Z",
     "iopub.status.busy": "2025-06-19T20:36:57.159597Z",
     "iopub.status.idle": "2025-06-19T20:39:54.390102Z",
     "shell.execute_reply": "2025-06-19T20:39:54.388779Z"
    },
    "papermill": {
     "duration": 177.238251,
     "end_time": "2025-06-19T20:39:54.394339",
     "exception": false,
     "start_time": "2025-06-19T20:36:57.156088",
     "status": "completed"
    },
    "tags": []
   },
   "outputs": [
    {
     "name": "stdout",
     "output_type": "stream",
     "text": [
      "            id  Class\n",
      "0       170883      0\n",
      "1       170884      0\n",
      "2       170885      0\n",
      "3       170886      0\n",
      "4       170887      0\n",
      "...        ...    ...\n",
      "113918  284801      0\n",
      "113919  284802      0\n",
      "113920  284803      0\n",
      "113921  284804      0\n",
      "113922  284805      0\n",
      "\n",
      "[113923 rows x 2 columns]\n"
     ]
    }
   ],
   "source": [
    "from sklearn.ensemble import RandomForestClassifier\n",
    "\n",
    "# 입력 특성과 타겟 변수 분리\n",
    "X_train = train.drop(['id', 'Class'], axis=1)\n",
    "y_train = train['Class']\n",
    "X_test = test.drop(['id'], axis=1)\n",
    "\n",
    "# 로지스틱 회귀 모델 학습\n",
    "model = RandomForestClassifier()\n",
    "model.fit(X_train, y_train)\n",
    "\n",
    "# 테스트 데이터에 대한 예측\n",
    "y_pred = model.predict(X_test)\n",
    "\n",
    "# 제출 파일 생성\n",
    "submission = pd.DataFrame({'id': test['id'], 'Class': y_pred})\n",
    "submission.to_csv('submission.csv', index=False)\n",
    "\n",
    "result = pd.read_csv('submission.csv')\n",
    "\n",
    "print(result)"
   ]
  }
 ],
 "metadata": {
  "kaggle": {
   "accelerator": "none",
   "dataSources": [
    {
     "databundleVersionId": 8672016,
     "sourceId": 80687,
     "sourceType": "competition"
    }
   ],
   "dockerImageVersionId": 30698,
   "isGpuEnabled": false,
   "isInternetEnabled": false,
   "language": "python",
   "sourceType": "notebook"
  },
  "kernelspec": {
   "display_name": "Python 3",
   "language": "python",
   "name": "python3"
  },
  "language_info": {
   "codemirror_mode": {
    "name": "ipython",
    "version": 3
   },
   "file_extension": ".py",
   "mimetype": "text/x-python",
   "name": "python",
   "nbconvert_exporter": "python",
   "pygments_lexer": "ipython3",
   "version": "3.10.13"
  },
  "papermill": {
   "default_parameters": {},
   "duration": 212.208956,
   "end_time": "2025-06-19T20:39:55.120868",
   "environment_variables": {},
   "exception": null,
   "input_path": "__notebook__.ipynb",
   "output_path": "__notebook__.ipynb",
   "parameters": {},
   "start_time": "2025-06-19T20:36:22.911912",
   "version": "2.5.0"
  }
 },
 "nbformat": 4,
 "nbformat_minor": 5
}
