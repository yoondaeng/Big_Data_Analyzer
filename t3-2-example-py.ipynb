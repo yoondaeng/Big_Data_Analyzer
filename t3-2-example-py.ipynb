{
 "cells": [
  {
   "cell_type": "markdown",
   "id": "063f88ea",
   "metadata": {
    "papermill": {
     "duration": 0.003182,
     "end_time": "2025-06-20T18:32:26.018027",
     "exception": false,
     "start_time": "2025-06-20T18:32:26.014845",
     "status": "completed"
    },
    "tags": []
   },
   "source": [
    "## Pclass, Gender, sibsp, parch를 독립변수로 사용하여 로지스틱 회귀모형을 실시하였을 때, parch변수의 계수값은? 단, Pclass는 범주형 변수이다\n",
    "(반올림하여 소수 셋째 자리까지 계산)"
   ]
  },
  {
   "cell_type": "code",
   "execution_count": 1,
   "id": "154a8501",
   "metadata": {
    "execution": {
     "iopub.execute_input": "2025-06-20T18:32:26.025459Z",
     "iopub.status.busy": "2025-06-20T18:32:26.025065Z",
     "iopub.status.idle": "2025-06-20T18:32:26.056545Z",
     "shell.execute_reply": "2025-06-20T18:32:26.055286Z"
    },
    "papermill": {
     "duration": 0.038105,
     "end_time": "2025-06-20T18:32:26.059255",
     "exception": false,
     "start_time": "2025-06-20T18:32:26.021150",
     "status": "completed"
    },
    "tags": []
   },
   "outputs": [],
   "source": [
    "import pandas as pd\n",
    "df = pd.read_csv(\"/kaggle/input/bigdatacertificationkr/Titanic.csv\")"
   ]
  },
  {
   "cell_type": "code",
   "execution_count": 2,
   "id": "4e482878",
   "metadata": {
    "execution": {
     "iopub.execute_input": "2025-06-20T18:32:26.066439Z",
     "iopub.status.busy": "2025-06-20T18:32:26.065993Z",
     "iopub.status.idle": "2025-06-20T18:32:26.112248Z",
     "shell.execute_reply": "2025-06-20T18:32:26.111013Z"
    },
    "papermill": {
     "duration": 0.052685,
     "end_time": "2025-06-20T18:32:26.114827",
     "exception": false,
     "start_time": "2025-06-20T18:32:26.062142",
     "status": "completed"
    },
    "tags": []
   },
   "outputs": [
    {
     "name": "stdout",
     "output_type": "stream",
     "text": [
      "<class 'pandas.core.frame.DataFrame'>\n",
      "RangeIndex: 891 entries, 0 to 890\n",
      "Data columns (total 12 columns):\n",
      " #   Column       Non-Null Count  Dtype  \n",
      "---  ------       --------------  -----  \n",
      " 0   PassengerId  891 non-null    int64  \n",
      " 1   Survived     891 non-null    int64  \n",
      " 2   Pclass       891 non-null    int64  \n",
      " 3   Name         891 non-null    object \n",
      " 4   Gender       891 non-null    object \n",
      " 5   Age          714 non-null    float64\n",
      " 6   SibSp        891 non-null    int64  \n",
      " 7   Parch        891 non-null    int64  \n",
      " 8   Ticket       891 non-null    object \n",
      " 9   Fare         891 non-null    float64\n",
      " 10  Cabin        204 non-null    object \n",
      " 11  Embarked     889 non-null    object \n",
      "dtypes: float64(2), int64(5), object(5)\n",
      "memory usage: 83.7+ KB\n"
     ]
    },
    {
     "data": {
      "text/html": [
       "<div>\n",
       "<style scoped>\n",
       "    .dataframe tbody tr th:only-of-type {\n",
       "        vertical-align: middle;\n",
       "    }\n",
       "\n",
       "    .dataframe tbody tr th {\n",
       "        vertical-align: top;\n",
       "    }\n",
       "\n",
       "    .dataframe thead th {\n",
       "        text-align: right;\n",
       "    }\n",
       "</style>\n",
       "<table border=\"1\" class=\"dataframe\">\n",
       "  <thead>\n",
       "    <tr style=\"text-align: right;\">\n",
       "      <th></th>\n",
       "      <th>PassengerId</th>\n",
       "      <th>Survived</th>\n",
       "      <th>Pclass</th>\n",
       "      <th>Name</th>\n",
       "      <th>Gender</th>\n",
       "      <th>Age</th>\n",
       "      <th>SibSp</th>\n",
       "      <th>Parch</th>\n",
       "      <th>Ticket</th>\n",
       "      <th>Fare</th>\n",
       "      <th>Cabin</th>\n",
       "      <th>Embarked</th>\n",
       "    </tr>\n",
       "  </thead>\n",
       "  <tbody>\n",
       "    <tr>\n",
       "      <th>0</th>\n",
       "      <td>1</td>\n",
       "      <td>0</td>\n",
       "      <td>3</td>\n",
       "      <td>Braund, Mr. Owen Harris</td>\n",
       "      <td>male</td>\n",
       "      <td>22.0</td>\n",
       "      <td>1</td>\n",
       "      <td>0</td>\n",
       "      <td>A/5 21171</td>\n",
       "      <td>7.2500</td>\n",
       "      <td>NaN</td>\n",
       "      <td>S</td>\n",
       "    </tr>\n",
       "    <tr>\n",
       "      <th>1</th>\n",
       "      <td>2</td>\n",
       "      <td>1</td>\n",
       "      <td>1</td>\n",
       "      <td>Cumings, Mrs. John Bradley (Florence Briggs Th...</td>\n",
       "      <td>female</td>\n",
       "      <td>38.0</td>\n",
       "      <td>1</td>\n",
       "      <td>0</td>\n",
       "      <td>PC 17599</td>\n",
       "      <td>71.2833</td>\n",
       "      <td>C85</td>\n",
       "      <td>C</td>\n",
       "    </tr>\n",
       "    <tr>\n",
       "      <th>2</th>\n",
       "      <td>3</td>\n",
       "      <td>1</td>\n",
       "      <td>3</td>\n",
       "      <td>Heikkinen, Miss. Laina</td>\n",
       "      <td>female</td>\n",
       "      <td>26.0</td>\n",
       "      <td>0</td>\n",
       "      <td>0</td>\n",
       "      <td>STON/O2. 3101282</td>\n",
       "      <td>7.9250</td>\n",
       "      <td>NaN</td>\n",
       "      <td>S</td>\n",
       "    </tr>\n",
       "    <tr>\n",
       "      <th>3</th>\n",
       "      <td>4</td>\n",
       "      <td>1</td>\n",
       "      <td>1</td>\n",
       "      <td>Futrelle, Mrs. Jacques Heath (Lily May Peel)</td>\n",
       "      <td>female</td>\n",
       "      <td>35.0</td>\n",
       "      <td>1</td>\n",
       "      <td>0</td>\n",
       "      <td>113803</td>\n",
       "      <td>53.1000</td>\n",
       "      <td>C123</td>\n",
       "      <td>S</td>\n",
       "    </tr>\n",
       "    <tr>\n",
       "      <th>4</th>\n",
       "      <td>5</td>\n",
       "      <td>0</td>\n",
       "      <td>3</td>\n",
       "      <td>Allen, Mr. William Henry</td>\n",
       "      <td>male</td>\n",
       "      <td>35.0</td>\n",
       "      <td>0</td>\n",
       "      <td>0</td>\n",
       "      <td>373450</td>\n",
       "      <td>8.0500</td>\n",
       "      <td>NaN</td>\n",
       "      <td>S</td>\n",
       "    </tr>\n",
       "  </tbody>\n",
       "</table>\n",
       "</div>"
      ],
      "text/plain": [
       "   PassengerId  Survived  Pclass  \\\n",
       "0            1         0       3   \n",
       "1            2         1       1   \n",
       "2            3         1       3   \n",
       "3            4         1       1   \n",
       "4            5         0       3   \n",
       "\n",
       "                                                Name  Gender   Age  SibSp  \\\n",
       "0                            Braund, Mr. Owen Harris    male  22.0      1   \n",
       "1  Cumings, Mrs. John Bradley (Florence Briggs Th...  female  38.0      1   \n",
       "2                             Heikkinen, Miss. Laina  female  26.0      0   \n",
       "3       Futrelle, Mrs. Jacques Heath (Lily May Peel)  female  35.0      1   \n",
       "4                           Allen, Mr. William Henry    male  35.0      0   \n",
       "\n",
       "   Parch            Ticket     Fare Cabin Embarked  \n",
       "0      0         A/5 21171   7.2500   NaN        S  \n",
       "1      0          PC 17599  71.2833   C85        C  \n",
       "2      0  STON/O2. 3101282   7.9250   NaN        S  \n",
       "3      0            113803  53.1000  C123        S  \n",
       "4      0            373450   8.0500   NaN        S  "
      ]
     },
     "execution_count": 2,
     "metadata": {},
     "output_type": "execute_result"
    }
   ],
   "source": [
    "df.info()\n",
    "df.head()"
   ]
  },
  {
   "cell_type": "code",
   "execution_count": 3,
   "id": "abd6cb7b",
   "metadata": {
    "execution": {
     "iopub.execute_input": "2025-06-20T18:32:26.122471Z",
     "iopub.status.busy": "2025-06-20T18:32:26.122111Z",
     "iopub.status.idle": "2025-06-20T18:32:27.795725Z",
     "shell.execute_reply": "2025-06-20T18:32:27.794697Z"
    },
    "papermill": {
     "duration": 1.681265,
     "end_time": "2025-06-20T18:32:27.799082",
     "exception": false,
     "start_time": "2025-06-20T18:32:26.117817",
     "status": "completed"
    },
    "tags": []
   },
   "outputs": [
    {
     "name": "stderr",
     "output_type": "stream",
     "text": [
      "/opt/conda/lib/python3.10/site-packages/scipy/__init__.py:146: UserWarning: A NumPy version >=1.16.5 and <1.23.0 is required for this version of SciPy (detected version 1.23.5\n",
      "  warnings.warn(f\"A NumPy version >={np_minversion} and <{np_maxversion}\"\n"
     ]
    },
    {
     "name": "stdout",
     "output_type": "stream",
     "text": [
      "260.717\n",
      "1.1973570627755645e-58\n",
      "Optimization terminated successfully.\n",
      "         Current function value: 0.482065\n",
      "         Iterations 6\n",
      "                           Logit Regression Results                           \n",
      "==============================================================================\n",
      "Dep. Variable:               Survived   No. Observations:                  891\n",
      "Model:                          Logit   Df Residuals:                      886\n",
      "Method:                           MLE   Df Model:                            4\n",
      "Date:                Fri, 20 Jun 2025   Pseudo R-squ.:                  0.2761\n",
      "Time:                        18:32:27   Log-Likelihood:                -429.52\n",
      "converged:                       True   LL-Null:                       -593.33\n",
      "Covariance Type:            nonrobust   LLR p-value:                 1.192e-69\n",
      "==================================================================================\n",
      "                     coef    std err          z      P>|z|      [0.025      0.975]\n",
      "----------------------------------------------------------------------------------\n",
      "Intercept          0.9466      0.169      5.590      0.000       0.615       1.279\n",
      "Gender[T.male]    -2.6422      0.186    -14.197      0.000      -3.007      -2.277\n",
      "SibSp             -0.3539      0.098     -3.604      0.000      -0.546      -0.161\n",
      "Parch             -0.2007      0.112     -1.792      0.073      -0.420       0.019\n",
      "Fare               0.0147      0.003      5.553      0.000       0.010       0.020\n",
      "==================================================================================\n",
      "Optimization terminated successfully.\n",
      "         Current function value: 0.482065\n",
      "         Iterations 6\n",
      "Intercept         2.577\n",
      "Gender[T.male]    0.071\n",
      "SibSp             0.702\n",
      "Parch             0.818\n",
      "Fare              1.015\n",
      "dtype: float64\n"
     ]
    }
   ],
   "source": [
    "from scipy.stats import chi2_contingency\n",
    "# print(dir(scipy.stats))\n",
    "# print(help(chi2_contingency))\n",
    "table = pd.crosstab(df.Gender, df.Survived)\n",
    "# table.head()\n",
    "chi2, p_val, dof, exp = chi2_contingency(table)\n",
    "print(round(chi2, 3)) # 260.717\n",
    "print(p_val) # 1.1973570627755645e-58 \n",
    "# 0.05 유의수준보다 현저히 작음 0에 가까움 -> 귀무가설 기각, Gender와 Survived는 서로 연관이 있다.\n",
    "\n",
    "from statsmodels.formula.api import logit\n",
    "result1 = logit(\"Survived ~ Gender + SibSp + Parch + Fare\", data=df).fit().summary()\n",
    "print(result1) # -0.201\n",
    "\n",
    "result2 = logit(\"Survived ~ Gender + SibSp + Parch + Fare\", data=df).fit().params\n",
    "\n",
    "import numpy as np\n",
    "print(round(np.exp(result2), 3)) # 0.702"
   ]
  },
  {
   "cell_type": "code",
   "execution_count": 4,
   "id": "45efe0e0",
   "metadata": {
    "execution": {
     "iopub.execute_input": "2025-06-20T18:32:27.813252Z",
     "iopub.status.busy": "2025-06-20T18:32:27.812752Z",
     "iopub.status.idle": "2025-06-20T18:32:27.822351Z",
     "shell.execute_reply": "2025-06-20T18:32:27.821311Z"
    },
    "papermill": {
     "duration": 0.022096,
     "end_time": "2025-06-20T18:32:27.827076",
     "exception": false,
     "start_time": "2025-06-20T18:32:27.804980",
     "status": "completed"
    },
    "tags": []
   },
   "outputs": [
    {
     "name": "stdout",
     "output_type": "stream",
     "text": [
      "Help on method from_formula in module statsmodels.base.model:\n",
      "\n",
      "from_formula(formula, data, subset=None, drop_cols=None, *args, **kwargs) method of builtins.type instance\n",
      "    Create a Model from a formula and dataframe.\n",
      "    \n",
      "    Parameters\n",
      "    ----------\n",
      "    formula : str or generic Formula object\n",
      "        The formula specifying the model.\n",
      "    data : array_like\n",
      "        The data for the model. See Notes.\n",
      "    subset : array_like\n",
      "        An array-like object of booleans, integers, or index values that\n",
      "        indicate the subset of df to use in the model. Assumes df is a\n",
      "        `pandas.DataFrame`.\n",
      "    drop_cols : array_like\n",
      "        Columns to drop from the design matrix.  Cannot be used to\n",
      "        drop terms involving categoricals.\n",
      "    *args\n",
      "        Additional positional argument that are passed to the model.\n",
      "    **kwargs\n",
      "        These are passed to the model with one exception. The\n",
      "        ``eval_env`` keyword is passed to patsy. It can be either a\n",
      "        :class:`patsy:patsy.EvalEnvironment` object or an integer\n",
      "        indicating the depth of the namespace to use. For example, the\n",
      "        default ``eval_env=0`` uses the calling namespace. If you wish\n",
      "        to use a \"clean\" environment set ``eval_env=-1``.\n",
      "    \n",
      "    Returns\n",
      "    -------\n",
      "    model\n",
      "        The model instance.\n",
      "    \n",
      "    Notes\n",
      "    -----\n",
      "    data must define __getitem__ with the keys in the formula terms\n",
      "    args and kwargs are passed on to the model instantiation. E.g.,\n",
      "    a numpy structured or rec array, a dictionary, or a pandas DataFrame.\n",
      "\n",
      "None\n"
     ]
    }
   ],
   "source": [
    "from statsmodels.formula.api import logit\n",
    "# print(dir(statsmodels.formula.api))\n",
    "print(help(logit))"
   ]
  },
  {
   "cell_type": "code",
   "execution_count": 5,
   "id": "a05d1624",
   "metadata": {
    "execution": {
     "iopub.execute_input": "2025-06-20T18:32:27.841640Z",
     "iopub.status.busy": "2025-06-20T18:32:27.841168Z",
     "iopub.status.idle": "2025-06-20T18:32:27.882384Z",
     "shell.execute_reply": "2025-06-20T18:32:27.881362Z"
    },
    "papermill": {
     "duration": 0.056072,
     "end_time": "2025-06-20T18:32:27.889266",
     "exception": false,
     "start_time": "2025-06-20T18:32:27.833194",
     "status": "completed"
    },
    "tags": []
   },
   "outputs": [
    {
     "name": "stdout",
     "output_type": "stream",
     "text": [
      "Optimization terminated successfully.\n",
      "         Current function value: 0.459565\n",
      "         Iterations 6\n"
     ]
    },
    {
     "data": {
      "text/plain": [
       "Intercept         2.491729\n",
       "C(Pclass)[T.2]   -0.848152\n",
       "C(Pclass)[T.3]   -1.866905\n",
       "Gender[T.male]   -2.760281\n",
       "SibSp            -0.232553\n",
       "Parch            -0.049847\n",
       "dtype: float64"
      ]
     },
     "execution_count": 5,
     "metadata": {},
     "output_type": "execute_result"
    }
   ],
   "source": [
    "formula = \"Survived ~ C(Pclass) + Gender + SibSp + Parch\"\n",
    "# 예측하려는 종속 변수: Survived\n",
    "# C(Pclass)라고 쓰면 범주형(categorical) 변수로 처리\n",
    "# Pclass Gender + SibSp + Parch는 설명 변수(독립 변수)\n",
    "model = logit(formula, data = df).fit()\n",
    "model.params # -0.049847 반올림 -0.050"
   ]
  },
  {
   "cell_type": "markdown",
   "id": "f03c370c",
   "metadata": {
    "papermill": {
     "duration": 0.00635,
     "end_time": "2025-06-20T18:32:27.902157",
     "exception": false,
     "start_time": "2025-06-20T18:32:27.895807",
     "status": "completed"
    },
    "tags": []
   },
   "source": [
    "## 로지스틱 회귀 계수 해석\n",
    "로지스틱 회귀의 계수는 로그 오즈(log-odds) 단위\n",
    "\n",
    "### Parch의 계수 -0.050의 의미\n",
    "\n",
    "- Parch가 1 증가할 때마다 생존할 로그 오즈가 0.050만큼 감소\n",
    "\n",
    "- 즉, 동반한 자녀나 부모가 많을수록 생존 가능성이 약간 줄어든다는 뜻"
   ]
  },
  {
   "cell_type": "code",
   "execution_count": null,
   "id": "c2532065",
   "metadata": {
    "papermill": {
     "duration": 0.006233,
     "end_time": "2025-06-20T18:32:27.916344",
     "exception": false,
     "start_time": "2025-06-20T18:32:27.910111",
     "status": "completed"
    },
    "tags": []
   },
   "outputs": [],
   "source": []
  },
  {
   "cell_type": "markdown",
   "id": "fe974256",
   "metadata": {
    "papermill": {
     "duration": 0.006189,
     "end_time": "2025-06-20T18:32:27.930269",
     "exception": false,
     "start_time": "2025-06-20T18:32:27.924080",
     "status": "completed"
    },
    "tags": []
   },
   "source": [
    "## 풀이"
   ]
  },
  {
   "cell_type": "code",
   "execution_count": 6,
   "id": "16bcd416",
   "metadata": {
    "execution": {
     "iopub.execute_input": "2025-06-20T18:32:27.948059Z",
     "iopub.status.busy": "2025-06-20T18:32:27.945610Z",
     "iopub.status.idle": "2025-06-20T18:32:27.999841Z",
     "shell.execute_reply": "2025-06-20T18:32:27.996962Z"
    },
    "papermill": {
     "duration": 0.066292,
     "end_time": "2025-06-20T18:32:28.002971",
     "exception": false,
     "start_time": "2025-06-20T18:32:27.936679",
     "status": "completed"
    },
    "tags": []
   },
   "outputs": [
    {
     "name": "stdout",
     "output_type": "stream",
     "text": [
      "Optimization terminated successfully.\n",
      "         Current function value: 0.459565\n",
      "         Iterations 6\n"
     ]
    },
    {
     "data": {
      "text/plain": [
       "Intercept         2.491729\n",
       "C(Pclass)[T.2]   -0.848152\n",
       "C(Pclass)[T.3]   -1.866905\n",
       "Gender[T.male]   -2.760281\n",
       "SibSp            -0.232553\n",
       "Parch            -0.049847\n",
       "dtype: float64"
      ]
     },
     "execution_count": 6,
     "metadata": {},
     "output_type": "execute_result"
    }
   ],
   "source": [
    "import pandas as pd\n",
    "from statsmodels.formula.api import logit\n",
    "\n",
    "df = pd.read_csv(\"/kaggle/input/bigdatacertificationkr/Titanic.csv\")\n",
    "formula = \"Survived ~ C(Pclass) + Gender + SibSp + Parch\"\n",
    "model = logit(formula, data=df).fit()\n",
    "model.params"
   ]
  },
  {
   "cell_type": "code",
   "execution_count": null,
   "id": "3782bfd1",
   "metadata": {
    "papermill": {
     "duration": 0.006128,
     "end_time": "2025-06-20T18:32:28.016509",
     "exception": false,
     "start_time": "2025-06-20T18:32:28.010381",
     "status": "completed"
    },
    "tags": []
   },
   "outputs": [],
   "source": []
  }
 ],
 "metadata": {
  "kaggle": {
   "accelerator": "none",
   "dataSources": [
    {
     "datasetId": 1633303,
     "sourceId": 12211878,
     "sourceType": "datasetVersion"
    }
   ],
   "dockerImageVersionId": 30527,
   "isGpuEnabled": false,
   "isInternetEnabled": false,
   "language": "python",
   "sourceType": "notebook"
  },
  "kernelspec": {
   "display_name": "Python 3",
   "language": "python",
   "name": "python3"
  },
  "language_info": {
   "codemirror_mode": {
    "name": "ipython",
    "version": 3
   },
   "file_extension": ".py",
   "mimetype": "text/x-python",
   "name": "python",
   "nbconvert_exporter": "python",
   "pygments_lexer": "ipython3",
   "version": "3.10.12"
  },
  "papermill": {
   "default_parameters": {},
   "duration": 13.887638,
   "end_time": "2025-06-20T18:32:28.947219",
   "environment_variables": {},
   "exception": null,
   "input_path": "__notebook__.ipynb",
   "output_path": "__notebook__.ipynb",
   "parameters": {},
   "start_time": "2025-06-20T18:32:15.059581",
   "version": "2.4.0"
  }
 },
 "nbformat": 4,
 "nbformat_minor": 5
}
