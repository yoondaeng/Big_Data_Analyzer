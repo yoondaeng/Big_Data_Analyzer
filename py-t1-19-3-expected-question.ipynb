{
 "cells": [
  {
   "cell_type": "markdown",
   "id": "11deed61",
   "metadata": {
    "papermill": {
     "duration": 0.009241,
     "end_time": "2025-06-20T10:02:51.221776",
     "exception": false,
     "start_time": "2025-06-20T10:02:51.212535",
     "status": "completed"
    },
    "tags": []
   },
   "source": [
    "### 주어진 데이터에서 2022년 월별 Sales 합계 중 가장 큰 금액과 \n",
    "### 2023년 월별 Sales 합계 중 가장 큰 금액의 차이를 절대값으로 구하시오. \n",
    "### 단 Events컬럼이 '1'인경우 80%의 Salse값만 반영함 \n",
    "### (최종값은 소수점 반올림 후 정수 출력)\n",
    "- 데이터셋 : basic2.csv\n",
    "- 오른쪽 상단 copy&edit 클릭 -> 예상문제 풀이 시작"
   ]
  },
  {
   "cell_type": "code",
   "execution_count": 1,
   "id": "83ddd822",
   "metadata": {
    "execution": {
     "iopub.execute_input": "2025-06-20T10:02:51.256068Z",
     "iopub.status.busy": "2025-06-20T10:02:51.248527Z",
     "iopub.status.idle": "2025-06-20T10:02:51.784446Z",
     "shell.execute_reply": "2025-06-20T10:02:51.783499Z",
     "shell.execute_reply.started": "2025-06-20T10:01:45.384458Z"
    },
    "papermill": {
     "duration": 0.554597,
     "end_time": "2025-06-20T10:02:51.784671",
     "exception": false,
     "start_time": "2025-06-20T10:02:51.230074",
     "status": "completed"
    },
    "tags": []
   },
   "outputs": [
    {
     "name": "stdout",
     "output_type": "stream",
     "text": [
      "<class 'pandas.core.frame.DataFrame'>\n",
      "RangeIndex: 730 entries, 0 to 729\n",
      "Data columns (total 5 columns):\n",
      " #   Column  Non-Null Count  Dtype         \n",
      "---  ------  --------------  -----         \n",
      " 0   Date    730 non-null    datetime64[ns]\n",
      " 1   Sales   730 non-null    int64         \n",
      " 2   PV      730 non-null    int64         \n",
      " 3   UV      684 non-null    float64       \n",
      " 4   Events  730 non-null    int64         \n",
      "dtypes: datetime64[ns](1), float64(1), int64(3)\n",
      "memory usage: 28.6 KB\n",
      "197145878.0 239619313.8\n",
      "42473436.0\n"
     ]
    }
   ],
   "source": [
    "import pandas as pd\n",
    "df = pd.read_csv(\"../input/bigdatacertificationkr/basic2.csv\", \n",
    "                 parse_dates=['Date'])\n",
    "\n",
    "df.head()\n",
    "df.info()\n",
    "\n",
    "df['year'] = df['Date'].dt.year\n",
    "df['month'] = df['Date'].dt.month\n",
    "df.head()\n",
    "\n",
    "def events_sales(x):\n",
    "    if x['Events'] == 1:\n",
    "        x['Sales2'] = x['Sales'] * 0.8\n",
    "    else:\n",
    "        x['Sales2'] = x['Sales']\n",
    "    return x\n",
    "\n",
    "df = df.apply(lambda x:events_sales(x), axis = 1)\n",
    "\n",
    "df.head()\n",
    "\n",
    "cond1 = df['year'] == 2022\n",
    "cond2 = df['year'] == 2023\n",
    "\n",
    "df1 = df[cond1].groupby('month')['Sales2'].sum().max()\n",
    "df2 = df[cond2].groupby('month')['Sales2'].sum().max()\n",
    "\n",
    "print(df1, df2)\n",
    "\n",
    "print(round(abs(df1 - df2), 0)) # 42473436.0"
   ]
  },
  {
   "cell_type": "code",
   "execution_count": 2,
   "id": "578e54c9",
   "metadata": {
    "_cell_guid": "b1076dfc-b9ad-4769-8c92-a6c4dae69d19",
    "_uuid": "8f2839f25d086af736a60e9eeb907d3b93b6e0e5",
    "execution": {
     "iopub.execute_input": "2025-06-20T10:02:51.808246Z",
     "iopub.status.busy": "2025-06-20T10:02:51.807188Z",
     "iopub.status.idle": "2025-06-20T10:02:51.810772Z",
     "shell.execute_reply": "2025-06-20T10:02:51.810063Z",
     "shell.execute_reply.started": "2025-06-20T09:54:01.602878Z"
    },
    "papermill": {
     "duration": 0.017527,
     "end_time": "2025-06-20T10:02:51.810970",
     "exception": false,
     "start_time": "2025-06-20T10:02:51.793443",
     "status": "completed"
    },
    "tags": []
   },
   "outputs": [],
   "source": [
    "# 라이브러리 불러오기\n",
    "import pandas as pd"
   ]
  },
  {
   "cell_type": "code",
   "execution_count": 3,
   "id": "43d078f2",
   "metadata": {
    "execution": {
     "iopub.execute_input": "2025-06-20T10:02:51.835967Z",
     "iopub.status.busy": "2025-06-20T10:02:51.835245Z",
     "iopub.status.idle": "2025-06-20T10:02:51.843087Z",
     "shell.execute_reply": "2025-06-20T10:02:51.843560Z",
     "shell.execute_reply.started": "2025-06-20T09:54:01.610454Z"
    },
    "papermill": {
     "duration": 0.021692,
     "end_time": "2025-06-20T10:02:51.843779",
     "exception": false,
     "start_time": "2025-06-20T10:02:51.822087",
     "status": "completed"
    },
    "tags": []
   },
   "outputs": [],
   "source": [
    "# 데이터 불러오기 (datatime컬럼 지정)\n",
    "df = pd.read_csv(\"../input/bigdatacertificationkr/basic2.csv\", \n",
    "                 parse_dates=['Date'])"
   ]
  },
  {
   "cell_type": "code",
   "execution_count": 4,
   "id": "c3421f41",
   "metadata": {
    "execution": {
     "iopub.execute_input": "2025-06-20T10:02:51.875123Z",
     "iopub.status.busy": "2025-06-20T10:02:51.874347Z",
     "iopub.status.idle": "2025-06-20T10:02:51.877655Z",
     "shell.execute_reply": "2025-06-20T10:02:51.878214Z",
     "shell.execute_reply.started": "2025-06-20T09:54:01.632691Z"
    },
    "papermill": {
     "duration": 0.026197,
     "end_time": "2025-06-20T10:02:51.878439",
     "exception": false,
     "start_time": "2025-06-20T10:02:51.852242",
     "status": "completed"
    },
    "tags": []
   },
   "outputs": [
    {
     "name": "stdout",
     "output_type": "stream",
     "text": [
      "<class 'pandas.core.frame.DataFrame'>\n",
      "RangeIndex: 730 entries, 0 to 729\n",
      "Data columns (total 5 columns):\n",
      " #   Column  Non-Null Count  Dtype         \n",
      "---  ------  --------------  -----         \n",
      " 0   Date    730 non-null    datetime64[ns]\n",
      " 1   Sales   730 non-null    int64         \n",
      " 2   PV      730 non-null    int64         \n",
      " 3   UV      684 non-null    float64       \n",
      " 4   Events  730 non-null    int64         \n",
      "dtypes: datetime64[ns](1), float64(1), int64(3)\n",
      "memory usage: 28.6 KB\n"
     ]
    }
   ],
   "source": [
    "df.head()\n",
    "df.info()"
   ]
  },
  {
   "cell_type": "code",
   "execution_count": 5,
   "id": "34b3c6d7",
   "metadata": {
    "execution": {
     "iopub.execute_input": "2025-06-20T10:02:51.903827Z",
     "iopub.status.busy": "2025-06-20T10:02:51.903108Z",
     "iopub.status.idle": "2025-06-20T10:02:51.925252Z",
     "shell.execute_reply": "2025-06-20T10:02:51.924671Z",
     "shell.execute_reply.started": "2025-06-20T09:54:01.653903Z"
    },
    "papermill": {
     "duration": 0.038523,
     "end_time": "2025-06-20T10:02:51.925397",
     "exception": false,
     "start_time": "2025-06-20T10:02:51.886874",
     "status": "completed"
    },
    "tags": []
   },
   "outputs": [
    {
     "data": {
      "text/html": [
       "<div>\n",
       "<style scoped>\n",
       "    .dataframe tbody tr th:only-of-type {\n",
       "        vertical-align: middle;\n",
       "    }\n",
       "\n",
       "    .dataframe tbody tr th {\n",
       "        vertical-align: top;\n",
       "    }\n",
       "\n",
       "    .dataframe thead th {\n",
       "        text-align: right;\n",
       "    }\n",
       "</style>\n",
       "<table border=\"1\" class=\"dataframe\">\n",
       "  <thead>\n",
       "    <tr style=\"text-align: right;\">\n",
       "      <th></th>\n",
       "      <th>Date</th>\n",
       "      <th>Sales</th>\n",
       "      <th>PV</th>\n",
       "      <th>UV</th>\n",
       "      <th>Events</th>\n",
       "      <th>year</th>\n",
       "      <th>month</th>\n",
       "      <th>day</th>\n",
       "    </tr>\n",
       "  </thead>\n",
       "  <tbody>\n",
       "    <tr>\n",
       "      <th>0</th>\n",
       "      <td>2022-01-01</td>\n",
       "      <td>22711525</td>\n",
       "      <td>397349</td>\n",
       "      <td>4421.0</td>\n",
       "      <td>1</td>\n",
       "      <td>2022</td>\n",
       "      <td>1</td>\n",
       "      <td>1</td>\n",
       "    </tr>\n",
       "    <tr>\n",
       "      <th>1</th>\n",
       "      <td>2022-01-02</td>\n",
       "      <td>36779</td>\n",
       "      <td>3969</td>\n",
       "      <td>2289.0</td>\n",
       "      <td>0</td>\n",
       "      <td>2022</td>\n",
       "      <td>1</td>\n",
       "      <td>2</td>\n",
       "    </tr>\n",
       "    <tr>\n",
       "      <th>2</th>\n",
       "      <td>2022-01-03</td>\n",
       "      <td>13943875</td>\n",
       "      <td>373890</td>\n",
       "      <td>NaN</td>\n",
       "      <td>1</td>\n",
       "      <td>2022</td>\n",
       "      <td>1</td>\n",
       "      <td>3</td>\n",
       "    </tr>\n",
       "    <tr>\n",
       "      <th>3</th>\n",
       "      <td>2022-01-04</td>\n",
       "      <td>8088593</td>\n",
       "      <td>142054</td>\n",
       "      <td>2157.0</td>\n",
       "      <td>0</td>\n",
       "      <td>2022</td>\n",
       "      <td>1</td>\n",
       "      <td>4</td>\n",
       "    </tr>\n",
       "    <tr>\n",
       "      <th>4</th>\n",
       "      <td>2022-01-05</td>\n",
       "      <td>2395374</td>\n",
       "      <td>190684</td>\n",
       "      <td>NaN</td>\n",
       "      <td>0</td>\n",
       "      <td>2022</td>\n",
       "      <td>1</td>\n",
       "      <td>5</td>\n",
       "    </tr>\n",
       "  </tbody>\n",
       "</table>\n",
       "</div>"
      ],
      "text/plain": [
       "        Date     Sales      PV      UV  Events  year  month  day\n",
       "0 2022-01-01  22711525  397349  4421.0       1  2022      1    1\n",
       "1 2022-01-02     36779    3969  2289.0       0  2022      1    2\n",
       "2 2022-01-03  13943875  373890     NaN       1  2022      1    3\n",
       "3 2022-01-04   8088593  142054  2157.0       0  2022      1    4\n",
       "4 2022-01-05   2395374  190684     NaN       0  2022      1    5"
      ]
     },
     "execution_count": 5,
     "metadata": {},
     "output_type": "execute_result"
    }
   ],
   "source": [
    "# 날짜 컬럼 생성\n",
    "\n",
    "df['year'] = df['Date'].dt.year\n",
    "df['month'] = df['Date'].dt.month\n",
    "df['day'] = df['Date'].dt.day\n",
    "df.head()"
   ]
  },
  {
   "cell_type": "code",
   "execution_count": 6,
   "id": "1684a222",
   "metadata": {
    "execution": {
     "iopub.execute_input": "2025-06-20T10:02:51.962949Z",
     "iopub.status.busy": "2025-06-20T10:02:51.948821Z",
     "iopub.status.idle": "2025-06-20T10:02:52.400959Z",
     "shell.execute_reply": "2025-06-20T10:02:52.400393Z",
     "shell.execute_reply.started": "2025-06-20T09:54:01.686241Z"
    },
    "papermill": {
     "duration": 0.467055,
     "end_time": "2025-06-20T10:02:52.401141",
     "exception": false,
     "start_time": "2025-06-20T10:02:51.934086",
     "status": "completed"
    },
    "tags": []
   },
   "outputs": [
    {
     "data": {
      "text/html": [
       "<div>\n",
       "<style scoped>\n",
       "    .dataframe tbody tr th:only-of-type {\n",
       "        vertical-align: middle;\n",
       "    }\n",
       "\n",
       "    .dataframe tbody tr th {\n",
       "        vertical-align: top;\n",
       "    }\n",
       "\n",
       "    .dataframe thead th {\n",
       "        text-align: right;\n",
       "    }\n",
       "</style>\n",
       "<table border=\"1\" class=\"dataframe\">\n",
       "  <thead>\n",
       "    <tr style=\"text-align: right;\">\n",
       "      <th></th>\n",
       "      <th>Date</th>\n",
       "      <th>Sales</th>\n",
       "      <th>PV</th>\n",
       "      <th>UV</th>\n",
       "      <th>Events</th>\n",
       "      <th>year</th>\n",
       "      <th>month</th>\n",
       "      <th>day</th>\n",
       "      <th>Sales2</th>\n",
       "    </tr>\n",
       "  </thead>\n",
       "  <tbody>\n",
       "    <tr>\n",
       "      <th>0</th>\n",
       "      <td>2022-01-01</td>\n",
       "      <td>22711525</td>\n",
       "      <td>397349</td>\n",
       "      <td>4421.0</td>\n",
       "      <td>1</td>\n",
       "      <td>2022</td>\n",
       "      <td>1</td>\n",
       "      <td>1</td>\n",
       "      <td>18169220.0</td>\n",
       "    </tr>\n",
       "    <tr>\n",
       "      <th>1</th>\n",
       "      <td>2022-01-02</td>\n",
       "      <td>36779</td>\n",
       "      <td>3969</td>\n",
       "      <td>2289.0</td>\n",
       "      <td>0</td>\n",
       "      <td>2022</td>\n",
       "      <td>1</td>\n",
       "      <td>2</td>\n",
       "      <td>36779.0</td>\n",
       "    </tr>\n",
       "    <tr>\n",
       "      <th>2</th>\n",
       "      <td>2022-01-03</td>\n",
       "      <td>13943875</td>\n",
       "      <td>373890</td>\n",
       "      <td>NaN</td>\n",
       "      <td>1</td>\n",
       "      <td>2022</td>\n",
       "      <td>1</td>\n",
       "      <td>3</td>\n",
       "      <td>11155100.0</td>\n",
       "    </tr>\n",
       "    <tr>\n",
       "      <th>3</th>\n",
       "      <td>2022-01-04</td>\n",
       "      <td>8088593</td>\n",
       "      <td>142054</td>\n",
       "      <td>2157.0</td>\n",
       "      <td>0</td>\n",
       "      <td>2022</td>\n",
       "      <td>1</td>\n",
       "      <td>4</td>\n",
       "      <td>8088593.0</td>\n",
       "    </tr>\n",
       "    <tr>\n",
       "      <th>4</th>\n",
       "      <td>2022-01-05</td>\n",
       "      <td>2395374</td>\n",
       "      <td>190684</td>\n",
       "      <td>NaN</td>\n",
       "      <td>0</td>\n",
       "      <td>2022</td>\n",
       "      <td>1</td>\n",
       "      <td>5</td>\n",
       "      <td>2395374.0</td>\n",
       "    </tr>\n",
       "  </tbody>\n",
       "</table>\n",
       "</div>"
      ],
      "text/plain": [
       "        Date     Sales      PV      UV  Events  year  month  day      Sales2\n",
       "0 2022-01-01  22711525  397349  4421.0       1  2022      1    1  18169220.0\n",
       "1 2022-01-02     36779    3969  2289.0       0  2022      1    2     36779.0\n",
       "2 2022-01-03  13943875  373890     NaN       1  2022      1    3  11155100.0\n",
       "3 2022-01-04   8088593  142054  2157.0       0  2022      1    4   8088593.0\n",
       "4 2022-01-05   2395374  190684     NaN       0  2022      1    5   2395374.0"
      ]
     },
     "execution_count": 6,
     "metadata": {},
     "output_type": "execute_result"
    }
   ],
   "source": [
    "# 이벤트가 1인 sales값은 80%만 반영\n",
    "\n",
    "def event_sales(x):\n",
    "    if x['Events'] == 1:\n",
    "        x['Sales2'] = x['Sales']*0.8\n",
    "    else:\n",
    "        x['Sales2'] = x['Sales']\n",
    "    return x\n",
    "\n",
    "\n",
    "df = df.apply(lambda x: event_sales(x), axis=1) #1일 경우 row, 0일 경우 컬럼\n",
    "df.head()"
   ]
  },
  {
   "cell_type": "code",
   "execution_count": 7,
   "id": "74047cce",
   "metadata": {
    "execution": {
     "iopub.execute_input": "2025-06-20T10:02:52.432489Z",
     "iopub.status.busy": "2025-06-20T10:02:52.428892Z",
     "iopub.status.idle": "2025-06-20T10:02:52.436786Z",
     "shell.execute_reply": "2025-06-20T10:02:52.437352Z",
     "shell.execute_reply.started": "2025-06-20T09:54:02.316150Z"
    },
    "papermill": {
     "duration": 0.026058,
     "end_time": "2025-06-20T10:02:52.437572",
     "exception": false,
     "start_time": "2025-06-20T10:02:52.411514",
     "status": "completed"
    },
    "tags": []
   },
   "outputs": [
    {
     "data": {
      "text/plain": [
       "197145878.0"
      ]
     },
     "execution_count": 7,
     "metadata": {},
     "output_type": "execute_result"
    }
   ],
   "source": [
    "# 2022년 월별 합계 중 가장 큰 값\n",
    "cond = df['year'] == 2022\n",
    "df1 = df[cond]\n",
    "sale1 = df1.groupby('month')['Sales2'].sum().max()\n",
    "sale1"
   ]
  },
  {
   "cell_type": "code",
   "execution_count": 8,
   "id": "83b44111",
   "metadata": {
    "execution": {
     "iopub.execute_input": "2025-06-20T10:02:52.467476Z",
     "iopub.status.busy": "2025-06-20T10:02:52.466376Z",
     "iopub.status.idle": "2025-06-20T10:02:52.470550Z",
     "shell.execute_reply": "2025-06-20T10:02:52.469893Z",
     "shell.execute_reply.started": "2025-06-20T09:54:02.331072Z"
    },
    "papermill": {
     "duration": 0.023342,
     "end_time": "2025-06-20T10:02:52.470704",
     "exception": false,
     "start_time": "2025-06-20T10:02:52.447362",
     "status": "completed"
    },
    "tags": []
   },
   "outputs": [
    {
     "data": {
      "text/plain": [
       "239619313.8"
      ]
     },
     "execution_count": 8,
     "metadata": {},
     "output_type": "execute_result"
    }
   ],
   "source": [
    "# 2023년 월별 합계 중 가장 큰 값\n",
    "cond = df['year'] == 2023\n",
    "df2 = df[cond]\n",
    "sale2 = df2.groupby('month')['Sales2'].sum().max()\n",
    "sale2"
   ]
  },
  {
   "cell_type": "code",
   "execution_count": 9,
   "id": "d1cc48fd",
   "metadata": {
    "execution": {
     "iopub.execute_input": "2025-06-20T10:02:52.497406Z",
     "iopub.status.busy": "2025-06-20T10:02:52.496208Z",
     "iopub.status.idle": "2025-06-20T10:02:52.500831Z",
     "shell.execute_reply": "2025-06-20T10:02:52.500185Z",
     "shell.execute_reply.started": "2025-06-20T09:54:02.347412Z"
    },
    "papermill": {
     "duration": 0.020326,
     "end_time": "2025-06-20T10:02:52.501022",
     "exception": false,
     "start_time": "2025-06-20T10:02:52.480696",
     "status": "completed"
    },
    "tags": []
   },
   "outputs": [
    {
     "data": {
      "text/plain": [
       "42473436"
      ]
     },
     "execution_count": 9,
     "metadata": {},
     "output_type": "execute_result"
    }
   ],
   "source": [
    "# 결과값 반올림 후 정수 출력\n",
    "int(round(abs(sale1 - sale2),0)) # 42473436"
   ]
  }
 ],
 "metadata": {
  "kaggle": {
   "accelerator": "none",
   "dataSources": [
    {
     "datasetId": 1633303,
     "sourceId": 12211878,
     "sourceType": "datasetVersion"
    }
   ],
   "dockerImageVersionId": 30145,
   "isGpuEnabled": false,
   "isInternetEnabled": false,
   "language": "python",
   "sourceType": "notebook"
  },
  "kernelspec": {
   "display_name": "Python 3",
   "language": "python",
   "name": "python3"
  },
  "language_info": {
   "codemirror_mode": {
    "name": "ipython",
    "version": 3
   },
   "file_extension": ".py",
   "mimetype": "text/x-python",
   "name": "python",
   "nbconvert_exporter": "python",
   "pygments_lexer": "ipython3",
   "version": "3.7.10"
  },
  "papermill": {
   "default_parameters": {},
   "duration": 11.391946,
   "end_time": "2025-06-20T10:02:53.123771",
   "environment_variables": {},
   "exception": null,
   "input_path": "__notebook__.ipynb",
   "output_path": "__notebook__.ipynb",
   "parameters": {},
   "start_time": "2025-06-20T10:02:41.731825",
   "version": "2.3.3"
  }
 },
 "nbformat": 4,
 "nbformat_minor": 5
}
