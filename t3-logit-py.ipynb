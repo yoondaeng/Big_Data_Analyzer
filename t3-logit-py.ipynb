{
 "cells": [
  {
   "cell_type": "markdown",
   "id": "73ce22cb",
   "metadata": {
    "papermill": {
     "duration": 0.005341,
     "end_time": "2025-06-20T16:18:57.804544",
     "exception": false,
     "start_time": "2025-06-20T16:18:57.799203",
     "status": "completed"
    },
    "tags": []
   },
   "source": [
    "고객 정보를 나타낸 데이터이다. 주어진 데이터에서 500개 중 앞에서부터 350개는 train으로, 150개는 test 데이터로 나눈다. 모델을 학습(적합)할 때는 train 데이터를 사용하고, 예측할 때는 test 데이터를 사용한다. 모델은 로지스틱 회귀를 써서 고객이 특정 제품을 구매할지 여부를 예측하되, 페널티는 부과하지 않는다.\n",
    "\n",
    "종속변수: purchase (0: 구매 안 함, 1: 구매 함)\n",
    "\n",
    "- 문제 1-1. income 변수를 독립변수로 purchase를 종속변수로 사용하여 로지스틱 회귀 모형을 만들고, income 변수가 한 단위 증가할 때 구매할 오즈비 값을 계산하시오. (반올림하여 소수 넷째자리까지 계산)\n",
    "\n",
    "- 문제 1-2. 독립변수 income만 사용해 학습한 모델에서 test 데이터의 purchase를 예측하고, accuracy (정확도)를 구하시오. (반올림하여 소수 셋째자리까지 계산)\n",
    "\n",
    "- 문제 1-3. 독립변수 income만 사용해 학습한 모델의 로짓 우도를 계산하시오.\n",
    "\n",
    "- 문제 1-4. 독립변수 income만 사용해 학습한 모델의 유의확률(p-value)를 구하시오."
   ]
  },
  {
   "cell_type": "code",
   "execution_count": 1,
   "id": "eba90f2e",
   "metadata": {
    "_cell_guid": "b1076dfc-b9ad-4769-8c92-a6c4dae69d19",
    "_uuid": "8f2839f25d086af736a60e9eeb907d3b93b6e0e5",
    "execution": {
     "iopub.execute_input": "2025-06-20T16:18:57.815956Z",
     "iopub.status.busy": "2025-06-20T16:18:57.815511Z",
     "iopub.status.idle": "2025-06-20T16:18:59.184923Z",
     "shell.execute_reply": "2025-06-20T16:18:59.183888Z"
    },
    "papermill": {
     "duration": 1.378194,
     "end_time": "2025-06-20T16:18:59.187692",
     "exception": false,
     "start_time": "2025-06-20T16:18:57.809498",
     "status": "completed"
    },
    "tags": []
   },
   "outputs": [],
   "source": [
    "import pandas as pd\n",
    "import numpy as np\n",
    "df = pd.read_csv(\"/kaggle/input/bigdatacertificationkr/Customer_Data.csv\")"
   ]
  },
  {
   "cell_type": "code",
   "execution_count": 2,
   "id": "f903c491",
   "metadata": {
    "execution": {
     "iopub.execute_input": "2025-06-20T16:18:59.197519Z",
     "iopub.status.busy": "2025-06-20T16:18:59.197079Z",
     "iopub.status.idle": "2025-06-20T16:18:59.221815Z",
     "shell.execute_reply": "2025-06-20T16:18:59.220667Z"
    },
    "papermill": {
     "duration": 0.03223,
     "end_time": "2025-06-20T16:18:59.224170",
     "exception": false,
     "start_time": "2025-06-20T16:18:59.191940",
     "status": "completed"
    },
    "tags": []
   },
   "outputs": [
    {
     "data": {
      "text/html": [
       "<div>\n",
       "<style scoped>\n",
       "    .dataframe tbody tr th:only-of-type {\n",
       "        vertical-align: middle;\n",
       "    }\n",
       "\n",
       "    .dataframe tbody tr th {\n",
       "        vertical-align: top;\n",
       "    }\n",
       "\n",
       "    .dataframe thead th {\n",
       "        text-align: right;\n",
       "    }\n",
       "</style>\n",
       "<table border=\"1\" class=\"dataframe\">\n",
       "  <thead>\n",
       "    <tr style=\"text-align: right;\">\n",
       "      <th></th>\n",
       "      <th>age</th>\n",
       "      <th>income</th>\n",
       "      <th>marital_status</th>\n",
       "      <th>children</th>\n",
       "      <th>gender</th>\n",
       "      <th>purchase</th>\n",
       "    </tr>\n",
       "  </thead>\n",
       "  <tbody>\n",
       "    <tr>\n",
       "      <th>0</th>\n",
       "      <td>62</td>\n",
       "      <td>111980</td>\n",
       "      <td>1</td>\n",
       "      <td>2</td>\n",
       "      <td>1</td>\n",
       "      <td>0</td>\n",
       "    </tr>\n",
       "    <tr>\n",
       "      <th>1</th>\n",
       "      <td>65</td>\n",
       "      <td>107314</td>\n",
       "      <td>0</td>\n",
       "      <td>3</td>\n",
       "      <td>1</td>\n",
       "      <td>0</td>\n",
       "    </tr>\n",
       "    <tr>\n",
       "      <th>2</th>\n",
       "      <td>18</td>\n",
       "      <td>56209</td>\n",
       "      <td>1</td>\n",
       "      <td>1</td>\n",
       "      <td>1</td>\n",
       "      <td>1</td>\n",
       "    </tr>\n",
       "    <tr>\n",
       "      <th>3</th>\n",
       "      <td>21</td>\n",
       "      <td>28010</td>\n",
       "      <td>1</td>\n",
       "      <td>3</td>\n",
       "      <td>0</td>\n",
       "      <td>1</td>\n",
       "    </tr>\n",
       "    <tr>\n",
       "      <th>4</th>\n",
       "      <td>21</td>\n",
       "      <td>79618</td>\n",
       "      <td>0</td>\n",
       "      <td>2</td>\n",
       "      <td>0</td>\n",
       "      <td>1</td>\n",
       "    </tr>\n",
       "  </tbody>\n",
       "</table>\n",
       "</div>"
      ],
      "text/plain": [
       "   age  income  marital_status  children  gender  purchase\n",
       "0   62  111980               1         2       1         0\n",
       "1   65  107314               0         3       1         0\n",
       "2   18   56209               1         1       1         1\n",
       "3   21   28010               1         3       0         1\n",
       "4   21   79618               0         2       0         1"
      ]
     },
     "execution_count": 2,
     "metadata": {},
     "output_type": "execute_result"
    }
   ],
   "source": [
    "df.head()\n",
    "# print(df.info())"
   ]
  },
  {
   "cell_type": "markdown",
   "id": "dc667bc6",
   "metadata": {
    "papermill": {
     "duration": 0.003854,
     "end_time": "2025-06-20T16:18:59.232640",
     "exception": false,
     "start_time": "2025-06-20T16:18:59.228786",
     "status": "completed"
    },
    "tags": []
   },
   "source": [
    "문제 1-1. income 변수를 독립변수로 purchase를 종속변수로 사용하여 로지스틱 회귀 모형을 만들고, income 변수가 한 단위 증가할 때 구매할 오즈비 값을 계산하시오. (반올림하여 소수 넷째자리까지 계산)"
   ]
  },
  {
   "cell_type": "code",
   "execution_count": 3,
   "id": "1dc957ed",
   "metadata": {
    "execution": {
     "iopub.execute_input": "2025-06-20T16:18:59.242443Z",
     "iopub.status.busy": "2025-06-20T16:18:59.242111Z",
     "iopub.status.idle": "2025-06-20T16:19:01.204048Z",
     "shell.execute_reply": "2025-06-20T16:19:01.202582Z"
    },
    "papermill": {
     "duration": 1.971367,
     "end_time": "2025-06-20T16:19:01.208168",
     "exception": false,
     "start_time": "2025-06-20T16:18:59.236801",
     "status": "completed"
    },
    "tags": []
   },
   "outputs": [
    {
     "name": "stdout",
     "output_type": "stream",
     "text": [
      "Optimization terminated successfully.\n",
      "         Current function value: 0.692599\n",
      "         Iterations 3\n"
     ]
    }
   ],
   "source": [
    "train = df[:350]\n",
    "test = df[350:]\n",
    "\n",
    "from statsmodels.formula.api import logit\n",
    "# print(dir(statsmodels.formula.api))\n",
    "model_income = logit(\"purchase ~ income\", data=train)\n",
    "# print(help(logit))\n",
    "result_income = model_income.fit()\n",
    "\n",
    "# 오즈비 계산 np.exp(model.params)\n",
    "odds_ratio_income = np.exp(result_income.params['income'])\n",
    "# print(dir(result_income))"
   ]
  },
  {
   "cell_type": "markdown",
   "id": "75191fb9",
   "metadata": {
    "papermill": {
     "duration": 0.008749,
     "end_time": "2025-06-20T16:19:01.228836",
     "exception": false,
     "start_time": "2025-06-20T16:19:01.220087",
     "status": "completed"
    },
    "tags": []
   },
   "source": [
    "문제 1-2. 독립변수 income만 사용해 학습한 모델에서 test 데이터의 purchase를 예측하고, accuracy (정확도)를 구하시오. (반올림하여 소수 셋째자리까지 계산)\n"
   ]
  },
  {
   "cell_type": "markdown",
   "id": "8abcaf7c",
   "metadata": {
    "papermill": {
     "duration": 0.00407,
     "end_time": "2025-06-20T16:19:01.237329",
     "exception": false,
     "start_time": "2025-06-20T16:19:01.233259",
     "status": "completed"
    },
    "tags": []
   },
   "source": [
    "astype(int)는 예측 결과를 이진 분류(0 또는 1)로 바꾸기 위해 사용함\n",
    "\n",
    "이걸 이진 분류로 바꾸는 방법\n",
    "\n",
    "확률이 아니라 클래스(0 또는 1) 로 예측 그래서 다음과 같이 조건문 사용\n",
    "\n",
    "```python\n",
    "\n",
    "predicted_classes_income = (predictions_income > 0.5)\n",
    "\n",
    "```\n",
    "\n",
    "이렇게 하면 결과는 True / False 로 나와요\n",
    "\n",
    "```python\n",
    "\n",
    "[True, False, True, False, True, ...]\n",
    "\n",
    "```"
   ]
  },
  {
   "cell_type": "code",
   "execution_count": 4,
   "id": "c6cafff6",
   "metadata": {
    "execution": {
     "iopub.execute_input": "2025-06-20T16:19:01.248420Z",
     "iopub.status.busy": "2025-06-20T16:19:01.247733Z",
     "iopub.status.idle": "2025-06-20T16:19:01.259954Z",
     "shell.execute_reply": "2025-06-20T16:19:01.258356Z"
    },
    "papermill": {
     "duration": 0.022708,
     "end_time": "2025-06-20T16:19:01.264556",
     "exception": false,
     "start_time": "2025-06-20T16:19:01.241848",
     "status": "completed"
    },
    "tags": []
   },
   "outputs": [
    {
     "name": "stdout",
     "output_type": "stream",
     "text": [
      "0.507\n"
     ]
    }
   ],
   "source": [
    "predictions_income = result_income.predict(test)\n",
    "predicted_classes_income = (predictions_income > 0.5).astype(int)\n",
    "# 0.5 이상이면 1 구매\n",
    "\n",
    "# 정확도 계산\n",
    "accuracy_income = (predicted_classes_income == test['purchase']).mean()\n",
    "\n",
    "print(round(accuracy_income, 3)) # 0.507"
   ]
  },
  {
   "cell_type": "code",
   "execution_count": 5,
   "id": "0452cb22",
   "metadata": {
    "execution": {
     "iopub.execute_input": "2025-06-20T16:19:01.285119Z",
     "iopub.status.busy": "2025-06-20T16:19:01.284742Z",
     "iopub.status.idle": "2025-06-20T16:19:01.801974Z",
     "shell.execute_reply": "2025-06-20T16:19:01.800790Z"
    },
    "papermill": {
     "duration": 0.528085,
     "end_time": "2025-06-20T16:19:01.804275",
     "exception": false,
     "start_time": "2025-06-20T16:19:01.276190",
     "status": "completed"
    },
    "tags": []
   },
   "outputs": [
    {
     "data": {
      "text/plain": [
       "0.5066666666666667"
      ]
     },
     "execution_count": 5,
     "metadata": {},
     "output_type": "execute_result"
    }
   ],
   "source": [
    "from sklearn.metrics import accuracy_score\n",
    "# print(dir(sklearn.metrics))\n",
    "# print(help(accuracy_score))\n",
    "\n",
    "accuracy_score(test['purchase'], predicted_classes_income)"
   ]
  },
  {
   "cell_type": "markdown",
   "id": "a5e6cd93",
   "metadata": {
    "papermill": {
     "duration": 0.004131,
     "end_time": "2025-06-20T16:19:01.813027",
     "exception": false,
     "start_time": "2025-06-20T16:19:01.808896",
     "status": "completed"
    },
    "tags": []
   },
   "source": [
    "문제 1-3. 독립변수 income만 사용해 학습한 모델의 로짓 우도를 계산하시오.\n"
   ]
  },
  {
   "cell_type": "code",
   "execution_count": 6,
   "id": "d67ff0a2",
   "metadata": {
    "execution": {
     "iopub.execute_input": "2025-06-20T16:19:01.823681Z",
     "iopub.status.busy": "2025-06-20T16:19:01.823287Z",
     "iopub.status.idle": "2025-06-20T16:19:01.828904Z",
     "shell.execute_reply": "2025-06-20T16:19:01.827734Z"
    },
    "papermill": {
     "duration": 0.014396,
     "end_time": "2025-06-20T16:19:01.831919",
     "exception": false,
     "start_time": "2025-06-20T16:19:01.817523",
     "status": "completed"
    },
    "tags": []
   },
   "outputs": [
    {
     "name": "stdout",
     "output_type": "stream",
     "text": [
      "-242.40981957168498\n"
     ]
    }
   ],
   "source": [
    "log_likelihood_income = result_income.llf\n",
    "# print(dir(result_income))\n",
    "print(log_likelihood_income)"
   ]
  },
  {
   "cell_type": "markdown",
   "id": "94b4b082",
   "metadata": {
    "papermill": {
     "duration": 0.004759,
     "end_time": "2025-06-20T16:19:01.841659",
     "exception": false,
     "start_time": "2025-06-20T16:19:01.836900",
     "status": "completed"
    },
    "tags": []
   },
   "source": [
    "문제 1-4. 독립변수 income만 사용해 학습한 모델의 유의확률(p-value)를 구하시오."
   ]
  },
  {
   "cell_type": "code",
   "execution_count": 7,
   "id": "dd61c626",
   "metadata": {
    "execution": {
     "iopub.execute_input": "2025-06-20T16:19:01.853102Z",
     "iopub.status.busy": "2025-06-20T16:19:01.852769Z",
     "iopub.status.idle": "2025-06-20T16:19:01.861221Z",
     "shell.execute_reply": "2025-06-20T16:19:01.859758Z"
    },
    "papermill": {
     "duration": 0.016889,
     "end_time": "2025-06-20T16:19:01.863488",
     "exception": false,
     "start_time": "2025-06-20T16:19:01.846599",
     "status": "completed"
    },
    "tags": []
   },
   "outputs": [
    {
     "data": {
      "text/plain": [
       "(1.0000019601805765,\n",
       " 0.5066666666666667,\n",
       " -242.40981957168498,\n",
       " 0.5964910811075119)"
      ]
     },
     "execution_count": 7,
     "metadata": {},
     "output_type": "execute_result"
    }
   ],
   "source": [
    "p_value_income = result_income.pvalues['income']\n",
    "\n",
    "odds_ratio_income, accuracy_income, log_likelihood_income, p_value_income"
   ]
  },
  {
   "cell_type": "code",
   "execution_count": null,
   "id": "a4da9578",
   "metadata": {
    "papermill": {
     "duration": 0.004249,
     "end_time": "2025-06-20T16:19:01.872306",
     "exception": false,
     "start_time": "2025-06-20T16:19:01.868057",
     "status": "completed"
    },
    "tags": []
   },
   "outputs": [],
   "source": []
  },
  {
   "cell_type": "code",
   "execution_count": null,
   "id": "20b0a178",
   "metadata": {
    "papermill": {
     "duration": 0.004205,
     "end_time": "2025-06-20T16:19:01.880989",
     "exception": false,
     "start_time": "2025-06-20T16:19:01.876784",
     "status": "completed"
    },
    "tags": []
   },
   "outputs": [],
   "source": []
  },
  {
   "cell_type": "code",
   "execution_count": null,
   "id": "7541e221",
   "metadata": {
    "papermill": {
     "duration": 0.004237,
     "end_time": "2025-06-20T16:19:01.890212",
     "exception": false,
     "start_time": "2025-06-20T16:19:01.885975",
     "status": "completed"
    },
    "tags": []
   },
   "outputs": [],
   "source": []
  },
  {
   "cell_type": "code",
   "execution_count": 8,
   "id": "aaa22c88",
   "metadata": {
    "execution": {
     "iopub.execute_input": "2025-06-20T16:19:01.900640Z",
     "iopub.status.busy": "2025-06-20T16:19:01.900236Z",
     "iopub.status.idle": "2025-06-20T16:19:01.927347Z",
     "shell.execute_reply": "2025-06-20T16:19:01.926005Z"
    },
    "papermill": {
     "duration": 0.037384,
     "end_time": "2025-06-20T16:19:01.931987",
     "exception": false,
     "start_time": "2025-06-20T16:19:01.894603",
     "status": "completed"
    },
    "tags": []
   },
   "outputs": [
    {
     "name": "stdout",
     "output_type": "stream",
     "text": [
      "Optimization terminated successfully.\n",
      "         Current function value: 0.692599\n",
      "         Iterations 3\n"
     ]
    },
    {
     "data": {
      "text/plain": [
       "(1.0000019601805765,\n",
       " 0.5066666666666667,\n",
       " -242.40981957168498,\n",
       " 0.5964910811075119)"
      ]
     },
     "execution_count": 8,
     "metadata": {},
     "output_type": "execute_result"
    }
   ],
   "source": [
    "import pandas as pd\n",
    "import numpy as np\n",
    "from statsmodels.formula.api import logit\n",
    "\n",
    "# 데이터셋 분할\n",
    "train = df.iloc[:350]\n",
    "test = df.iloc[350:]\n",
    "\n",
    "# 문제 1-1: income 변수를 독립변수로 purchase를 종속변수로 사용하여 로지스틱 회귀 모형을 만들고, income 변수가 한 단위 증가할 때 구매할 오즈비 값을 계산\n",
    "model_income = logit('purchase ~ income', data=train)\n",
    "result_income = model_income.fit()\n",
    "\n",
    "# 오즈비 계산\n",
    "odds_ratio_income= np.exp(result_income.params['income'])\n",
    "\n",
    "\n",
    "# 문제 1-2: 독립변수 income만 사용해 학습한 모델에서 test 데이터의 purchase를 예측하고, 정확도 계산\n",
    "predictions_income = result_income.predict(test)\n",
    "predicted_classes_income = (predictions_income > 0.5).astype(int)\n",
    "\n",
    "# 정확도 계산\n",
    "accuracy_income = (predicted_classes_income == test['purchase']).mean()\n",
    "\n",
    "# 문제 1-3: 독립변수 income만 사용해 학습한 모델의 로짓 우도 계산\n",
    "log_likelihood_income = result_income.llf\n",
    "\n",
    "# 문제 1-4: 독립변수 income만 사용해 학습한 모델의 유의확률(p-value) 계산\n",
    "p_value_income = result_income.pvalues['income']\n",
    "\n",
    "odds_ratio_income, accuracy_income, log_likelihood_income, p_value_income\n"
   ]
  },
  {
   "cell_type": "code",
   "execution_count": 9,
   "id": "642c0e35",
   "metadata": {
    "execution": {
     "iopub.execute_input": "2025-06-20T16:19:01.954423Z",
     "iopub.status.busy": "2025-06-20T16:19:01.953803Z",
     "iopub.status.idle": "2025-06-20T16:19:01.966499Z",
     "shell.execute_reply": "2025-06-20T16:19:01.965358Z"
    },
    "papermill": {
     "duration": 0.027861,
     "end_time": "2025-06-20T16:19:01.972918",
     "exception": false,
     "start_time": "2025-06-20T16:19:01.945057",
     "status": "completed"
    },
    "tags": []
   },
   "outputs": [
    {
     "data": {
      "text/plain": [
       "0.5066666666666667"
      ]
     },
     "execution_count": 9,
     "metadata": {},
     "output_type": "execute_result"
    }
   ],
   "source": [
    "# 정확도 사이킷런 활용\n",
    "from sklearn.metrics import accuracy_score\n",
    "accuracy_score(test['purchase'], predicted_classes_income)"
   ]
  },
  {
   "cell_type": "code",
   "execution_count": null,
   "id": "f69609fb",
   "metadata": {
    "papermill": {
     "duration": 0.004687,
     "end_time": "2025-06-20T16:19:01.990209",
     "exception": false,
     "start_time": "2025-06-20T16:19:01.985522",
     "status": "completed"
    },
    "tags": []
   },
   "outputs": [],
   "source": []
  }
 ],
 "metadata": {
  "kaggle": {
   "accelerator": "none",
   "dataSources": [
    {
     "datasetId": 1633303,
     "sourceId": 12211878,
     "sourceType": "datasetVersion"
    }
   ],
   "dockerImageVersionId": 30732,
   "isGpuEnabled": false,
   "isInternetEnabled": false,
   "language": "python",
   "sourceType": "notebook"
  },
  "kernelspec": {
   "display_name": "Python 3",
   "language": "python",
   "name": "python3"
  },
  "language_info": {
   "codemirror_mode": {
    "name": "ipython",
    "version": 3
   },
   "file_extension": ".py",
   "mimetype": "text/x-python",
   "name": "python",
   "nbconvert_exporter": "python",
   "pygments_lexer": "ipython3",
   "version": "3.10.13"
  },
  "papermill": {
   "default_parameters": {},
   "duration": 8.482945,
   "end_time": "2025-06-20T16:19:02.618654",
   "environment_variables": {},
   "exception": null,
   "input_path": "__notebook__.ipynb",
   "output_path": "__notebook__.ipynb",
   "parameters": {},
   "start_time": "2025-06-20T16:18:54.135709",
   "version": "2.5.0"
  }
 },
 "nbformat": 4,
 "nbformat_minor": 5
}
