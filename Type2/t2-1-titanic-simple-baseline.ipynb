{
 "cells": [
  {
   "attachments": {
    "de1920de-121e-47c3-a61f-e905386713bf.png": {
     "image/png": "[encoded data removed]"
    }
   },
   "cell_type": "markdown",
   "id": "71a72dec",
   "metadata": {
    "papermill": {
     "duration": 0.015015,
     "end_time": "2025-06-18T14:16:24.634425",
     "exception": false,
     "start_time": "2025-06-18T14:16:24.619410",
     "status": "completed"
    },
    "tags": []
   },
   "source": [
    "## 생존여부 예측모델 만들기\n",
    "### 학습용 데이터 (X_train, y_train)을 이용하여 생존 예측 모형을 만든 후, 이를 평가용 데이터(X_test)에 적용하여 얻은 예측값을 다음과 같은 형식의 CSV파일로 생성하시오(제출한 모델의 성능은 accuracy 평가지표에 따라 채점)\n",
    "\n",
    "(가) 제공 데이터 목록\n",
    "- y_train: 생존여부(학습용)\n",
    "- X_trian, X_test : 승객 정보 (학습용 및 평가용)\n",
    "\n",
    "(나) 데이터 형식 및 내용\n",
    "- y_trian (712명 데이터)\n",
    "\n",
    "**시험환경 세팅은 예시문제와 동일한 형태의 X_train, y_train, X_test 데이터를 만들기 위함임**\n",
    "\n",
    "### 유의사항\n",
    "- 성능이 우수한 예측모형을 구축하기 위해서는 적절한 데이터 전처리, 피처엔지니어링, 분류알고리즘, 하이퍼파라미터 튜닝, 모형 앙상블 등이 수반되어야 한다.\n",
    "- 수험번호.csv파일이 만들어지도록 코드를 제출한다.\n",
    "- 제출한 모델의 성능은 accuracy로 평가함\n",
    "\n",
    "csv 출력형태\n",
    "\n",
    "![image.png](attachment:de1920de-121e-47c3-a61f-e905386713bf.png)"
   ]
  },
  {
   "cell_type": "markdown",
   "id": "29d7b45f",
   "metadata": {
    "papermill": {
     "duration": 0.013973,
     "end_time": "2025-06-18T14:16:24.664985",
     "exception": false,
     "start_time": "2025-06-18T14:16:24.651012",
     "status": "completed"
    },
    "tags": []
   },
   "source": [
    "## [참고]작업형2 문구\n",
    "- 출력을 원하실 경우 print() 함수 활용\n",
    "- 예시) print(df.head())\n",
    "- getcwd(), chdir() 등 작업 폴더 설정 불필요\n",
    "- 파일 경로 상 내부 드라이브 경로(C: 등) 접근 불가\n",
    "\n",
    "### 데이터 파일 읽기 예제\n",
    "- import pandas as pd\n",
    "- X_test = pd.read_csv(\"data/X_test.csv\")\n",
    "- X_train = pd.read_csv(\"data/X_train.csv\")\n",
    "- y_train = pd.read_csv(\"data/y_train.csv\")\n",
    "\n",
    "### 사용자 코딩\n",
    "\n",
    "### 답안 제출 참고\n",
    "- 아래 코드 예측변수와 수험번호를 개인별로 변경하여 활용\n",
    "- pd.DataFrame({'cust_id': X_test.cust_id, 'gender': pred}).to_csv('003000000.csv', index=False)"
   ]
  },
  {
   "cell_type": "code",
   "execution_count": 1,
   "id": "51161adf",
   "metadata": {
    "execution": {
     "iopub.execute_input": "2025-06-18T14:16:24.705485Z",
     "iopub.status.busy": "2025-06-18T14:16:24.704823Z",
     "iopub.status.idle": "2025-06-18T14:16:25.829340Z",
     "shell.execute_reply": "2025-06-18T14:16:25.828525Z",
     "shell.execute_reply.started": "2025-06-18T13:56:43.785153Z"
    },
    "papermill": {
     "duration": 1.148647,
     "end_time": "2025-06-18T14:16:25.829510",
     "exception": false,
     "start_time": "2025-06-18T14:16:24.680863",
     "status": "completed"
    },
    "tags": []
   },
   "outputs": [
    {
     "data": {
      "text/plain": [
       "((712, 11), (179, 11), (712, 2), (179, 2))"
      ]
     },
     "execution_count": 1,
     "metadata": {},
     "output_type": "execute_result"
    }
   ],
   "source": [
    "# 시험환경 세팅 (코드 변경 X)\n",
    "import pandas as pd\n",
    "import numpy as np\n",
    "from sklearn.model_selection import train_test_split\n",
    "\n",
    "def exam_data_load(df, target, id_name=\"\", null_name=\"\"):\n",
    "    if id_name == \"\":\n",
    "        df = df.reset_index().rename(columns={\"index\": \"id\"})\n",
    "        id_name = 'id'\n",
    "    else:\n",
    "        id_name = id_name\n",
    "    \n",
    "    if null_name != \"\":\n",
    "        df[df == null_name] = np.nan\n",
    "    \n",
    "    X_train, X_test = train_test_split(df, test_size=0.2, random_state=2021)\n",
    "    \n",
    "    y_train = X_train[[id_name, target]]\n",
    "    X_train = X_train.drop(columns=[target])\n",
    "\n",
    "    \n",
    "    y_test = X_test[[id_name, target]]\n",
    "    X_test = X_test.drop(columns=[target])\n",
    "    return X_train, X_test, y_train, y_test \n",
    "    \n",
    "df = pd.read_csv(\"../input/titanic/train.csv\")\n",
    "X_train, X_test, y_train, y_test = exam_data_load(df, target='Survived', id_name='PassengerId')\n",
    "\n",
    "X_train.shape, X_test.shape, y_train.shape, y_test.shape"
   ]
  },
  {
   "cell_type": "markdown",
   "id": "966a8a31",
   "metadata": {
    "papermill": {
     "duration": 0.014576,
     "end_time": "2025-06-18T14:16:25.858327",
     "exception": false,
     "start_time": "2025-06-18T14:16:25.843751",
     "status": "completed"
    },
    "tags": []
   },
   "source": [
    "## Start"
   ]
  },
  {
   "cell_type": "code",
   "execution_count": 2,
   "id": "7e4668c3",
   "metadata": {
    "execution": {
     "iopub.execute_input": "2025-06-18T14:16:25.909419Z",
     "iopub.status.busy": "2025-06-18T14:16:25.908065Z",
     "iopub.status.idle": "2025-06-18T14:16:26.703022Z",
     "shell.execute_reply": "2025-06-18T14:16:26.702298Z",
     "shell.execute_reply.started": "2025-06-18T14:15:32.032812Z"
    },
    "papermill": {
     "duration": 0.830802,
     "end_time": "2025-06-18T14:16:26.703200",
     "exception": false,
     "start_time": "2025-06-18T14:16:25.872398",
     "status": "completed"
    },
    "tags": []
   },
   "outputs": [
    {
     "name": "stdout",
     "output_type": "stream",
     "text": [
      "     PassengerId  Survived\n",
      "0            211         0\n",
      "1            877         0\n",
      "2            667         0\n",
      "3            820         0\n",
      "4            737         0\n",
      "..           ...       ...\n",
      "174          495         0\n",
      "175          872         1\n",
      "176          531         1\n",
      "177          158         0\n",
      "178           46         0\n",
      "\n",
      "[179 rows x 2 columns]\n",
      "0.8356741573033708\n"
     ]
    }
   ],
   "source": [
    "import pandas as pd\n",
    "\n",
    "X_train.shape, y_train.shape, X_test.shape\n",
    "\n",
    "# X_train.head()\n",
    "# X_train.info()\n",
    "\n",
    "# y_train.info() # 0, 1 이진 분류\n",
    "# print(dir(y_train))\n",
    "\n",
    "y_train['Survived'].value_counts()\n",
    "\n",
    "# 데이터 전처리\n",
    "y = y_train['Survived']\n",
    "\n",
    "y_train.head()\n",
    "features = ['Pclass', 'Sex', 'SibSp', 'Parch']\n",
    "X = pd.get_dummies(X_train[features])\n",
    "test = pd.get_dummies(X_test[features])\n",
    "\n",
    "X.shape, test.shape # ((712, 5), (179, 5))\n",
    "\n",
    "# print(dir(pd))\n",
    "\n",
    "# 모델 및 평가\n",
    "# 생존 여부가 0, 1으로 나누어져서 RandomForestRegressor회귀가 아닌 RandomForestClassifier를 사용하는 거야?\n",
    "from sklearn.ensemble import RandomForestClassifier\n",
    "\n",
    "model = RandomForestClassifier(n_estimators = 200, max_depth=7, random_state=2025)\n",
    "model.fit(X, y)\n",
    "predictions = model.predict(test)\n",
    "\n",
    "# print(dir(sklearn.ensemble))\n",
    "# help(RandomForestClassifier)\n",
    "\n",
    "# print(dir(model))\n",
    "\n",
    "model.score(X, y)\n",
    "\n",
    "# 결과 저장\n",
    "output = pd.DataFrame({'PassengerId': X_test.PassengerId, 'Survived': predictions})\n",
    "output.head()\n",
    "output.to_csv('result.csv', index=False)\n",
    "\n",
    "# 생성 결과 확인\n",
    "result = pd.read_csv('result.csv')\n",
    "print(result)\n",
    "\n",
    "print(model.score(X, y)) # 0.8356741573033708 1에 가까울수록 성능 UP"
   ]
  },
  {
   "cell_type": "markdown",
   "id": "a9ad041c",
   "metadata": {
    "papermill": {
     "duration": 0.016455,
     "end_time": "2025-06-18T14:16:26.734631",
     "exception": false,
     "start_time": "2025-06-18T14:16:26.718176",
     "status": "completed"
    },
    "tags": []
   },
   "source": [
    "## 라이브러리 및 데이터 불러오기"
   ]
  },
  {
   "cell_type": "code",
   "execution_count": 3,
   "id": "ee0cd5df",
   "metadata": {
    "execution": {
     "iopub.execute_input": "2025-06-18T14:16:26.772188Z",
     "iopub.status.busy": "2025-06-18T14:16:26.771202Z",
     "iopub.status.idle": "2025-06-18T14:16:26.774504Z",
     "shell.execute_reply": "2025-06-18T14:16:26.773760Z",
     "shell.execute_reply.started": "2025-06-18T13:56:43.821542Z"
    },
    "papermill": {
     "duration": 0.024193,
     "end_time": "2025-06-18T14:16:26.774659",
     "exception": false,
     "start_time": "2025-06-18T14:16:26.750466",
     "status": "completed"
    },
    "tags": []
   },
   "outputs": [],
   "source": [
    "# 라이브러리 불러오기\n",
    "import pandas as pd"
   ]
  },
  {
   "cell_type": "code",
   "execution_count": 4,
   "id": "dad2d806",
   "metadata": {
    "execution": {
     "iopub.execute_input": "2025-06-18T14:16:26.810922Z",
     "iopub.status.busy": "2025-06-18T14:16:26.809814Z",
     "iopub.status.idle": "2025-06-18T14:16:26.813794Z",
     "shell.execute_reply": "2025-06-18T14:16:26.814421Z",
     "shell.execute_reply.started": "2025-06-18T13:56:43.837052Z"
    },
    "papermill": {
     "duration": 0.025705,
     "end_time": "2025-06-18T14:16:26.814621",
     "exception": false,
     "start_time": "2025-06-18T14:16:26.788916",
     "status": "completed"
    },
    "tags": []
   },
   "outputs": [
    {
     "data": {
      "text/plain": [
       "((712, 11), (712, 2), (179, 11))"
      ]
     },
     "execution_count": 4,
     "metadata": {},
     "output_type": "execute_result"
    }
   ],
   "source": [
    "# 데이터 불러오기 (생략)\n",
    "X_train.shape, y_train.shape, X_test.shape"
   ]
  },
  {
   "cell_type": "markdown",
   "id": "827f25be",
   "metadata": {
    "papermill": {
     "duration": 0.01528,
     "end_time": "2025-06-18T14:16:26.846614",
     "exception": false,
     "start_time": "2025-06-18T14:16:26.831334",
     "status": "completed"
    },
    "tags": []
   },
   "source": [
    "## EDA"
   ]
  },
  {
   "cell_type": "code",
   "execution_count": 5,
   "id": "69b9d4d5",
   "metadata": {
    "execution": {
     "iopub.execute_input": "2025-06-18T14:16:26.888148Z",
     "iopub.status.busy": "2025-06-18T14:16:26.887283Z",
     "iopub.status.idle": "2025-06-18T14:16:26.899975Z",
     "shell.execute_reply": "2025-06-18T14:16:26.899345Z",
     "shell.execute_reply.started": "2025-06-18T13:56:43.855870Z"
    },
    "papermill": {
     "duration": 0.038783,
     "end_time": "2025-06-18T14:16:26.900186",
     "exception": false,
     "start_time": "2025-06-18T14:16:26.861403",
     "status": "completed"
    },
    "tags": []
   },
   "outputs": [
    {
     "data": {
      "text/html": [
       "<div>\n",
       "<style scoped>\n",
       "    .dataframe tbody tr th:only-of-type {\n",
       "        vertical-align: middle;\n",
       "    }\n",
       "\n",
       "    .dataframe tbody tr th {\n",
       "        vertical-align: top;\n",
       "    }\n",
       "\n",
       "    .dataframe thead th {\n",
       "        text-align: right;\n",
       "    }\n",
       "</style>\n",
       "<table border=\"1\" class=\"dataframe\">\n",
       "  <thead>\n",
       "    <tr style=\"text-align: right;\">\n",
       "      <th></th>\n",
       "      <th>PassengerId</th>\n",
       "      <th>Pclass</th>\n",
       "      <th>Name</th>\n",
       "      <th>Sex</th>\n",
       "      <th>Age</th>\n",
       "      <th>SibSp</th>\n",
       "      <th>Parch</th>\n",
       "      <th>Ticket</th>\n",
       "      <th>Fare</th>\n",
       "      <th>Cabin</th>\n",
       "      <th>Embarked</th>\n",
       "    </tr>\n",
       "  </thead>\n",
       "  <tbody>\n",
       "    <tr>\n",
       "      <th>90</th>\n",
       "      <td>91</td>\n",
       "      <td>3</td>\n",
       "      <td>Christmann, Mr. Emil</td>\n",
       "      <td>male</td>\n",
       "      <td>29.0</td>\n",
       "      <td>0</td>\n",
       "      <td>0</td>\n",
       "      <td>343276</td>\n",
       "      <td>8.0500</td>\n",
       "      <td>NaN</td>\n",
       "      <td>S</td>\n",
       "    </tr>\n",
       "    <tr>\n",
       "      <th>103</th>\n",
       "      <td>104</td>\n",
       "      <td>3</td>\n",
       "      <td>Johansson, Mr. Gustaf Joel</td>\n",
       "      <td>male</td>\n",
       "      <td>33.0</td>\n",
       "      <td>0</td>\n",
       "      <td>0</td>\n",
       "      <td>7540</td>\n",
       "      <td>8.6542</td>\n",
       "      <td>NaN</td>\n",
       "      <td>S</td>\n",
       "    </tr>\n",
       "    <tr>\n",
       "      <th>577</th>\n",
       "      <td>578</td>\n",
       "      <td>1</td>\n",
       "      <td>Silvey, Mrs. William Baird (Alice Munger)</td>\n",
       "      <td>female</td>\n",
       "      <td>39.0</td>\n",
       "      <td>1</td>\n",
       "      <td>0</td>\n",
       "      <td>13507</td>\n",
       "      <td>55.9000</td>\n",
       "      <td>E44</td>\n",
       "      <td>S</td>\n",
       "    </tr>\n",
       "    <tr>\n",
       "      <th>215</th>\n",
       "      <td>216</td>\n",
       "      <td>1</td>\n",
       "      <td>Newell, Miss. Madeleine</td>\n",
       "      <td>female</td>\n",
       "      <td>31.0</td>\n",
       "      <td>1</td>\n",
       "      <td>0</td>\n",
       "      <td>35273</td>\n",
       "      <td>113.2750</td>\n",
       "      <td>D36</td>\n",
       "      <td>C</td>\n",
       "    </tr>\n",
       "    <tr>\n",
       "      <th>191</th>\n",
       "      <td>192</td>\n",
       "      <td>2</td>\n",
       "      <td>Carbines, Mr. William</td>\n",
       "      <td>male</td>\n",
       "      <td>19.0</td>\n",
       "      <td>0</td>\n",
       "      <td>0</td>\n",
       "      <td>28424</td>\n",
       "      <td>13.0000</td>\n",
       "      <td>NaN</td>\n",
       "      <td>S</td>\n",
       "    </tr>\n",
       "  </tbody>\n",
       "</table>\n",
       "</div>"
      ],
      "text/plain": [
       "     PassengerId  Pclass                                       Name     Sex  \\\n",
       "90            91       3                       Christmann, Mr. Emil    male   \n",
       "103          104       3                 Johansson, Mr. Gustaf Joel    male   \n",
       "577          578       1  Silvey, Mrs. William Baird (Alice Munger)  female   \n",
       "215          216       1                    Newell, Miss. Madeleine  female   \n",
       "191          192       2                      Carbines, Mr. William    male   \n",
       "\n",
       "      Age  SibSp  Parch  Ticket      Fare Cabin Embarked  \n",
       "90   29.0      0      0  343276    8.0500   NaN        S  \n",
       "103  33.0      0      0    7540    8.6542   NaN        S  \n",
       "577  39.0      1      0   13507   55.9000   E44        S  \n",
       "215  31.0      1      0   35273  113.2750   D36        C  \n",
       "191  19.0      0      0   28424   13.0000   NaN        S  "
      ]
     },
     "execution_count": 5,
     "metadata": {},
     "output_type": "execute_result"
    }
   ],
   "source": [
    "X_train.head()"
   ]
  },
  {
   "cell_type": "code",
   "execution_count": 6,
   "id": "3cad1d21",
   "metadata": {
    "execution": {
     "iopub.execute_input": "2025-06-18T14:16:26.953454Z",
     "iopub.status.busy": "2025-06-18T14:16:26.949219Z",
     "iopub.status.idle": "2025-06-18T14:16:26.957437Z",
     "shell.execute_reply": "2025-06-18T14:16:26.956678Z",
     "shell.execute_reply.started": "2025-06-18T13:56:43.879042Z"
    },
    "papermill": {
     "duration": 0.0399,
     "end_time": "2025-06-18T14:16:26.957592",
     "exception": false,
     "start_time": "2025-06-18T14:16:26.917692",
     "status": "completed"
    },
    "tags": []
   },
   "outputs": [
    {
     "name": "stdout",
     "output_type": "stream",
     "text": [
      "<class 'pandas.core.frame.DataFrame'>\n",
      "Int64Index: 712 entries, 90 to 116\n",
      "Data columns (total 11 columns):\n",
      " #   Column       Non-Null Count  Dtype  \n",
      "---  ------       --------------  -----  \n",
      " 0   PassengerId  712 non-null    int64  \n",
      " 1   Pclass       712 non-null    int64  \n",
      " 2   Name         712 non-null    object \n",
      " 3   Sex          712 non-null    object \n",
      " 4   Age          575 non-null    float64\n",
      " 5   SibSp        712 non-null    int64  \n",
      " 6   Parch        712 non-null    int64  \n",
      " 7   Ticket       712 non-null    object \n",
      " 8   Fare         712 non-null    float64\n",
      " 9   Cabin        170 non-null    object \n",
      " 10  Embarked     711 non-null    object \n",
      "dtypes: float64(2), int64(4), object(5)\n",
      "memory usage: 66.8+ KB\n"
     ]
    }
   ],
   "source": [
    "# float64(2), int64(3), object(5)\n",
    "X_train.info()"
   ]
  },
  {
   "cell_type": "code",
   "execution_count": 7,
   "id": "171b2c43",
   "metadata": {
    "execution": {
     "iopub.execute_input": "2025-06-18T14:16:27.004369Z",
     "iopub.status.busy": "2025-06-18T14:16:27.003583Z",
     "iopub.status.idle": "2025-06-18T14:16:27.012514Z",
     "shell.execute_reply": "2025-06-18T14:16:27.011534Z",
     "shell.execute_reply.started": "2025-06-18T13:56:43.901108Z"
    },
    "papermill": {
     "duration": 0.039552,
     "end_time": "2025-06-18T14:16:27.012834",
     "exception": false,
     "start_time": "2025-06-18T14:16:26.973282",
     "status": "completed"
    },
    "tags": []
   },
   "outputs": [
    {
     "data": {
      "text/html": [
       "<div>\n",
       "<style scoped>\n",
       "    .dataframe tbody tr th:only-of-type {\n",
       "        vertical-align: middle;\n",
       "    }\n",
       "\n",
       "    .dataframe tbody tr th {\n",
       "        vertical-align: top;\n",
       "    }\n",
       "\n",
       "    .dataframe thead th {\n",
       "        text-align: right;\n",
       "    }\n",
       "</style>\n",
       "<table border=\"1\" class=\"dataframe\">\n",
       "  <thead>\n",
       "    <tr style=\"text-align: right;\">\n",
       "      <th></th>\n",
       "      <th>PassengerId</th>\n",
       "      <th>Survived</th>\n",
       "    </tr>\n",
       "  </thead>\n",
       "  <tbody>\n",
       "    <tr>\n",
       "      <th>90</th>\n",
       "      <td>91</td>\n",
       "      <td>0</td>\n",
       "    </tr>\n",
       "    <tr>\n",
       "      <th>103</th>\n",
       "      <td>104</td>\n",
       "      <td>0</td>\n",
       "    </tr>\n",
       "    <tr>\n",
       "      <th>577</th>\n",
       "      <td>578</td>\n",
       "      <td>1</td>\n",
       "    </tr>\n",
       "    <tr>\n",
       "      <th>215</th>\n",
       "      <td>216</td>\n",
       "      <td>1</td>\n",
       "    </tr>\n",
       "    <tr>\n",
       "      <th>191</th>\n",
       "      <td>192</td>\n",
       "      <td>0</td>\n",
       "    </tr>\n",
       "  </tbody>\n",
       "</table>\n",
       "</div>"
      ],
      "text/plain": [
       "     PassengerId  Survived\n",
       "90            91         0\n",
       "103          104         0\n",
       "577          578         1\n",
       "215          216         1\n",
       "191          192         0"
      ]
     },
     "execution_count": 7,
     "metadata": {},
     "output_type": "execute_result"
    }
   ],
   "source": [
    "y_train.head()"
   ]
  },
  {
   "cell_type": "code",
   "execution_count": 8,
   "id": "dab08660",
   "metadata": {
    "execution": {
     "iopub.execute_input": "2025-06-18T14:16:27.060108Z",
     "iopub.status.busy": "2025-06-18T14:16:27.058999Z",
     "iopub.status.idle": "2025-06-18T14:16:27.066827Z",
     "shell.execute_reply": "2025-06-18T14:16:27.066102Z",
     "shell.execute_reply.started": "2025-06-18T13:56:43.917942Z"
    },
    "papermill": {
     "duration": 0.035717,
     "end_time": "2025-06-18T14:16:27.066995",
     "exception": false,
     "start_time": "2025-06-18T14:16:27.031278",
     "status": "completed"
    },
    "tags": []
   },
   "outputs": [
    {
     "data": {
      "text/plain": [
       "0    441\n",
       "1    271\n",
       "Name: Survived, dtype: int64"
      ]
     },
     "execution_count": 8,
     "metadata": {},
     "output_type": "execute_result"
    }
   ],
   "source": [
    "# 생존 비율\n",
    "y_train['Survived'].value_counts()"
   ]
  },
  {
   "cell_type": "markdown",
   "id": "e86d7859",
   "metadata": {
    "papermill": {
     "duration": 0.026297,
     "end_time": "2025-06-18T14:16:27.112650",
     "exception": false,
     "start_time": "2025-06-18T14:16:27.086353",
     "status": "completed"
    },
    "tags": []
   },
   "source": [
    "## 데이터 전처리"
   ]
  },
  {
   "cell_type": "code",
   "execution_count": 9,
   "id": "6fc2d784",
   "metadata": {
    "execution": {
     "iopub.execute_input": "2025-06-18T14:16:27.176659Z",
     "iopub.status.busy": "2025-06-18T14:16:27.175937Z",
     "iopub.status.idle": "2025-06-18T14:16:27.179486Z",
     "shell.execute_reply": "2025-06-18T14:16:27.180273Z",
     "shell.execute_reply.started": "2025-06-18T13:56:43.933805Z"
    },
    "papermill": {
     "duration": 0.046772,
     "end_time": "2025-06-18T14:16:27.180597",
     "exception": false,
     "start_time": "2025-06-18T14:16:27.133825",
     "status": "completed"
    },
    "tags": []
   },
   "outputs": [],
   "source": [
    "y = y_train[\"Survived\"]\n",
    "\n",
    "# sex만 원핫인코딩 됨\n",
    "features = [\"Pclass\", \"Sex\", \"SibSp\", \"Parch\"]\n",
    "X = pd.get_dummies(X_train[features])\n",
    "test = pd.get_dummies(X_test[features])"
   ]
  },
  {
   "cell_type": "code",
   "execution_count": 10,
   "id": "df53a638",
   "metadata": {
    "execution": {
     "iopub.execute_input": "2025-06-18T14:16:27.228240Z",
     "iopub.status.busy": "2025-06-18T14:16:27.223043Z",
     "iopub.status.idle": "2025-06-18T14:16:27.233253Z",
     "shell.execute_reply": "2025-06-18T14:16:27.232518Z",
     "shell.execute_reply.started": "2025-06-18T13:56:44.002078Z"
    },
    "papermill": {
     "duration": 0.034327,
     "end_time": "2025-06-18T14:16:27.233416",
     "exception": false,
     "start_time": "2025-06-18T14:16:27.199089",
     "status": "completed"
    },
    "tags": []
   },
   "outputs": [
    {
     "data": {
      "text/plain": [
       "((712, 5), (179, 5))"
      ]
     },
     "execution_count": 10,
     "metadata": {},
     "output_type": "execute_result"
    }
   ],
   "source": [
    "X.shape, test.shape"
   ]
  },
  {
   "cell_type": "markdown",
   "id": "e791b980",
   "metadata": {
    "papermill": {
     "duration": 0.019439,
     "end_time": "2025-06-18T14:16:27.275792",
     "exception": false,
     "start_time": "2025-06-18T14:16:27.256353",
     "status": "completed"
    },
    "tags": []
   },
   "source": [
    "## 모델 및 평가"
   ]
  },
  {
   "cell_type": "code",
   "execution_count": 11,
   "id": "3737b203",
   "metadata": {
    "execution": {
     "iopub.execute_input": "2025-06-18T14:16:27.345374Z",
     "iopub.status.busy": "2025-06-18T14:16:27.339874Z",
     "iopub.status.idle": "2025-06-18T14:16:27.701012Z",
     "shell.execute_reply": "2025-06-18T14:16:27.700288Z",
     "shell.execute_reply.started": "2025-06-18T13:56:44.011357Z"
    },
    "papermill": {
     "duration": 0.399141,
     "end_time": "2025-06-18T14:16:27.701180",
     "exception": false,
     "start_time": "2025-06-18T14:16:27.302039",
     "status": "completed"
    },
    "tags": []
   },
   "outputs": [],
   "source": [
    "from sklearn.ensemble import RandomForestClassifier\n",
    "model = RandomForestClassifier(n_estimators=200, max_depth=7, random_state=2021)\n",
    "model.fit(X, y)\n",
    "predictions = model.predict(test)"
   ]
  },
  {
   "cell_type": "code",
   "execution_count": 12,
   "id": "6b79eeb8",
   "metadata": {
    "execution": {
     "iopub.execute_input": "2025-06-18T14:16:27.744005Z",
     "iopub.status.busy": "2025-06-18T14:16:27.743205Z",
     "iopub.status.idle": "2025-06-18T14:16:27.783676Z",
     "shell.execute_reply": "2025-06-18T14:16:27.783155Z",
     "shell.execute_reply.started": "2025-06-18T13:56:44.730316Z"
    },
    "papermill": {
     "duration": 0.066333,
     "end_time": "2025-06-18T14:16:27.783852",
     "exception": false,
     "start_time": "2025-06-18T14:16:27.717519",
     "status": "completed"
    },
    "tags": []
   },
   "outputs": [
    {
     "data": {
      "text/plain": [
       "0.8356741573033708"
      ]
     },
     "execution_count": 12,
     "metadata": {},
     "output_type": "execute_result"
    }
   ],
   "source": [
    "model.score(X, y)"
   ]
  },
  {
   "cell_type": "code",
   "execution_count": 13,
   "id": "b87f7d03",
   "metadata": {
    "execution": {
     "iopub.execute_input": "2025-06-18T14:16:27.831269Z",
     "iopub.status.busy": "2025-06-18T14:16:27.830284Z",
     "iopub.status.idle": "2025-06-18T14:16:27.835066Z",
     "shell.execute_reply": "2025-06-18T14:16:27.834223Z",
     "shell.execute_reply.started": "2025-06-18T13:56:44.774297Z"
    },
    "papermill": {
     "duration": 0.031617,
     "end_time": "2025-06-18T14:16:27.835232",
     "exception": false,
     "start_time": "2025-06-18T14:16:27.803615",
     "status": "completed"
    },
    "tags": []
   },
   "outputs": [
    {
     "data": {
      "text/html": [
       "<div>\n",
       "<style scoped>\n",
       "    .dataframe tbody tr th:only-of-type {\n",
       "        vertical-align: middle;\n",
       "    }\n",
       "\n",
       "    .dataframe tbody tr th {\n",
       "        vertical-align: top;\n",
       "    }\n",
       "\n",
       "    .dataframe thead th {\n",
       "        text-align: right;\n",
       "    }\n",
       "</style>\n",
       "<table border=\"1\" class=\"dataframe\">\n",
       "  <thead>\n",
       "    <tr style=\"text-align: right;\">\n",
       "      <th></th>\n",
       "      <th>PassengerId</th>\n",
       "      <th>Survived</th>\n",
       "    </tr>\n",
       "  </thead>\n",
       "  <tbody>\n",
       "    <tr>\n",
       "      <th>210</th>\n",
       "      <td>211</td>\n",
       "      <td>0</td>\n",
       "    </tr>\n",
       "    <tr>\n",
       "      <th>876</th>\n",
       "      <td>877</td>\n",
       "      <td>0</td>\n",
       "    </tr>\n",
       "    <tr>\n",
       "      <th>666</th>\n",
       "      <td>667</td>\n",
       "      <td>0</td>\n",
       "    </tr>\n",
       "    <tr>\n",
       "      <th>819</th>\n",
       "      <td>820</td>\n",
       "      <td>0</td>\n",
       "    </tr>\n",
       "    <tr>\n",
       "      <th>736</th>\n",
       "      <td>737</td>\n",
       "      <td>0</td>\n",
       "    </tr>\n",
       "  </tbody>\n",
       "</table>\n",
       "</div>"
      ],
      "text/plain": [
       "     PassengerId  Survived\n",
       "210          211         0\n",
       "876          877         0\n",
       "666          667         0\n",
       "819          820         0\n",
       "736          737         0"
      ]
     },
     "execution_count": 13,
     "metadata": {},
     "output_type": "execute_result"
    }
   ],
   "source": [
    "output = pd.DataFrame({'PassengerId': X_test.PassengerId, 'Survived': predictions})\n",
    "output.head()"
   ]
  },
  {
   "cell_type": "code",
   "execution_count": 14,
   "id": "5d711043",
   "metadata": {
    "execution": {
     "iopub.execute_input": "2025-06-18T14:16:27.879414Z",
     "iopub.status.busy": "2025-06-18T14:16:27.875084Z",
     "iopub.status.idle": "2025-06-18T14:16:27.884066Z",
     "shell.execute_reply": "2025-06-18T14:16:27.882991Z",
     "shell.execute_reply.started": "2025-06-18T13:56:44.786266Z"
    },
    "papermill": {
     "duration": 0.032003,
     "end_time": "2025-06-18T14:16:27.884467",
     "exception": false,
     "start_time": "2025-06-18T14:16:27.852464",
     "status": "completed"
    },
    "tags": []
   },
   "outputs": [],
   "source": [
    "# 수험번호.csv로 출력\n",
    "output.to_csv('1234567.csv', index=False)"
   ]
  },
  {
   "cell_type": "markdown",
   "id": "2dcd8f12",
   "metadata": {
    "papermill": {
     "duration": 0.016634,
     "end_time": "2025-06-18T14:16:27.918815",
     "exception": false,
     "start_time": "2025-06-18T14:16:27.902181",
     "status": "completed"
    },
    "tags": []
   },
   "source": [
    "## 결과 체점 (수험자는 알 수 없는 부분임)"
   ]
  },
  {
   "cell_type": "code",
   "execution_count": 15,
   "id": "c3170ede",
   "metadata": {
    "execution": {
     "iopub.execute_input": "2025-06-18T14:16:27.966217Z",
     "iopub.status.busy": "2025-06-18T14:16:27.965072Z",
     "iopub.status.idle": "2025-06-18T14:16:27.996362Z",
     "shell.execute_reply": "2025-06-18T14:16:27.995824Z",
     "shell.execute_reply.started": "2025-06-18T13:56:44.800313Z"
    },
    "papermill": {
     "duration": 0.058777,
     "end_time": "2025-06-18T14:16:27.996530",
     "exception": false,
     "start_time": "2025-06-18T14:16:27.937753",
     "status": "completed"
    },
    "tags": []
   },
   "outputs": [
    {
     "data": {
      "text/plain": [
       "0.7318435754189944"
      ]
     },
     "execution_count": 15,
     "metadata": {},
     "output_type": "execute_result"
    }
   ],
   "source": [
    "model.score(test, y_test['Survived'])"
   ]
  }
 ],
 "metadata": {
  "kaggle": {
   "accelerator": "none",
   "dataSources": [
    {
     "databundleVersionId": 26502,
     "sourceId": 3136,
     "sourceType": "competition"
    },
    {
     "datasetId": 1633303,
     "sourceId": 12189494,
     "sourceType": "datasetVersion"
    }
   ],
   "dockerImageVersionId": 30145,
   "isGpuEnabled": false,
   "isInternetEnabled": false,
   "language": "python",
   "sourceType": "notebook"
  },
  "kernelspec": {
   "display_name": "Python 3",
   "language": "python",
   "name": "python3"
  },
  "language_info": {
   "codemirror_mode": {
    "name": "ipython",
    "version": 3
   },
   "file_extension": ".py",
   "mimetype": "text/x-python",
   "name": "python",
   "nbconvert_exporter": "python",
   "pygments_lexer": "ipython3",
   "version": "3.7.10"
  },
  "papermill": {
   "default_parameters": {},
   "duration": 14.450233,
   "end_time": "2025-06-18T14:16:28.735413",
   "environment_variables": {},
   "exception": null,
   "input_path": "__notebook__.ipynb",
   "output_path": "__notebook__.ipynb",
   "parameters": {},
   "start_time": "2025-06-18T14:16:14.285180",
   "version": "2.3.3"
  }
 },
 "nbformat": 4,
 "nbformat_minor": 5
}
