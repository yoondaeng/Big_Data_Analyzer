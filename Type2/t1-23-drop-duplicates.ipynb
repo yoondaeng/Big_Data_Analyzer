{
 "cells": [
  {
   "cell_type": "markdown",
   "id": "9bb76b00",
   "metadata": {
    "papermill": {
     "duration": 0.007789,
     "end_time": "2025-06-19T21:51:44.373959",
     "exception": false,
     "start_time": "2025-06-19T21:51:44.366170",
     "status": "completed"
    },
    "tags": []
   },
   "source": [
    "## f1의 결측치를 채운 후 age 컬럼의 중복 제거 전과 후의 'f1' 중앙값 차이를 구하시오 \n",
    "### - 결측치는 'f1' 데이터에서 큰 값 순으로 정렬했을 때 10번째에 위치한 값으로 채운다.\n",
    "### - 중복 데이터 발생시 뒤에 나오는 데이터를 삭제함\n",
    "### - 최종 결과값은 절대값으로 출력\n",
    "(중복 제거 기준: 제공된 데이터 순서대로 중복 데이터 발생시 뒤에 나오는 데이터를 삭제함)\n",
    "\n",
    "\n",
    "- 데이터셋 : basic1.csv\n",
    "- 오른쪽 상단 copy&edit 클릭 -> 예상문제 풀이 시작"
   ]
  },
  {
   "cell_type": "code",
   "execution_count": 1,
   "id": "840a8c64",
   "metadata": {
    "_cell_guid": "b1076dfc-b9ad-4769-8c92-a6c4dae69d19",
    "_uuid": "8f2839f25d086af736a60e9eeb907d3b93b6e0e5",
    "execution": {
     "iopub.execute_input": "2025-06-19T21:51:44.408177Z",
     "iopub.status.busy": "2025-06-19T21:51:44.404986Z",
     "iopub.status.idle": "2025-06-19T21:51:44.412366Z",
     "shell.execute_reply": "2025-06-19T21:51:44.411574Z",
     "shell.execute_reply.started": "2025-06-19T21:51:05.534717Z"
    },
    "papermill": {
     "duration": 0.022706,
     "end_time": "2025-06-19T21:51:44.412536",
     "exception": false,
     "start_time": "2025-06-19T21:51:44.389830",
     "status": "completed"
    },
    "tags": []
   },
   "outputs": [],
   "source": [
    "import pandas as pd"
   ]
  },
  {
   "cell_type": "code",
   "execution_count": 2,
   "id": "6c80e14e",
   "metadata": {
    "execution": {
     "iopub.execute_input": "2025-06-19T21:51:44.430182Z",
     "iopub.status.busy": "2025-06-19T21:51:44.429551Z",
     "iopub.status.idle": "2025-06-19T21:51:44.466163Z",
     "shell.execute_reply": "2025-06-19T21:51:44.466687Z",
     "shell.execute_reply.started": "2025-06-19T21:51:05.542202Z"
    },
    "papermill": {
     "duration": 0.047804,
     "end_time": "2025-06-19T21:51:44.466859",
     "exception": false,
     "start_time": "2025-06-19T21:51:44.419055",
     "status": "completed"
    },
    "tags": []
   },
   "outputs": [
    {
     "data": {
      "text/html": [
       "<div>\n",
       "<style scoped>\n",
       "    .dataframe tbody tr th:only-of-type {\n",
       "        vertical-align: middle;\n",
       "    }\n",
       "\n",
       "    .dataframe tbody tr th {\n",
       "        vertical-align: top;\n",
       "    }\n",
       "\n",
       "    .dataframe thead th {\n",
       "        text-align: right;\n",
       "    }\n",
       "</style>\n",
       "<table border=\"1\" class=\"dataframe\">\n",
       "  <thead>\n",
       "    <tr style=\"text-align: right;\">\n",
       "      <th></th>\n",
       "      <th>id</th>\n",
       "      <th>age</th>\n",
       "      <th>city</th>\n",
       "      <th>f1</th>\n",
       "      <th>f2</th>\n",
       "      <th>f3</th>\n",
       "      <th>f4</th>\n",
       "      <th>f5</th>\n",
       "    </tr>\n",
       "  </thead>\n",
       "  <tbody>\n",
       "    <tr>\n",
       "      <th>95</th>\n",
       "      <td>id96</td>\n",
       "      <td>92.0</td>\n",
       "      <td>경기</td>\n",
       "      <td>53.0</td>\n",
       "      <td>1</td>\n",
       "      <td>NaN</td>\n",
       "      <td>ENTJ</td>\n",
       "      <td>52.667078</td>\n",
       "    </tr>\n",
       "    <tr>\n",
       "      <th>96</th>\n",
       "      <td>id97</td>\n",
       "      <td>100.0</td>\n",
       "      <td>경기</td>\n",
       "      <td>NaN</td>\n",
       "      <td>0</td>\n",
       "      <td>NaN</td>\n",
       "      <td>INFP</td>\n",
       "      <td>67.886373</td>\n",
       "    </tr>\n",
       "    <tr>\n",
       "      <th>97</th>\n",
       "      <td>id98</td>\n",
       "      <td>39.0</td>\n",
       "      <td>경기</td>\n",
       "      <td>58.0</td>\n",
       "      <td>2</td>\n",
       "      <td>NaN</td>\n",
       "      <td>INFP</td>\n",
       "      <td>98.429899</td>\n",
       "    </tr>\n",
       "    <tr>\n",
       "      <th>98</th>\n",
       "      <td>id99</td>\n",
       "      <td>1.0</td>\n",
       "      <td>경기</td>\n",
       "      <td>47.0</td>\n",
       "      <td>0</td>\n",
       "      <td>NaN</td>\n",
       "      <td>ESFJ</td>\n",
       "      <td>97.381034</td>\n",
       "    </tr>\n",
       "    <tr>\n",
       "      <th>99</th>\n",
       "      <td>id100</td>\n",
       "      <td>47.0</td>\n",
       "      <td>경기</td>\n",
       "      <td>53.0</td>\n",
       "      <td>0</td>\n",
       "      <td>vip</td>\n",
       "      <td>ESFP</td>\n",
       "      <td>33.308999</td>\n",
       "    </tr>\n",
       "  </tbody>\n",
       "</table>\n",
       "</div>"
      ],
      "text/plain": [
       "       id    age city    f1  f2   f3    f4         f5\n",
       "95   id96   92.0   경기  53.0   1  NaN  ENTJ  52.667078\n",
       "96   id97  100.0   경기   NaN   0  NaN  INFP  67.886373\n",
       "97   id98   39.0   경기  58.0   2  NaN  INFP  98.429899\n",
       "98   id99    1.0   경기  47.0   0  NaN  ESFJ  97.381034\n",
       "99  id100   47.0   경기  53.0   0  vip  ESFP  33.308999"
      ]
     },
     "execution_count": 2,
     "metadata": {},
     "output_type": "execute_result"
    }
   ],
   "source": [
    "df = pd.read_csv('../input/bigdatacertificationkr/basic1.csv')\n",
    "df.tail()"
   ]
  },
  {
   "cell_type": "code",
   "execution_count": 3,
   "id": "b55865ba",
   "metadata": {
    "execution": {
     "iopub.execute_input": "2025-06-19T21:51:44.507104Z",
     "iopub.status.busy": "2025-06-19T21:51:44.491728Z",
     "iopub.status.idle": "2025-06-19T21:51:44.511904Z",
     "shell.execute_reply": "2025-06-19T21:51:44.512429Z",
     "shell.execute_reply.started": "2025-06-19T21:51:05.576207Z"
    },
    "papermill": {
     "duration": 0.038637,
     "end_time": "2025-06-19T21:51:44.512604",
     "exception": false,
     "start_time": "2025-06-19T21:51:44.473967",
     "status": "completed"
    },
    "tags": []
   },
   "outputs": [
    {
     "name": "stdout",
     "output_type": "stream",
     "text": [
      "88.0\n",
      "id       0\n",
      "age      0\n",
      "city     0\n",
      "f1      31\n",
      "f2       0\n",
      "f3      95\n",
      "f4       0\n",
      "f5       0\n",
      "dtype: int64\n",
      "id       0\n",
      "age      0\n",
      "city     0\n",
      "f1       0\n",
      "f2       0\n",
      "f3      95\n",
      "f4       0\n",
      "f5       0\n",
      "dtype: int64\n",
      "(100, 8)\n",
      "77.5\n",
      "(71, 8)\n",
      "77.0\n",
      "0.5\n"
     ]
    }
   ],
   "source": [
    "top10 = df['f1'].sort_values(ascending=False).iloc[9]\n",
    "print(top10)\n",
    "\n",
    "print(df.isnull().sum())\n",
    "df['f1'] = df['f1'].fillna(top10)\n",
    "print(df.isnull().sum())\n",
    "\n",
    "# print(dir(df))\n",
    "\n",
    "# 중복 제거 전\n",
    "result1 = df['f1'].median()\n",
    "print(df.shape)\n",
    "print(result1)\n",
    "\n",
    "# 중복 제거\n",
    "df = df.drop_duplicates(subset=['age'])\n",
    "# print(help(df.drop_duplicates))\n",
    "print(df.shape)\n",
    "result2 = df['f1'].median()\n",
    "print(result2)\n",
    "\n",
    "print(abs(result1 - result2)) # 0.5"
   ]
  },
  {
   "cell_type": "code",
   "execution_count": 4,
   "id": "677faa1c",
   "metadata": {
    "execution": {
     "iopub.execute_input": "2025-06-19T21:51:44.533379Z",
     "iopub.status.busy": "2025-06-19T21:51:44.531917Z",
     "iopub.status.idle": "2025-06-19T21:51:44.536802Z",
     "shell.execute_reply": "2025-06-19T21:51:44.536140Z",
     "shell.execute_reply.started": "2025-06-19T21:51:05.596965Z"
    },
    "papermill": {
     "duration": 0.017102,
     "end_time": "2025-06-19T21:51:44.536942",
     "exception": false,
     "start_time": "2025-06-19T21:51:44.519840",
     "status": "completed"
    },
    "tags": []
   },
   "outputs": [
    {
     "name": "stdout",
     "output_type": "stream",
     "text": [
      "88.0\n"
     ]
    }
   ],
   "source": [
    "# f1데이터에서 10번째 큰 값으로 결측치를 채움\n",
    "top10 = df['f1'].sort_values(ascending=False).iloc[9]\n",
    "print(top10)\n",
    "df['f1'] = df['f1'].fillna(top10)"
   ]
  },
  {
   "cell_type": "code",
   "execution_count": 5,
   "id": "fd35cb51",
   "metadata": {
    "execution": {
     "iopub.execute_input": "2025-06-19T21:51:44.558466Z",
     "iopub.status.busy": "2025-06-19T21:51:44.557413Z",
     "iopub.status.idle": "2025-06-19T21:51:44.561017Z",
     "shell.execute_reply": "2025-06-19T21:51:44.561468Z",
     "shell.execute_reply.started": "2025-06-19T21:51:05.607148Z"
    },
    "papermill": {
     "duration": 0.017079,
     "end_time": "2025-06-19T21:51:44.561652",
     "exception": false,
     "start_time": "2025-06-19T21:51:44.544573",
     "status": "completed"
    },
    "tags": []
   },
   "outputs": [
    {
     "data": {
      "text/plain": [
       "77.0"
      ]
     },
     "execution_count": 5,
     "metadata": {},
     "output_type": "execute_result"
    }
   ],
   "source": [
    "# 중복 제거 전 중앙 값\n",
    "result1 = df['f1'].median()\n",
    "result1"
   ]
  },
  {
   "cell_type": "code",
   "execution_count": 6,
   "id": "d4a2182f",
   "metadata": {
    "execution": {
     "iopub.execute_input": "2025-06-19T21:51:44.585097Z",
     "iopub.status.busy": "2025-06-19T21:51:44.584444Z",
     "iopub.status.idle": "2025-06-19T21:51:44.587426Z",
     "shell.execute_reply": "2025-06-19T21:51:44.587891Z",
     "shell.execute_reply.started": "2025-06-19T21:51:05.619737Z"
    },
    "papermill": {
     "duration": 0.01872,
     "end_time": "2025-06-19T21:51:44.588067",
     "exception": false,
     "start_time": "2025-06-19T21:51:44.569347",
     "status": "completed"
    },
    "tags": []
   },
   "outputs": [
    {
     "name": "stdout",
     "output_type": "stream",
     "text": [
      "(71, 8)\n",
      "(71, 8)\n"
     ]
    }
   ],
   "source": [
    "# 중복 제거\n",
    "print(df.shape)\n",
    "df = df.drop_duplicates(subset=['age'])\n",
    "print(df.shape)"
   ]
  },
  {
   "cell_type": "code",
   "execution_count": 7,
   "id": "cafd4946",
   "metadata": {
    "execution": {
     "iopub.execute_input": "2025-06-19T21:51:44.610098Z",
     "iopub.status.busy": "2025-06-19T21:51:44.609354Z",
     "iopub.status.idle": "2025-06-19T21:51:44.612362Z",
     "shell.execute_reply": "2025-06-19T21:51:44.612825Z",
     "shell.execute_reply.started": "2025-06-19T21:51:05.634847Z"
    },
    "papermill": {
     "duration": 0.017009,
     "end_time": "2025-06-19T21:51:44.612986",
     "exception": false,
     "start_time": "2025-06-19T21:51:44.595977",
     "status": "completed"
    },
    "tags": []
   },
   "outputs": [
    {
     "data": {
      "text/plain": [
       "77.0"
      ]
     },
     "execution_count": 7,
     "metadata": {},
     "output_type": "execute_result"
    }
   ],
   "source": [
    "# 중복 제거 후 중앙 값\n",
    "result2 = df['f1'].median()\n",
    "result2"
   ]
  },
  {
   "cell_type": "code",
   "execution_count": 8,
   "id": "8c730012",
   "metadata": {
    "execution": {
     "iopub.execute_input": "2025-06-19T21:51:44.634780Z",
     "iopub.status.busy": "2025-06-19T21:51:44.633942Z",
     "iopub.status.idle": "2025-06-19T21:51:44.637023Z",
     "shell.execute_reply": "2025-06-19T21:51:44.637550Z",
     "shell.execute_reply.started": "2025-06-19T21:51:05.645848Z"
    },
    "papermill": {
     "duration": 0.016279,
     "end_time": "2025-06-19T21:51:44.637719",
     "exception": false,
     "start_time": "2025-06-19T21:51:44.621440",
     "status": "completed"
    },
    "tags": []
   },
   "outputs": [
    {
     "name": "stdout",
     "output_type": "stream",
     "text": [
      "0.0\n"
     ]
    }
   ],
   "source": [
    "# 차이 (절대값)\n",
    "print(abs(result1 - result2))"
   ]
  }
 ],
 "metadata": {
  "kaggle": {
   "accelerator": "none",
   "dataSources": [
    {
     "datasetId": 1633303,
     "sourceId": 12211878,
     "sourceType": "datasetVersion"
    }
   ],
   "dockerImageVersionId": 30145,
   "isGpuEnabled": false,
   "isInternetEnabled": false,
   "language": "python",
   "sourceType": "notebook"
  },
  "kernelspec": {
   "display_name": "Python 3",
   "language": "python",
   "name": "python3"
  },
  "language_info": {
   "codemirror_mode": {
    "name": "ipython",
    "version": 3
   },
   "file_extension": ".py",
   "mimetype": "text/x-python",
   "name": "python",
   "nbconvert_exporter": "python",
   "pygments_lexer": "ipython3",
   "version": "3.7.10"
  },
  "papermill": {
   "default_parameters": {},
   "duration": 9.457005,
   "end_time": "2025-06-19T21:51:45.256731",
   "environment_variables": {},
   "exception": null,
   "input_path": "__notebook__.ipynb",
   "output_path": "__notebook__.ipynb",
   "parameters": {},
   "start_time": "2025-06-19T21:51:35.799726",
   "version": "2.3.3"
  }
 },
 "nbformat": 4,
 "nbformat_minor": 5
}
