{
 "cells": [
  {
   "cell_type": "markdown",
   "id": "b2d5edd5",
   "metadata": {
    "papermill": {
     "duration": 0.006233,
     "end_time": "2025-06-19T19:48:19.849786",
     "exception": false,
     "start_time": "2025-06-19T19:48:19.843553",
     "status": "completed"
    },
    "tags": []
   },
   "source": [
    "## Baseline code\n",
    "\n",
    "- target: count컬럼"
   ]
  },
  {
   "cell_type": "code",
   "execution_count": 1,
   "id": "d336354e",
   "metadata": {
    "_execution_state": "idle",
    "_uuid": "051d70d956493feee0c6d64651c6a088724dca2a",
    "execution": {
     "iopub.execute_input": "2025-06-19T19:48:19.862034Z",
     "iopub.status.busy": "2025-06-19T19:48:19.861601Z",
     "iopub.status.idle": "2025-06-19T19:48:19.870339Z",
     "shell.execute_reply": "2025-06-19T19:48:19.869343Z"
    },
    "papermill": {
     "duration": 0.017176,
     "end_time": "2025-06-19T19:48:19.872331",
     "exception": false,
     "start_time": "2025-06-19T19:48:19.855155",
     "status": "completed"
    },
    "tags": []
   },
   "outputs": [],
   "source": [
    "import pandas as pd"
   ]
  },
  {
   "cell_type": "code",
   "execution_count": 2,
   "id": "115baac4",
   "metadata": {
    "execution": {
     "iopub.execute_input": "2025-06-19T19:48:19.884554Z",
     "iopub.status.busy": "2025-06-19T19:48:19.884200Z",
     "iopub.status.idle": "2025-06-19T19:48:19.936556Z",
     "shell.execute_reply": "2025-06-19T19:48:19.935619Z"
    },
    "papermill": {
     "duration": 0.060908,
     "end_time": "2025-06-19T19:48:19.938759",
     "exception": false,
     "start_time": "2025-06-19T19:48:19.877851",
     "status": "completed"
    },
    "tags": []
   },
   "outputs": [],
   "source": [
    "train = pd.read_csv(\"/kaggle/input/bike-sharing-demand/train.csv\")\n",
    "test = pd.read_csv(\"/kaggle/input/bike-sharing-demand/test.csv\")"
   ]
  },
  {
   "cell_type": "raw",
   "id": "85ab3328",
   "metadata": {
    "papermill": {
     "duration": 0.004863,
     "end_time": "2025-06-19T19:48:19.948887",
     "exception": false,
     "start_time": "2025-06-19T19:48:19.944024",
     "status": "completed"
    },
    "tags": []
   },
   "source": [
    "print(train.info)\n",
    "print(test.info)\n",
    "print(train.shape, test.shape)"
   ]
  },
  {
   "cell_type": "code",
   "execution_count": 3,
   "id": "5612431d",
   "metadata": {
    "execution": {
     "iopub.execute_input": "2025-06-19T19:48:19.960887Z",
     "iopub.status.busy": "2025-06-19T19:48:19.960576Z",
     "iopub.status.idle": "2025-06-19T19:48:19.988222Z",
     "shell.execute_reply": "2025-06-19T19:48:19.987303Z"
    },
    "papermill": {
     "duration": 0.036507,
     "end_time": "2025-06-19T19:48:19.990883",
     "exception": false,
     "start_time": "2025-06-19T19:48:19.954376",
     "status": "completed"
    },
    "tags": []
   },
   "outputs": [
    {
     "name": "stdout",
     "output_type": "stream",
     "text": [
      "<bound method DataFrame.info of                   datetime  season  holiday  workingday  weather   temp  \\\n",
      "0      2011-01-01 00:00:00       1        0           0        1   9.84   \n",
      "1      2011-01-01 01:00:00       1        0           0        1   9.02   \n",
      "2      2011-01-01 02:00:00       1        0           0        1   9.02   \n",
      "3      2011-01-01 03:00:00       1        0           0        1   9.84   \n",
      "4      2011-01-01 04:00:00       1        0           0        1   9.84   \n",
      "...                    ...     ...      ...         ...      ...    ...   \n",
      "10881  2012-12-19 19:00:00       4        0           1        1  15.58   \n",
      "10882  2012-12-19 20:00:00       4        0           1        1  14.76   \n",
      "10883  2012-12-19 21:00:00       4        0           1        1  13.94   \n",
      "10884  2012-12-19 22:00:00       4        0           1        1  13.94   \n",
      "10885  2012-12-19 23:00:00       4        0           1        1  13.12   \n",
      "\n",
      "        atemp  humidity  windspeed  casual  registered  count  \n",
      "0      14.395        81     0.0000       3          13     16  \n",
      "1      13.635        80     0.0000       8          32     40  \n",
      "2      13.635        80     0.0000       5          27     32  \n",
      "3      14.395        75     0.0000       3          10     13  \n",
      "4      14.395        75     0.0000       0           1      1  \n",
      "...       ...       ...        ...     ...         ...    ...  \n",
      "10881  19.695        50    26.0027       7         329    336  \n",
      "10882  17.425        57    15.0013      10         231    241  \n",
      "10883  15.910        61    15.0013       4         164    168  \n",
      "10884  17.425        61     6.0032      12         117    129  \n",
      "10885  16.665        66     8.9981       4          84     88  \n",
      "\n",
      "[10886 rows x 12 columns]>\n",
      "<bound method DataFrame.info of                  datetime  season  holiday  workingday  weather   temp  \\\n",
      "0     2011-01-20 00:00:00       1        0           1        1  10.66   \n",
      "1     2011-01-20 01:00:00       1        0           1        1  10.66   \n",
      "2     2011-01-20 02:00:00       1        0           1        1  10.66   \n",
      "3     2011-01-20 03:00:00       1        0           1        1  10.66   \n",
      "4     2011-01-20 04:00:00       1        0           1        1  10.66   \n",
      "...                   ...     ...      ...         ...      ...    ...   \n",
      "6488  2012-12-31 19:00:00       1        0           1        2  10.66   \n",
      "6489  2012-12-31 20:00:00       1        0           1        2  10.66   \n",
      "6490  2012-12-31 21:00:00       1        0           1        1  10.66   \n",
      "6491  2012-12-31 22:00:00       1        0           1        1  10.66   \n",
      "6492  2012-12-31 23:00:00       1        0           1        1  10.66   \n",
      "\n",
      "       atemp  humidity  windspeed  \n",
      "0     11.365        56    26.0027  \n",
      "1     13.635        56     0.0000  \n",
      "2     13.635        56     0.0000  \n",
      "3     12.880        56    11.0014  \n",
      "4     12.880        56    11.0014  \n",
      "...      ...       ...        ...  \n",
      "6488  12.880        60    11.0014  \n",
      "6489  12.880        60    11.0014  \n",
      "6490  12.880        60    11.0014  \n",
      "6491  13.635        56     8.9981  \n",
      "6492  13.635        65     8.9981  \n",
      "\n",
      "[6493 rows x 9 columns]>\n",
      "(10886, 12) (6493, 9)\n"
     ]
    }
   ],
   "source": [
    "print(train.info)\n",
    "print(test.info)\n",
    "print(train.shape, test.shape)"
   ]
  },
  {
   "cell_type": "code",
   "execution_count": 4,
   "id": "94f0be6e",
   "metadata": {
    "execution": {
     "iopub.execute_input": "2025-06-19T19:48:20.004441Z",
     "iopub.status.busy": "2025-06-19T19:48:20.004079Z",
     "iopub.status.idle": "2025-06-19T19:48:21.742334Z",
     "shell.execute_reply": "2025-06-19T19:48:21.741107Z"
    },
    "papermill": {
     "duration": 1.748455,
     "end_time": "2025-06-19T19:48:21.744632",
     "exception": false,
     "start_time": "2025-06-19T19:48:19.996177",
     "status": "completed"
    },
    "tags": []
   },
   "outputs": [
    {
     "name": "stdout",
     "output_type": "stream",
     "text": [
      "1.6486304531998472 0.368672533407872\n",
      "           count\n",
      "0     144.561247\n",
      "1      67.334392\n",
      "2      67.334392\n",
      "3      89.743846\n",
      "4      89.743846\n",
      "...          ...\n",
      "6488  108.020924\n",
      "6489  108.020924\n",
      "6490   83.341818\n",
      "6491   84.513682\n",
      "6492   74.113368\n",
      "\n",
      "[6493 rows x 1 columns]\n"
     ]
    }
   ],
   "source": [
    "# print(train.info)\n",
    "# print(test.info)\n",
    "# print(train.shape, test.shape) # (10886, 12) (6493, 9)\n",
    "\n",
    "X = train.drop(['casual', 'registered', 'count'], axis = 1)\n",
    "y = train['count']\n",
    "\n",
    "# print(X.shape, y.shape) # (10886, 9) (10886,)\n",
    "\n",
    "X_full = pd.concat([X, test], axis = 0)\n",
    "X_full = X_full.drop('datetime', axis=1)\n",
    "# print(X_full.shape) # (17379, 8)\n",
    "# print(X_full.head())\n",
    "\n",
    "# X_full.isnull().sum() # casual registered\n",
    "\n",
    "# 결측치 평균으로 처리\n",
    "# X_full['casual'] = X_full['casual'].fillna(0)\n",
    "# X_full['registered'] = X_full['registered'].fillna(0)\n",
    "\n",
    "# X_full.isnull().sum()\n",
    "\n",
    "# 범주형 데이터 처리\n",
    "X_full = pd.get_dummies(X_full)\n",
    "# print(X_full.shape) # (17379, 17389)\n",
    "# print(X_full.head())\n",
    "\n",
    "# 데이터 분리\n",
    "X_train = X_full[:10886]\n",
    "X_test = X_full[10886:]\n",
    "# print(X_train.shape, X_test.shape)\n",
    "\n",
    "from sklearn.model_selection import train_test_split\n",
    "X_train, X_val, y_train, y_val = train_test_split(X_train, y, test_size=0.2, random_state=42)\n",
    "# print(help(train_test_split))\n",
    "# print(X_train.shape, X_val.shape, y_train.shape, y_val.shape)\n",
    "# (8708, 17389) (2178, 17389) (8708,) (2178,)\n",
    "\n",
    "# 모델 학습 및 검증\n",
    "from sklearn.ensemble import RandomForestRegressor\n",
    "# print(sklearn.ensemble.__all__)\n",
    "model = RandomForestRegressor(\n",
    "    n_estimators=50,    # default: 100 (줄이면 빨라짐)\n",
    "    max_depth=10,        # depth 제한\n",
    "    n_jobs=-1,           # 병렬 처리\n",
    "    random_state=42\n",
    ")\n",
    "model.fit(X_train, y_train)\n",
    "# print(help(RandomForestRegressor))\n",
    "y_val_pred = model.predict(X_val)\n",
    "\n",
    "from sklearn.metrics import mean_squared_log_error, r2_score\n",
    "# print(sklearn.metrics.__all__)\n",
    "rmsle = mean_squared_log_error(y_val, y_val_pred)\n",
    "r2 = r2_score(y_val, y_val_pred)\n",
    "print(rmsle, r2)\n",
    "\n",
    "# 결과 저장\n",
    "y_pred = model.predict(X_test)\n",
    "result = pd.DataFrame(y_pred, columns = ['count']).to_csv('result.csv', index=False)\n",
    "\n",
    "# 결과 확인\n",
    "result = pd.read_csv('result.csv')\n",
    "print(result)"
   ]
  },
  {
   "cell_type": "markdown",
   "id": "7e13ac97",
   "metadata": {
    "papermill": {
     "duration": 0.005123,
     "end_time": "2025-06-19T19:48:21.755267",
     "exception": false,
     "start_time": "2025-06-19T19:48:21.750144",
     "status": "completed"
    },
    "tags": []
   },
   "source": [
    "## EDA"
   ]
  },
  {
   "cell_type": "code",
   "execution_count": 5,
   "id": "0e0d0ba0",
   "metadata": {
    "execution": {
     "iopub.execute_input": "2025-06-19T19:48:21.767548Z",
     "iopub.status.busy": "2025-06-19T19:48:21.767206Z",
     "iopub.status.idle": "2025-06-19T19:48:21.775040Z",
     "shell.execute_reply": "2025-06-19T19:48:21.774083Z"
    },
    "papermill": {
     "duration": 0.016711,
     "end_time": "2025-06-19T19:48:21.777288",
     "exception": false,
     "start_time": "2025-06-19T19:48:21.760577",
     "status": "completed"
    },
    "tags": []
   },
   "outputs": [
    {
     "data": {
      "text/plain": [
       "((10886, 12), (6493, 9))"
      ]
     },
     "execution_count": 5,
     "metadata": {},
     "output_type": "execute_result"
    }
   ],
   "source": [
    "# 데이터 크기\n",
    "train.shape, test.shape"
   ]
  },
  {
   "cell_type": "code",
   "execution_count": 6,
   "id": "43a9242e",
   "metadata": {
    "execution": {
     "iopub.execute_input": "2025-06-19T19:48:21.790790Z",
     "iopub.status.busy": "2025-06-19T19:48:21.789747Z",
     "iopub.status.idle": "2025-06-19T19:48:21.803313Z",
     "shell.execute_reply": "2025-06-19T19:48:21.802422Z"
    },
    "papermill": {
     "duration": 0.022621,
     "end_time": "2025-06-19T19:48:21.805373",
     "exception": false,
     "start_time": "2025-06-19T19:48:21.782752",
     "status": "completed"
    },
    "tags": []
   },
   "outputs": [
    {
     "data": {
      "text/html": [
       "<div>\n",
       "<style scoped>\n",
       "    .dataframe tbody tr th:only-of-type {\n",
       "        vertical-align: middle;\n",
       "    }\n",
       "\n",
       "    .dataframe tbody tr th {\n",
       "        vertical-align: top;\n",
       "    }\n",
       "\n",
       "    .dataframe thead th {\n",
       "        text-align: right;\n",
       "    }\n",
       "</style>\n",
       "<table border=\"1\" class=\"dataframe\">\n",
       "  <thead>\n",
       "    <tr style=\"text-align: right;\">\n",
       "      <th></th>\n",
       "      <th>datetime</th>\n",
       "      <th>season</th>\n",
       "      <th>holiday</th>\n",
       "      <th>workingday</th>\n",
       "      <th>weather</th>\n",
       "      <th>temp</th>\n",
       "      <th>atemp</th>\n",
       "      <th>humidity</th>\n",
       "      <th>windspeed</th>\n",
       "      <th>casual</th>\n",
       "      <th>registered</th>\n",
       "      <th>count</th>\n",
       "    </tr>\n",
       "  </thead>\n",
       "  <tbody>\n",
       "    <tr>\n",
       "      <th>0</th>\n",
       "      <td>2011-01-01 00:00:00</td>\n",
       "      <td>1</td>\n",
       "      <td>0</td>\n",
       "      <td>0</td>\n",
       "      <td>1</td>\n",
       "      <td>9.84</td>\n",
       "      <td>14.395</td>\n",
       "      <td>81</td>\n",
       "      <td>0.0</td>\n",
       "      <td>3</td>\n",
       "      <td>13</td>\n",
       "      <td>16</td>\n",
       "    </tr>\n",
       "    <tr>\n",
       "      <th>1</th>\n",
       "      <td>2011-01-01 01:00:00</td>\n",
       "      <td>1</td>\n",
       "      <td>0</td>\n",
       "      <td>0</td>\n",
       "      <td>1</td>\n",
       "      <td>9.02</td>\n",
       "      <td>13.635</td>\n",
       "      <td>80</td>\n",
       "      <td>0.0</td>\n",
       "      <td>8</td>\n",
       "      <td>32</td>\n",
       "      <td>40</td>\n",
       "    </tr>\n",
       "  </tbody>\n",
       "</table>\n",
       "</div>"
      ],
      "text/plain": [
       "              datetime  season  holiday  workingday  weather  temp   atemp  \\\n",
       "0  2011-01-01 00:00:00       1        0           0        1  9.84  14.395   \n",
       "1  2011-01-01 01:00:00       1        0           0        1  9.02  13.635   \n",
       "\n",
       "   humidity  windspeed  casual  registered  count  \n",
       "0        81        0.0       3          13     16  \n",
       "1        80        0.0       8          32     40  "
      ]
     },
     "execution_count": 6,
     "metadata": {},
     "output_type": "execute_result"
    }
   ],
   "source": [
    "# 데이터 샘플\n",
    "train.head(2)"
   ]
  },
  {
   "cell_type": "code",
   "execution_count": 7,
   "id": "a61d9726",
   "metadata": {
    "execution": {
     "iopub.execute_input": "2025-06-19T19:48:21.818119Z",
     "iopub.status.busy": "2025-06-19T19:48:21.817786Z",
     "iopub.status.idle": "2025-06-19T19:48:21.829462Z",
     "shell.execute_reply": "2025-06-19T19:48:21.828627Z"
    },
    "papermill": {
     "duration": 0.02039,
     "end_time": "2025-06-19T19:48:21.831550",
     "exception": false,
     "start_time": "2025-06-19T19:48:21.811160",
     "status": "completed"
    },
    "tags": []
   },
   "outputs": [
    {
     "data": {
      "text/html": [
       "<div>\n",
       "<style scoped>\n",
       "    .dataframe tbody tr th:only-of-type {\n",
       "        vertical-align: middle;\n",
       "    }\n",
       "\n",
       "    .dataframe tbody tr th {\n",
       "        vertical-align: top;\n",
       "    }\n",
       "\n",
       "    .dataframe thead th {\n",
       "        text-align: right;\n",
       "    }\n",
       "</style>\n",
       "<table border=\"1\" class=\"dataframe\">\n",
       "  <thead>\n",
       "    <tr style=\"text-align: right;\">\n",
       "      <th></th>\n",
       "      <th>datetime</th>\n",
       "      <th>season</th>\n",
       "      <th>holiday</th>\n",
       "      <th>workingday</th>\n",
       "      <th>weather</th>\n",
       "      <th>temp</th>\n",
       "      <th>atemp</th>\n",
       "      <th>humidity</th>\n",
       "      <th>windspeed</th>\n",
       "    </tr>\n",
       "  </thead>\n",
       "  <tbody>\n",
       "    <tr>\n",
       "      <th>0</th>\n",
       "      <td>2011-01-20 00:00:00</td>\n",
       "      <td>1</td>\n",
       "      <td>0</td>\n",
       "      <td>1</td>\n",
       "      <td>1</td>\n",
       "      <td>10.66</td>\n",
       "      <td>11.365</td>\n",
       "      <td>56</td>\n",
       "      <td>26.0027</td>\n",
       "    </tr>\n",
       "    <tr>\n",
       "      <th>1</th>\n",
       "      <td>2011-01-20 01:00:00</td>\n",
       "      <td>1</td>\n",
       "      <td>0</td>\n",
       "      <td>1</td>\n",
       "      <td>1</td>\n",
       "      <td>10.66</td>\n",
       "      <td>13.635</td>\n",
       "      <td>56</td>\n",
       "      <td>0.0000</td>\n",
       "    </tr>\n",
       "  </tbody>\n",
       "</table>\n",
       "</div>"
      ],
      "text/plain": [
       "              datetime  season  holiday  workingday  weather   temp   atemp  \\\n",
       "0  2011-01-20 00:00:00       1        0           1        1  10.66  11.365   \n",
       "1  2011-01-20 01:00:00       1        0           1        1  10.66  13.635   \n",
       "\n",
       "   humidity  windspeed  \n",
       "0        56    26.0027  \n",
       "1        56     0.0000  "
      ]
     },
     "execution_count": 7,
     "metadata": {},
     "output_type": "execute_result"
    }
   ],
   "source": [
    "# 데이터 샘플\n",
    "test.head(2)"
   ]
  },
  {
   "cell_type": "markdown",
   "id": "f4cf0e07",
   "metadata": {
    "papermill": {
     "duration": 0.005699,
     "end_time": "2025-06-19T19:48:21.843302",
     "exception": false,
     "start_time": "2025-06-19T19:48:21.837603",
     "status": "completed"
    },
    "tags": []
   },
   "source": [
    "- casual, registered의 합이 count인 것을 확인할 수 있음 (test에는 없으므로 제거)"
   ]
  },
  {
   "cell_type": "code",
   "execution_count": 8,
   "id": "fa9967a0",
   "metadata": {
    "execution": {
     "iopub.execute_input": "2025-06-19T19:48:21.855839Z",
     "iopub.status.busy": "2025-06-19T19:48:21.855523Z",
     "iopub.status.idle": "2025-06-19T19:48:21.865012Z",
     "shell.execute_reply": "2025-06-19T19:48:21.863888Z"
    },
    "papermill": {
     "duration": 0.018071,
     "end_time": "2025-06-19T19:48:21.866953",
     "exception": false,
     "start_time": "2025-06-19T19:48:21.848882",
     "status": "completed"
    },
    "tags": []
   },
   "outputs": [
    {
     "data": {
      "text/plain": [
       "datetime      0\n",
       "season        0\n",
       "holiday       0\n",
       "workingday    0\n",
       "weather       0\n",
       "temp          0\n",
       "atemp         0\n",
       "humidity      0\n",
       "windspeed     0\n",
       "casual        0\n",
       "registered    0\n",
       "count         0\n",
       "dtype: int64"
      ]
     },
     "execution_count": 8,
     "metadata": {},
     "output_type": "execute_result"
    }
   ],
   "source": [
    "# 결측값 확인\n",
    "train.isnull().sum()"
   ]
  },
  {
   "cell_type": "code",
   "execution_count": 9,
   "id": "3f597854",
   "metadata": {
    "execution": {
     "iopub.execute_input": "2025-06-19T19:48:21.880751Z",
     "iopub.status.busy": "2025-06-19T19:48:21.879813Z",
     "iopub.status.idle": "2025-06-19T19:48:21.889022Z",
     "shell.execute_reply": "2025-06-19T19:48:21.887962Z"
    },
    "papermill": {
     "duration": 0.018138,
     "end_time": "2025-06-19T19:48:21.891033",
     "exception": false,
     "start_time": "2025-06-19T19:48:21.872895",
     "status": "completed"
    },
    "tags": []
   },
   "outputs": [
    {
     "data": {
      "text/plain": [
       "datetime      0\n",
       "season        0\n",
       "holiday       0\n",
       "workingday    0\n",
       "weather       0\n",
       "temp          0\n",
       "atemp         0\n",
       "humidity      0\n",
       "windspeed     0\n",
       "dtype: int64"
      ]
     },
     "execution_count": 9,
     "metadata": {},
     "output_type": "execute_result"
    }
   ],
   "source": [
    "# 결측값 확인\n",
    "test.isnull().sum()"
   ]
  },
  {
   "cell_type": "code",
   "execution_count": 10,
   "id": "6b0a50c2",
   "metadata": {
    "execution": {
     "iopub.execute_input": "2025-06-19T19:48:21.905357Z",
     "iopub.status.busy": "2025-06-19T19:48:21.904136Z",
     "iopub.status.idle": "2025-06-19T19:48:22.090972Z",
     "shell.execute_reply": "2025-06-19T19:48:22.089678Z"
    },
    "papermill": {
     "duration": 0.196115,
     "end_time": "2025-06-19T19:48:22.093075",
     "exception": false,
     "start_time": "2025-06-19T19:48:21.896960",
     "status": "completed"
    },
    "tags": []
   },
   "outputs": [
    {
     "data": {
      "text/plain": [
       "<AxesSubplot:>"
      ]
     },
     "execution_count": 10,
     "metadata": {},
     "output_type": "execute_result"
    },
    {
     "data": {
      "image/png": "[encoded data removed]",
      "text/plain": [
       "<Figure size 432x288 with 1 Axes>"
      ]
     },
     "metadata": {
      "needs_background": "light"
     },
     "output_type": "display_data"
    }
   ],
   "source": [
    "train['count'].hist()"
   ]
  },
  {
   "cell_type": "markdown",
   "id": "272c2c9b",
   "metadata": {
    "papermill": {
     "duration": 0.005952,
     "end_time": "2025-06-19T19:48:22.105405",
     "exception": false,
     "start_time": "2025-06-19T19:48:22.099453",
     "status": "completed"
    },
    "tags": []
   },
   "source": [
    "## 전처리"
   ]
  },
  {
   "cell_type": "code",
   "execution_count": 11,
   "id": "810b2250",
   "metadata": {
    "execution": {
     "iopub.execute_input": "2025-06-19T19:48:22.119994Z",
     "iopub.status.busy": "2025-06-19T19:48:22.119034Z",
     "iopub.status.idle": "2025-06-19T19:48:22.141325Z",
     "shell.execute_reply": "2025-06-19T19:48:22.140483Z"
    },
    "papermill": {
     "duration": 0.03193,
     "end_time": "2025-06-19T19:48:22.143563",
     "exception": false,
     "start_time": "2025-06-19T19:48:22.111633",
     "status": "completed"
    },
    "tags": []
   },
   "outputs": [],
   "source": [
    "# datetime\n",
    "\n",
    "train['datetime'] = pd.to_datetime(train['datetime'])\n",
    "test['datetime'] = pd.to_datetime(test['datetime'])\n",
    "\n",
    "train['year'] = train['datetime'].dt.year\n",
    "train['month'] = train['datetime'].dt.month\n",
    "train['day'] = train['datetime'].dt.day\n",
    "\n",
    "test['year'] = test['datetime'].dt.year\n",
    "test['month'] = test['datetime'].dt.month\n",
    "test['day'] = test['datetime'].dt.day\n",
    "\n",
    "train = train.drop('datetime', axis=1)\n",
    "test = test.drop('datetime', axis=1)"
   ]
  },
  {
   "cell_type": "code",
   "execution_count": 12,
   "id": "73f19ff6",
   "metadata": {
    "execution": {
     "iopub.execute_input": "2025-06-19T19:48:22.157726Z",
     "iopub.status.busy": "2025-06-19T19:48:22.157408Z",
     "iopub.status.idle": "2025-06-19T19:48:22.170856Z",
     "shell.execute_reply": "2025-06-19T19:48:22.169896Z"
    },
    "papermill": {
     "duration": 0.022733,
     "end_time": "2025-06-19T19:48:22.172645",
     "exception": false,
     "start_time": "2025-06-19T19:48:22.149912",
     "status": "completed"
    },
    "tags": []
   },
   "outputs": [
    {
     "data": {
      "text/html": [
       "<div>\n",
       "<style scoped>\n",
       "    .dataframe tbody tr th:only-of-type {\n",
       "        vertical-align: middle;\n",
       "    }\n",
       "\n",
       "    .dataframe tbody tr th {\n",
       "        vertical-align: top;\n",
       "    }\n",
       "\n",
       "    .dataframe thead th {\n",
       "        text-align: right;\n",
       "    }\n",
       "</style>\n",
       "<table border=\"1\" class=\"dataframe\">\n",
       "  <thead>\n",
       "    <tr style=\"text-align: right;\">\n",
       "      <th></th>\n",
       "      <th>season</th>\n",
       "      <th>holiday</th>\n",
       "      <th>workingday</th>\n",
       "      <th>weather</th>\n",
       "      <th>temp</th>\n",
       "      <th>atemp</th>\n",
       "      <th>humidity</th>\n",
       "      <th>windspeed</th>\n",
       "      <th>count</th>\n",
       "      <th>year</th>\n",
       "      <th>month</th>\n",
       "      <th>day</th>\n",
       "    </tr>\n",
       "  </thead>\n",
       "  <tbody>\n",
       "    <tr>\n",
       "      <th>0</th>\n",
       "      <td>1</td>\n",
       "      <td>0</td>\n",
       "      <td>0</td>\n",
       "      <td>1</td>\n",
       "      <td>9.84</td>\n",
       "      <td>14.395</td>\n",
       "      <td>81</td>\n",
       "      <td>0.0</td>\n",
       "      <td>16</td>\n",
       "      <td>2011</td>\n",
       "      <td>1</td>\n",
       "      <td>1</td>\n",
       "    </tr>\n",
       "  </tbody>\n",
       "</table>\n",
       "</div>"
      ],
      "text/plain": [
       "   season  holiday  workingday  weather  temp   atemp  humidity  windspeed  \\\n",
       "0       1        0           0        1  9.84  14.395        81        0.0   \n",
       "\n",
       "   count  year  month  day  \n",
       "0     16  2011      1    1  "
      ]
     },
     "execution_count": 12,
     "metadata": {},
     "output_type": "execute_result"
    }
   ],
   "source": [
    "# test에는 없는 컬럼 삭제\n",
    "train = train.drop(['casual', 'registered'], axis=1)\n",
    "train.head(1)"
   ]
  },
  {
   "cell_type": "code",
   "execution_count": 13,
   "id": "cdad01ab",
   "metadata": {
    "execution": {
     "iopub.execute_input": "2025-06-19T19:48:22.187077Z",
     "iopub.status.busy": "2025-06-19T19:48:22.186389Z",
     "iopub.status.idle": "2025-06-19T19:48:22.194114Z",
     "shell.execute_reply": "2025-06-19T19:48:22.193201Z"
    },
    "papermill": {
     "duration": 0.017048,
     "end_time": "2025-06-19T19:48:22.196145",
     "exception": false,
     "start_time": "2025-06-19T19:48:22.179097",
     "status": "completed"
    },
    "tags": []
   },
   "outputs": [
    {
     "data": {
      "text/plain": [
       "0         16\n",
       "1         40\n",
       "2         32\n",
       "3         13\n",
       "4          1\n",
       "        ... \n",
       "10881    336\n",
       "10882    241\n",
       "10883    168\n",
       "10884    129\n",
       "10885     88\n",
       "Name: count, Length: 10886, dtype: int64"
      ]
     },
     "execution_count": 13,
     "metadata": {},
     "output_type": "execute_result"
    }
   ],
   "source": [
    "# target 별도 저장\n",
    "target = train.pop('count')\n",
    "target"
   ]
  },
  {
   "cell_type": "code",
   "execution_count": 14,
   "id": "1037a964",
   "metadata": {
    "execution": {
     "iopub.execute_input": "2025-06-19T19:48:22.210603Z",
     "iopub.status.busy": "2025-06-19T19:48:22.210254Z",
     "iopub.status.idle": "2025-06-19T19:48:22.221713Z",
     "shell.execute_reply": "2025-06-19T19:48:22.220814Z"
    },
    "papermill": {
     "duration": 0.021079,
     "end_time": "2025-06-19T19:48:22.223880",
     "exception": false,
     "start_time": "2025-06-19T19:48:22.202801",
     "status": "completed"
    },
    "tags": []
   },
   "outputs": [
    {
     "data": {
      "text/plain": [
       "((8708, 11), (2178, 11), (8708,), (2178,))"
      ]
     },
     "execution_count": 14,
     "metadata": {},
     "output_type": "execute_result"
    }
   ],
   "source": [
    "from sklearn.model_selection import train_test_split\n",
    "\n",
    "X_train, X_val, y_train, y_val = train_test_split(train, target, test_size=0.2, random_state=2023)\n",
    "X_train.shape, X_val.shape, y_train.shape, y_val.shape"
   ]
  },
  {
   "cell_type": "markdown",
   "id": "67ab21a9",
   "metadata": {
    "papermill": {
     "duration": 0.00635,
     "end_time": "2025-06-19T19:48:22.237258",
     "exception": false,
     "start_time": "2025-06-19T19:48:22.230908",
     "status": "completed"
    },
    "tags": []
   },
   "source": [
    "## 선형회귀 모델"
   ]
  },
  {
   "cell_type": "code",
   "execution_count": 15,
   "id": "372ab624",
   "metadata": {
    "execution": {
     "iopub.execute_input": "2025-06-19T19:48:22.251720Z",
     "iopub.status.busy": "2025-06-19T19:48:22.251112Z",
     "iopub.status.idle": "2025-06-19T19:48:22.255275Z",
     "shell.execute_reply": "2025-06-19T19:48:22.254402Z"
    },
    "papermill": {
     "duration": 0.013839,
     "end_time": "2025-06-19T19:48:22.257488",
     "exception": false,
     "start_time": "2025-06-19T19:48:22.243649",
     "status": "completed"
    },
    "tags": []
   },
   "outputs": [],
   "source": [
    "# 평가\n",
    "from sklearn.metrics import r2_score"
   ]
  },
  {
   "cell_type": "code",
   "execution_count": 16,
   "id": "2fe7e308",
   "metadata": {
    "execution": {
     "iopub.execute_input": "2025-06-19T19:48:22.273945Z",
     "iopub.status.busy": "2025-06-19T19:48:22.273473Z",
     "iopub.status.idle": "2025-06-19T19:48:22.303514Z",
     "shell.execute_reply": "2025-06-19T19:48:22.301828Z"
    },
    "papermill": {
     "duration": 0.045003,
     "end_time": "2025-06-19T19:48:22.310551",
     "exception": false,
     "start_time": "2025-06-19T19:48:22.265548",
     "status": "completed"
    },
    "tags": []
   },
   "outputs": [
    {
     "data": {
      "text/plain": [
       "0.30780476926281297"
      ]
     },
     "execution_count": 16,
     "metadata": {},
     "output_type": "execute_result"
    }
   ],
   "source": [
    "from sklearn.linear_model import LinearRegression\n",
    "lr = LinearRegression()\n",
    "lr.fit(X_train, y_train)\n",
    "pred = lr.predict(X_val)\n",
    "r2_score(y_val, pred)"
   ]
  },
  {
   "cell_type": "markdown",
   "id": "bdc827b8",
   "metadata": {
    "papermill": {
     "duration": 0.02996,
     "end_time": "2025-06-19T19:48:22.378696",
     "exception": false,
     "start_time": "2025-06-19T19:48:22.348736",
     "status": "completed"
    },
    "tags": []
   },
   "source": [
    "## 랜덤포레스트"
   ]
  },
  {
   "cell_type": "code",
   "execution_count": 17,
   "id": "28007408",
   "metadata": {
    "execution": {
     "iopub.execute_input": "2025-06-19T19:48:22.420909Z",
     "iopub.status.busy": "2025-06-19T19:48:22.419981Z",
     "iopub.status.idle": "2025-06-19T19:48:24.912867Z",
     "shell.execute_reply": "2025-06-19T19:48:24.911973Z"
    },
    "papermill": {
     "duration": 2.507665,
     "end_time": "2025-06-19T19:48:24.914866",
     "exception": false,
     "start_time": "2025-06-19T19:48:22.407201",
     "status": "completed"
    },
    "tags": []
   },
   "outputs": [
    {
     "data": {
      "text/plain": [
       "0.44060781500743296"
      ]
     },
     "execution_count": 17,
     "metadata": {},
     "output_type": "execute_result"
    }
   ],
   "source": [
    "from sklearn.ensemble import RandomForestRegressor\n",
    "rf = RandomForestRegressor()\n",
    "rf.fit(X_train, y_train)\n",
    "pred = rf.predict(X_val)\n",
    "r2_score(y_val, pred)"
   ]
  },
  {
   "cell_type": "markdown",
   "id": "2074b17d",
   "metadata": {
    "papermill": {
     "duration": 0.007119,
     "end_time": "2025-06-19T19:48:24.929320",
     "exception": false,
     "start_time": "2025-06-19T19:48:24.922201",
     "status": "completed"
    },
    "tags": []
   },
   "source": [
    "## XGBoost 모델"
   ]
  },
  {
   "cell_type": "code",
   "execution_count": 18,
   "id": "aa6cfd36",
   "metadata": {
    "execution": {
     "iopub.execute_input": "2025-06-19T19:48:24.944395Z",
     "iopub.status.busy": "2025-06-19T19:48:24.944001Z",
     "iopub.status.idle": "2025-06-19T19:48:25.794949Z",
     "shell.execute_reply": "2025-06-19T19:48:25.793912Z"
    },
    "papermill": {
     "duration": 0.861341,
     "end_time": "2025-06-19T19:48:25.797452",
     "exception": false,
     "start_time": "2025-06-19T19:48:24.936111",
     "status": "completed"
    },
    "tags": []
   },
   "outputs": [
    {
     "data": {
      "text/plain": [
       "0.40839958233431084"
      ]
     },
     "execution_count": 18,
     "metadata": {},
     "output_type": "execute_result"
    }
   ],
   "source": [
    "from xgboost import XGBRegressor\n",
    "xgb = XGBRegressor()\n",
    "xgb.fit(X_train, y_train)\n",
    "pred = xgb.predict(X_val)\n",
    "r2_score(y_val, pred)"
   ]
  },
  {
   "cell_type": "code",
   "execution_count": 19,
   "id": "56816436",
   "metadata": {
    "execution": {
     "iopub.execute_input": "2025-06-19T19:48:25.812118Z",
     "iopub.status.busy": "2025-06-19T19:48:25.811767Z",
     "iopub.status.idle": "2025-06-19T19:48:33.096119Z",
     "shell.execute_reply": "2025-06-19T19:48:33.095367Z"
    },
    "papermill": {
     "duration": 7.294845,
     "end_time": "2025-06-19T19:48:33.098849",
     "exception": false,
     "start_time": "2025-06-19T19:48:25.804004",
     "status": "completed"
    },
    "tags": []
   },
   "outputs": [
    {
     "data": {
      "text/plain": [
       "0.4473182182516243"
      ]
     },
     "execution_count": 19,
     "metadata": {},
     "output_type": "execute_result"
    }
   ],
   "source": [
    "# 하이퍼파라미터 \n",
    "from xgboost import XGBRegressor\n",
    "xgb = XGBRegressor(n_estimators=500, learning_rate=0.01, max_depth=9)\n",
    "xgb.fit(X_train, y_train)\n",
    "pred = xgb.predict(X_val)\n",
    "r2_score(y_val, pred)"
   ]
  },
  {
   "cell_type": "markdown",
   "id": "93ecfe7c",
   "metadata": {
    "papermill": {
     "duration": 0.006461,
     "end_time": "2025-06-19T19:48:33.112200",
     "exception": false,
     "start_time": "2025-06-19T19:48:33.105739",
     "status": "completed"
    },
    "tags": []
   },
   "source": [
    "## test 데이터 예측"
   ]
  },
  {
   "cell_type": "code",
   "execution_count": 20,
   "id": "45bf770b",
   "metadata": {
    "execution": {
     "iopub.execute_input": "2025-06-19T19:48:33.126876Z",
     "iopub.status.busy": "2025-06-19T19:48:33.126580Z",
     "iopub.status.idle": "2025-06-19T19:48:33.199021Z",
     "shell.execute_reply": "2025-06-19T19:48:33.196255Z"
    },
    "papermill": {
     "duration": 0.082766,
     "end_time": "2025-06-19T19:48:33.201556",
     "exception": false,
     "start_time": "2025-06-19T19:48:33.118790",
     "status": "completed"
    },
    "tags": []
   },
   "outputs": [
    {
     "data": {
      "text/plain": [
       "array([ 86.14312,  67.58316,  67.58316, ..., 146.57967, 109.61407,\n",
       "       178.52168], dtype=float32)"
      ]
     },
     "execution_count": 20,
     "metadata": {},
     "output_type": "execute_result"
    }
   ],
   "source": [
    "# 예측\n",
    "pred = xgb.predict(test)\n",
    "pred"
   ]
  },
  {
   "cell_type": "code",
   "execution_count": 21,
   "id": "ae5cd47e",
   "metadata": {
    "execution": {
     "iopub.execute_input": "2025-06-19T19:48:33.216331Z",
     "iopub.status.busy": "2025-06-19T19:48:33.216018Z",
     "iopub.status.idle": "2025-06-19T19:48:33.243448Z",
     "shell.execute_reply": "2025-06-19T19:48:33.242523Z"
    },
    "papermill": {
     "duration": 0.037378,
     "end_time": "2025-06-19T19:48:33.245654",
     "exception": false,
     "start_time": "2025-06-19T19:48:33.208276",
     "status": "completed"
    },
    "tags": []
   },
   "outputs": [],
   "source": [
    "# csv 파일 생성\n",
    "test = pd.read_csv(\"/kaggle/input/bike-sharing-demand/test.csv\")\n",
    "\n",
    "submit = pd.DataFrame({\n",
    "    'datetime': test['datetime'],\n",
    "    'count': pred\n",
    "})\n",
    "submit.to_csv(\"submission.csv\", index=False)"
   ]
  },
  {
   "cell_type": "code",
   "execution_count": 22,
   "id": "f2fdf1e1",
   "metadata": {
    "execution": {
     "iopub.execute_input": "2025-06-19T19:48:33.261244Z",
     "iopub.status.busy": "2025-06-19T19:48:33.260897Z",
     "iopub.status.idle": "2025-06-19T19:48:33.275508Z",
     "shell.execute_reply": "2025-06-19T19:48:33.274333Z"
    },
    "papermill": {
     "duration": 0.024925,
     "end_time": "2025-06-19T19:48:33.277934",
     "exception": false,
     "start_time": "2025-06-19T19:48:33.253009",
     "status": "completed"
    },
    "tags": []
   },
   "outputs": [
    {
     "name": "stdout",
     "output_type": "stream",
     "text": [
      "                 datetime      count\n",
      "0     2011-01-20 00:00:00   86.14312\n",
      "1     2011-01-20 01:00:00   67.58316\n",
      "2     2011-01-20 02:00:00   67.58316\n",
      "3     2011-01-20 03:00:00   79.79623\n",
      "4     2011-01-20 04:00:00   79.79623\n",
      "...                   ...        ...\n",
      "6488  2012-12-31 19:00:00  148.04665\n",
      "6489  2012-12-31 20:00:00  148.04665\n",
      "6490  2012-12-31 21:00:00  146.57967\n",
      "6491  2012-12-31 22:00:00  109.61407\n",
      "6492  2012-12-31 23:00:00  178.52168\n",
      "\n",
      "[6493 rows x 2 columns]\n",
      "(6493, 2) (6493, 9)\n"
     ]
    }
   ],
   "source": [
    "# 점검\n",
    "print(pd.read_csv(\"submission.csv\"))\n",
    "print(submit.shape, test.shape)"
   ]
  }
 ],
 "metadata": {
  "kaggle": {
   "accelerator": "none",
   "dataSources": [
    {
     "databundleVersionId": 32624,
     "sourceId": 3948,
     "sourceType": "competition"
    }
   ],
   "dockerImageVersionId": 30301,
   "isGpuEnabled": false,
   "isInternetEnabled": false,
   "language": "python",
   "sourceType": "notebook"
  },
  "kernelspec": {
   "display_name": "Python 3",
   "language": "python",
   "name": "python3"
  },
  "language_info": {
   "codemirror_mode": {
    "name": "ipython",
    "version": 3
   },
   "file_extension": ".py",
   "mimetype": "text/x-python",
   "name": "python",
   "nbconvert_exporter": "python",
   "pygments_lexer": "ipython3",
   "version": "3.7.12"
  },
  "papermill": {
   "default_parameters": {},
   "duration": 22.09885,
   "end_time": "2025-06-19T19:48:33.905480",
   "environment_variables": {},
   "exception": null,
   "input_path": "__notebook__.ipynb",
   "output_path": "__notebook__.ipynb",
   "parameters": {},
   "start_time": "2025-06-19T19:48:11.806630",
   "version": "2.3.4"
  }
 },
 "nbformat": 4,
 "nbformat_minor": 5
}
